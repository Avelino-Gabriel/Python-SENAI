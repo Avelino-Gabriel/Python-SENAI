{
 "cells": [
  {
   "cell_type": "code",
   "execution_count": 1,
   "id": "d81ab25e",
   "metadata": {},
   "outputs": [
    {
     "name": "stdout",
     "output_type": "stream",
     "text": [
      "O faturamento da loja foi 1000\n"
     ]
    }
   ],
   "source": [
    "faturamento = 1000\n",
    "print('O faturamento da loja foi ' + str(faturamento))"
   ]
  },
  {
   "cell_type": "code",
   "execution_count": 2,
   "id": "f2acfc27",
   "metadata": {},
   "outputs": [
    {
     "name": "stdout",
     "output_type": "stream",
     "text": [
      "O faturamento da loja foi  1000\n"
     ]
    }
   ],
   "source": [
    "faturamento = 1000\n",
    "print('O faturamento da loja foi ', faturamento)\n"
   ]
  },
  {
   "cell_type": "code",
   "execution_count": 3,
   "id": "5a23196f",
   "metadata": {},
   "outputs": [
    {
     "data": {
      "text/plain": [
       "int"
      ]
     },
     "execution_count": 3,
     "metadata": {},
     "output_type": "execute_result"
    }
   ],
   "source": [
    "type(faturamento)"
   ]
  },
  {
   "cell_type": "code",
   "execution_count": 4,
   "id": "98999e21",
   "metadata": {},
   "outputs": [
    {
     "name": "stdout",
     "output_type": "stream",
     "text": [
      "O faturamento da loja foi 1000\n"
     ]
    }
   ],
   "source": [
    "faturamento = 1000\n",
    "custo = 500\n",
    "\n",
    "print('O faturamento da loja foi {}'.format(faturamento))"
   ]
  },
  {
   "cell_type": "code",
   "execution_count": 5,
   "id": "16c5f249",
   "metadata": {},
   "outputs": [
    {
     "name": "stdout",
     "output_type": "stream",
     "text": [
      "O faturamento da loja foi 1000 e o custo foi 500\n"
     ]
    }
   ],
   "source": [
    "faturamento = 1000\n",
    "custo = 500\n",
    "\n",
    "print('O faturamento da loja foi {} e o custo foi {}'.format(faturamento, custo))"
   ]
  },
  {
   "cell_type": "code",
   "execution_count": null,
   "id": "3d8d4435",
   "metadata": {},
   "outputs": [],
   "source": []
  }
 ],
 "metadata": {
  "kernelspec": {
   "display_name": "Python 3 (ipykernel)",
   "language": "python",
   "name": "python3"
  },
  "language_info": {
   "codemirror_mode": {
    "name": "ipython",
    "version": 3
   },
   "file_extension": ".py",
   "mimetype": "text/x-python",
   "name": "python",
   "nbconvert_exporter": "python",
   "pygments_lexer": "ipython3",
   "version": "3.11.3"
  }
 },
 "nbformat": 4,
 "nbformat_minor": 5
}
