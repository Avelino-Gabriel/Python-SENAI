{
 "cells": [
  {
   "cell_type": "markdown",
   "id": "a220e4e2",
   "metadata": {},
   "source": [
    "# Exercícios do Módulo 5 - Metódo .format"
   ]
  },
  {
   "cell_type": "markdown",
   "id": "737f7ee0",
   "metadata": {},
   "source": [
    "## Crie programas em python para atender as especificações abaixo."
   ]
  },
  {
   "cell_type": "markdown",
   "id": "33904d99",
   "metadata": {},
   "source": [
    "#####\n",
    "\n",
    "\n",
    "\n",
    "\n",
    "\n",
    "\n"
   ]
  },
  {
   "cell_type": "markdown",
   "id": "6f2fae2c",
   "metadata": {},
   "source": [
    "####"
   ]
  },
  {
   "cell_type": "markdown",
   "id": "b9d7d65b",
   "metadata": {},
   "source": [
    "# 1 - Faça um programa que peça o nome de um país, a capital e o idioma oficial e exiba uma mensagem com essas informações."
   ]
  },
  {
   "cell_type": "code",
   "execution_count": 1,
   "id": "1b62af10",
   "metadata": {},
   "outputs": [
    {
     "name": "stdout",
     "output_type": "stream",
     "text": [
      "País: Brasil\n",
      "Capital: Brasília\n",
      "Idioma Oficial: Português\n",
      "O país escolhido foi: Brasil. \n",
      "Sua capital é: Brasília. \n",
      "Seu idioma principal é Português.\n"
     ]
    }
   ],
   "source": [
    "pais = str(input('País: ')).strip().title()\n",
    "capital = str(input('Capital: ')).strip().title()\n",
    "idioma = str(input('Idioma Oficial: ')).strip()\n",
    "\n",
    "print('''O país escolhido foi: {}. \n",
    "Sua capital é: {}. \n",
    "Seu idioma principal é {}.'''.format(pais, capital, idioma))"
   ]
  },
  {
   "cell_type": "markdown",
   "id": "5d617672",
   "metadata": {},
   "source": [
    "# 2 - Escreva um programa que peça dois números e exiba a soma deles."
   ]
  },
  {
   "cell_type": "code",
   "execution_count": 2,
   "id": "2c842c57",
   "metadata": {},
   "outputs": [
    {
     "name": "stdout",
     "output_type": "stream",
     "text": [
      "Digite o primeiro número: 3\n",
      "Digite o segundo número: 2\n",
      "O resultado da soma entre 3.0 e 2.0 é: 5.0\n"
     ]
    }
   ],
   "source": [
    "num1 = float(input('Digite o primeiro número: '))\n",
    "num2 = float(input('Digite o segundo número: '))\n",
    "\n",
    "print('O resultado da soma entre {} e {} é: {}'.format(num1, num2, num1 + num2))"
   ]
  },
  {
   "cell_type": "markdown",
   "id": "78770cac",
   "metadata": {},
   "source": [
    "# 3 - Faça um programa que solicite o nome e a idade do usuário e exiba uma mensagem personalizada."
   ]
  },
  {
   "cell_type": "code",
   "execution_count": 3,
   "id": "85cc64da",
   "metadata": {},
   "outputs": [
    {
     "name": "stdout",
     "output_type": "stream",
     "text": [
      "Nome: Gabriel\n",
      "Idade: 19\n",
      "Seu nome é Gabriel e tem 19 anos.\n"
     ]
    }
   ],
   "source": [
    "nome = str(input('Nome: ')).strip().title()\n",
    "idade = int(input('Idade: '))\n",
    "\n",
    "print('Seu nome é {} e tem {} anos.'.format(nome, idade))"
   ]
  },
  {
   "cell_type": "markdown",
   "id": "259a4bbf",
   "metadata": {},
   "source": [
    "# 4 - Crie duas variáveis para armazenar valores numéricos e exiba o resultado da soma."
   ]
  },
  {
   "cell_type": "code",
   "execution_count": 4,
   "id": "2d4313e9",
   "metadata": {},
   "outputs": [
    {
     "name": "stdout",
     "output_type": "stream",
     "text": [
      "Primeiro Número: 2\n",
      "Segundo Número: 3\n",
      "2 + 3 = 5\n"
     ]
    }
   ],
   "source": [
    "num1 = int(input('Primeiro Número: '))\n",
    "num2 = int(input('Segundo Número: '))\n",
    "\n",
    "soma = num1 + num2\n",
    "\n",
    "print('{} + {} = {}'.format(num1, num2, soma))"
   ]
  },
  {
   "cell_type": "markdown",
   "id": "a4b642fa",
   "metadata": {},
   "source": [
    "# 5 -  Escreva um programa que peça o nome do usuário e exiba uma mensagem de boas-vindas."
   ]
  },
  {
   "cell_type": "code",
   "execution_count": 6,
   "id": "dfee06bd",
   "metadata": {},
   "outputs": [
    {
     "name": "stdout",
     "output_type": "stream",
     "text": [
      "Digite seu nome: Gabriel\n",
      "Bem-vindo, Gabriel!\n"
     ]
    }
   ],
   "source": [
    "nome = str(input('Digite seu nome: ')).strip().title()\n",
    "\n",
    "print('Bem-vindo, {}!'.format(nome))"
   ]
  },
  {
   "cell_type": "markdown",
   "id": "1aa984cf",
   "metadata": {},
   "source": [
    "#  6 - Você foi contratado para desenvolver um programa que auxilie um petshop a gerar mensagens personalizadas para seus clientes. O programa deve solicitar algumas informações do cliente e, em seguida, exibir uma mensagem customizada com base nos dados fornecidos.\n",
    "\n",
    "O programa deve conter as seguintes etapas:\n",
    "\n",
    "Solicitar ao usuário que digite seu nome, o nome do seu pet (animal de estimação) e a espécie do pet (por exemplo, cachorro, gato, pássaro, etc.).\n",
    "\n",
    "Em seguida, peça ao usuário que informe a idade do pet em anos.\n",
    "\n",
    "Solicite também ao usuário que informe se o pet já tomou todas as vacinas obrigatórias (responda com \"Sim\" ou \"Não\").\n",
    "\n",
    "Com base nas informações coletadas, o programa deve gerar uma mensagem personalizada para o cliente. A mensagem deve incluir o nome do cliente, o nome do pet, a espécie do pet, sua idade em anos e se já tomou todas as vacinas obrigatórias."
   ]
  },
  {
   "cell_type": "code",
   "execution_count": 7,
   "id": "72c15eff",
   "metadata": {},
   "outputs": [
    {
     "name": "stdout",
     "output_type": "stream",
     "text": [
      "Nome: Gabriel\n",
      "Nome do Pet: Pituca\n",
      "Espécie: Cachorro\n",
      "Idade do Pet: 9\n",
      "Tomou todas as vacinas obrigatórias?: Sim\n",
      "Nome do Dono: Gabriel\n",
      "Nome do Pet: Pituca\n",
      "Espécie: \n",
      "Idade do Pet: \n",
      "Tomou todas as vacinas?: Cachorro\n"
     ]
    }
   ],
   "source": [
    "nome = str(input('Nome: '))\n",
    "animal = str(input('Nome do Pet: '))\n",
    "especie = str(input('Espécie: '))\n",
    "idade_animal = str(input('Idade do Pet: '))\n",
    "vacina = str(input('Tomou todas as vacinas obrigatórias?: '))\n",
    "\n",
    "print('''Nome do Dono: {}\n",
    "Nome do Pet: {}\n",
    "Espécie: \n",
    "Idade do Pet: \n",
    "Tomou todas as vacinas?: {}'''.format(nome, animal, especie, idade_animal, vacina))"
   ]
  },
  {
   "cell_type": "code",
   "execution_count": null,
   "id": "ce351ec3",
   "metadata": {},
   "outputs": [],
   "source": []
  }
 ],
 "metadata": {
  "kernelspec": {
   "display_name": "Python 3 (ipykernel)",
   "language": "python",
   "name": "python3"
  },
  "language_info": {
   "codemirror_mode": {
    "name": "ipython",
    "version": 3
   },
   "file_extension": ".py",
   "mimetype": "text/x-python",
   "name": "python",
   "nbconvert_exporter": "python",
   "pygments_lexer": "ipython3",
   "version": "3.11.3"
  }
 },
 "nbformat": 4,
 "nbformat_minor": 5
}
