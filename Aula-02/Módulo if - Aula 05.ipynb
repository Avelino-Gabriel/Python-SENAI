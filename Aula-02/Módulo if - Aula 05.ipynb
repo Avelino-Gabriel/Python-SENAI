{
 "cells": [
  {
   "cell_type": "markdown",
   "metadata": {},
   "source": [
    "# Casos com várias condições/comparações\n",
    "\n",
    "### Estrutura:\n",
    "\n",
    "Quando temos várias comparações, ao invés de criar if dentro de if podemos usar os operadores \"and\" e \"or\" para tratar essas condições.\n",
    "\n",
    "Funciona assim:"
   ]
  },
  {
   "cell_type": "raw",
   "metadata": {},
   "source": [
    "if condicao_1 and condicao_2:\n",
    "    vai ser executado se as 2 condições forem verdadeiras ao mesmo tempo\n",
    "\n",
    "outro caso:\n",
    "\n",
    "if condicao_1 or condicao_2:\n",
    "    vai ser executado se pelo menos uma das condições forem verdadeiras"
   ]
  },
  {
   "cell_type": "markdown",
   "metadata": {},
   "source": [
    "### Exemplo\n",
    "\n",
    "Vamos voltar ao exemplo de cálculo de meta de vendas dos funcionários. Muitas empresas atribuem bonificação do salário dos funcionários de acordo com o resultado do funcionário e também com o resultado da empresa como um todo.\n",
    "\n",
    "Nesse caso, a regra funciona da seguinte forma:\n",
    "- Se o funcionário vendeu mais do que a meta de vendas e a loja bateu a meta de vendas da loja, o funcionário ganha 3% do que ele vendeu em forma de bônus.\n",
    "- Caso o funcionário tenha batido a meta de vendas individual dele, mas a loja não tenha batido a meta de vendas da loja como um todo, o funcionário não ganha bônus."
   ]
  },
  {
   "cell_type": "code",
   "execution_count": 2,
   "metadata": {},
   "outputs": [
    {
     "name": "stdout",
     "output_type": "stream",
     "text": [
      "A loja não atingiu a meta. Logo, não haverá bônus para o funcionário.\n"
     ]
    }
   ],
   "source": [
    "meta_loja = float(input('Meta de Vendas da Loja: '))\n",
    "vendas_loja = float(input('Valor de Vendas da Loja: '))\n",
    "nome_funcionario = str(input('Nome do Funcionário: '))\n",
    "meta_funcionario = float(input('Meta de Vendas do Funcionário: '))\n",
    "vendas_funcionario = float(input('Valor de Vendas do Funcionário: '))\n",
    "\n",
    "if vendas_funcionario >= meta_funcionario and vendas_loja >= meta_loja:\n",
    "    status_bonus = 'CONCEDIDO'\n",
    "    bonus = vendas_funcionario * 3 / 100\n",
    "    print(f'''A meta da loja foi alcançada e o vendedor {nome_funcionario} também atingiu sua meta.\n",
    "Logo, receberá R${bonus:.2f}''')\n",
    "else:\n",
    "    status_bonus = 'NÃO CONCEDIDO'\n",
    "    if vendas_funcionario < meta_funcionario:\n",
    "        nao_atingiu = f'{nome_funcionario} não atingiu a meta'\n",
    "    elif vendas_loja < meta_loja:\n",
    "        nao_atingiu = 'A loja não atingiu a meta'\n",
    "    else:\n",
    "        nao_atingiu = 'Ninguém atingiu a meta'\n",
    "    \n",
    "    print(f'{nao_atingiu}. Logo, não haverá bônus para o funcionário.')\n",
    "        "
   ]
  },
  {
   "cell_type": "markdown",
   "metadata": {},
   "source": [
    "### Outro exemplo\n",
    "\n",
    "Agora vamos levar essa análise mais a fundo.\n",
    "\n",
    "Nessa empresa, existe um outro caso também que garante que o funcionário ganhe um bônus, independente das vendas que ele fez naquele mês.\n",
    "\n",
    "Todo mês os diretores da empresa fazem uma avaliação qualitativa de todos os funcionários. Nessa avaliação os diretores dão uma nota de 0 a 10 para cada funcionário. Se a nota do funcionário for 9 ou 10, ele também ganha o bônus de 3% do valor de vendas. (os bônus não são cumulativos)"
   ]
  },
  {
   "cell_type": "code",
   "execution_count": 4,
   "metadata": {},
   "outputs": [
    {
     "name": "stdout",
     "output_type": "stream",
     "text": [
      "O funcionário Gabriel não atingiu sua meta, porém, opteve nota entre 9 e 10.\n",
      "Logo, receberá R$150.00\n"
     ]
    }
   ],
   "source": [
    "meta_loja = float(input('Meta de Vendas da Loja: '))\n",
    "vendas_loja = float(input('Valor de Vendas da Loja: '))\n",
    "nome_funcionario = str(input('Nome do Funcionário: '))\n",
    "meta_funcionario = float(input('Meta de Vendas do Funcionário: '))\n",
    "vendas_funcionario = float(input('Valor de Vendas do Funcionário: '))\n",
    "nota = float(input('Avaliação do Funcionário: '))\n",
    "\n",
    "if (vendas_funcionario >= meta_funcionario and vendas_loja >= meta_loja):\n",
    "    status_bonus = 'CONCEDIDO'\n",
    "    bonus = vendas_funcionario * 3 / 100\n",
    "    print(f'A meta da loja foi alcançada e o vendedor {nome_funcionario} também atingiu sua meta.')\n",
    "elif nota >= 9:\n",
    "    status_bonus = 'CONCEDIDO'\n",
    "    bonus = vendas_funcionario * 3 / 100\n",
    "    print(f'O funcionário {nome_funcionario} não atingiu sua meta, porém, opteve nota entre 9 e 10.')\n",
    "else:\n",
    "    status_bonus = 'NÃO CONCEDIDO'\n",
    "    if vendas_funcionario < meta_funcionario:\n",
    "        nao_atingiu = f'{nome_funcionario} não atingiu a meta'\n",
    "    elif vendas_loja < meta_loja:\n",
    "        nao_atingiu = 'A loja não atingiu a meta'\n",
    "    else:\n",
    "        nao_atingiu = 'Ninguém atingiu a meta'\n",
    "    \n",
    "    print(f'{nao_atingiu}')\n",
    "print(f'Logo, receberá R${bonus:.2f}' if status_bonus == 'CONCEDIDO' else f'Logo, não haverá bônus para o funcionário.')"
   ]
  }
 ],
 "metadata": {
  "kernelspec": {
   "display_name": "Python 3",
   "language": "python",
   "name": "python3"
  },
  "language_info": {
   "codemirror_mode": {
    "name": "ipython",
    "version": 3
   },
   "file_extension": ".py",
   "mimetype": "text/x-python",
   "name": "python",
   "nbconvert_exporter": "python",
   "pygments_lexer": "ipython3",
   "version": "3.11.4"
  }
 },
 "nbformat": 4,
 "nbformat_minor": 4
}
