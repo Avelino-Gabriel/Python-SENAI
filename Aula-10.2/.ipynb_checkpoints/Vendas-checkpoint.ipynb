{
 "cells": [
  {
   "cell_type": "code",
   "execution_count": 2,
   "id": "3be92e01",
   "metadata": {},
   "outputs": [
    {
     "name": "stdout",
     "output_type": "stream",
     "text": [
      "0.5\n",
      "['João', 'Julia', 'Ana']\n"
     ]
    }
   ],
   "source": [
    "meta = 10000\n",
    "vendas = {\n",
    "    'João': 15000,\n",
    "    'Julia': 27000,\n",
    "    'Marcus': 9900,\n",
    "    'Maria': 3750,\n",
    "    'Ana': 10300,\n",
    "    'Alon': 7870,\n",
    "}\n",
    "\n",
    "\n",
    "def calculo_meta(meta,vendas):\n",
    "    bateram_meta = []\n",
    "    for vendedor in vendas:\n",
    "        if vendas[vendedor] >= meta:\n",
    "            bateram_meta.append(vendedor)\n",
    "    perc_baterammeta = len(bateram_meta)/len(vendas)\n",
    "    return perc_baterammeta, bateram_meta\n",
    "\n",
    "    \n",
    "p_meta, vendedores_acima_meta = calculo_meta(meta, vendas)\n",
    "print(p_meta)\n",
    "print(vendedores_acima_meta)"
   ]
  },
  {
   "cell_type": "code",
   "execution_count": null,
   "id": "577cbfeb",
   "metadata": {},
   "outputs": [],
   "source": []
  }
 ],
 "metadata": {
  "kernelspec": {
   "display_name": "Python 3 (ipykernel)",
   "language": "python",
   "name": "python3"
  },
  "language_info": {
   "codemirror_mode": {
    "name": "ipython",
    "version": 3
   },
   "file_extension": ".py",
   "mimetype": "text/x-python",
   "name": "python",
   "nbconvert_exporter": "python",
   "pygments_lexer": "ipython3",
   "version": "3.11.3"
  }
 },
 "nbformat": 4,
 "nbformat_minor": 5
}
