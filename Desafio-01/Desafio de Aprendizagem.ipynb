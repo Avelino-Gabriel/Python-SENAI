{
 "cells": [
  {
   "cell_type": "markdown",
   "id": "3ca3903d",
   "metadata": {},
   "source": [
    "# Desafio de Aprendizagem - Biblioteca SENAI \"Morvan Figueiredo\""
   ]
  },
  {
   "cell_type": "markdown",
   "id": "240591c0",
   "metadata": {},
   "source": [
    "## Você está encarregado de criar um sistema de gerenciamento de empréstimos de livros, coleta de avaliações de livros pelos alunos e registro de avaliações do atendimento da biblioteca para a Escola SENAI \"Morvan Figueiredo\". \n",
    "## Utilize o programa fornecido abaixo e siga as instruções para realizar as tarefas."
   ]
  },
  {
   "cell_type": "markdown",
   "id": "bdf3496d",
   "metadata": {},
   "source": [
    "### Ao finalizar as tarefas, reflita sobre o processo e explique como o programa demonstra o uso de estruturas de dados, iterações e interações com o usuário para gerenciar empréstimos, avaliações e atendimento da biblioteca."
   ]
  },
  {
   "cell_type": "markdown",
   "id": "0d52d3cd",
   "metadata": {},
   "source": [
    ".\n",
    ".\n",
    "\n",
    "..\n",
    ".\n",
    ".\n",
    ".\n",
    "..\n",
    ".\n",
    ".\n",
    ".\n",
    ".\n",
    ".\n",
    ".\n",
    "\n",
    ".\n",
    ".\n",
    ".\n",
    "."
   ]
  },
  {
   "cell_type": "markdown",
   "id": "7b451d37",
   "metadata": {},
   "source": [
    "### Esse desafio de aprendizagem combina os conceitos que vimos até o momento, como estruturas de controle, manipulação de dicionários, listas e iterações. Ao concluir as tarefas e a reflexão, você estará aplicando diversos aspectos da programação em um cenário realista."
   ]
  },
  {
   "cell_type": "markdown",
   "id": "bd33428b",
   "metadata": {},
   "source": [
    "## Tarefas:"
   ]
  },
  {
   "cell_type": "markdown",
   "id": "8ea15f61",
   "metadata": {},
   "source": [
    "## 1 - Registro de Empréstimos:\n",
    "\n",
    "### Registre os empréstimos de livros para os  alunos fictícios da escola.\n",
    "## 2 -  Avaliação de Livros:\n",
    "\n",
    "### Após os empréstimos, simule que os alunos leram os livros e atribua notas de avaliação aos livros emprestados.\n",
    "\n",
    "## 3 - Avaliação do Atendimento da Biblioteca:\n",
    "\n",
    "###  Registre avaliações do atendimento da biblioteca por parte dos alunos.\n",
    "\n",
    "## 4 - Imprimir Relatório:\n",
    "\n",
    "### Após realizar as ações anteriores, imprima um relatório que apresente as informações sobre os empréstimos, avaliações dos livros e a média das avaliações do atendimento da biblioteca.\n"
   ]
  },
  {
   "cell_type": "code",
   "execution_count": 11,
   "id": "e2b41de2",
   "metadata": {},
   "outputs": [
    {
     "name": "stdout",
     "output_type": "stream",
     "text": [
      "{'livros': {}, 'nota de atendimento': '****'}\n",
      "------------------------------------------------------------------------------------------------------------------------------------------------------\n"
     ]
    },
    {
     "ename": "ValueError",
     "evalue": "invalid literal for int() with base 10: ''",
     "output_type": "error",
     "traceback": [
      "\u001b[1;31m---------------------------------------------------------------------------\u001b[0m",
      "\u001b[1;31mValueError\u001b[0m                                Traceback (most recent call last)",
      "Cell \u001b[1;32mIn[11], line 10\u001b[0m\n\u001b[0;32m      8\u001b[0m \u001b[39mwhile\u001b[39;00m \u001b[39mTrue\u001b[39;00m:\n\u001b[0;32m      9\u001b[0m     livro \u001b[39m=\u001b[39m {}\n\u001b[1;32m---> 10\u001b[0m     opcao \u001b[39m=\u001b[39m \u001b[39mint\u001b[39;49m(\u001b[39minput\u001b[39;49m(\u001b[39m'''\u001b[39;49m\u001b[39m[1] Cadastrar empréstimo\u001b[39;49m\n\u001b[0;32m     11\u001b[0m \u001b[39m[2] Indicar devolução\u001b[39;49m\n\u001b[0;32m     12\u001b[0m \u001b[39m[3] Dar avaliação ao livro\u001b[39;49m\n\u001b[0;32m     13\u001b[0m \u001b[39m[4] Dar avaliação ao atendimento\u001b[39;49m\n\u001b[0;32m     14\u001b[0m \u001b[39m[4] Sair\u001b[39;49m\n\u001b[0;32m     15\u001b[0m \u001b[39mSua opção:\u001b[39;49m\u001b[39m'''\u001b[39;49m))\n\u001b[0;32m     16\u001b[0m     \u001b[39mif\u001b[39;00m opcao \u001b[39m==\u001b[39m \u001b[39m1\u001b[39m:\n\u001b[0;32m     17\u001b[0m         aluno \u001b[39m=\u001b[39m \u001b[39mstr\u001b[39m(\u001b[39minput\u001b[39m(\u001b[39m'\u001b[39m\u001b[39mNome: \u001b[39m\u001b[39m'\u001b[39m))\u001b[39m.\u001b[39mstrip()\u001b[39m.\u001b[39mtitle()\n",
      "\u001b[1;31mValueError\u001b[0m: invalid literal for int() with base 10: ''"
     ]
    }
   ],
   "source": [
    "# codigo aqui\n",
    "from math import floor\n",
    "biblioteca = {}\n",
    "livro_notas = {}\n",
    "notas_atendente = []\n",
    "biblioteca['livros'] = {}\n",
    "\n",
    "while True:\n",
    "    livro = {}\n",
    "    while True:\n",
    "        try:\n",
    "            opcao = int(input('''[1] Mostrar Relatório\n",
    "[2] Cadastrar empréstimo\n",
    "[3] Indicar devolução\n",
    "[4] Dar avaliação ao livro\n",
    "[5] Dar avaliação ao atendimento\n",
    "[4] Sair\n",
    "Sua opção:'''))\n",
    "            break\n",
    "        except:\n",
    "            print('Opção Inválida')\n",
    "    if opcao == 1:\n",
    "        print(biblioteca)\n",
    "    elif opcao == 2:\n",
    "        aluno = str(input('Nome: ')).strip().title()\n",
    "        if aluno == '':\n",
    "            break\n",
    "        titulo = str(input('Título do Livro')).strip().title()\n",
    "        if titulo == '':\n",
    "            break\n",
    "        if titulo not in biblioteca['livros']:\n",
    "            emprestimos = []\n",
    "            emprestimos.append(aluno)\n",
    "            livro['empréstimos'] = emprestimos.copy()\n",
    "            livro['média do livro'] = '*' * floor(int(media_livro))\n",
    "            biblioteca['livros'][titulo] = livro.copy()\n",
    "        else:\n",
    "            biblioteca['livros'][titulo]['empréstimos'].append(aluno)\n",
    "            livro_notas[titulo].append(avaliacao_livro)\n",
    "            media_livro = sum(livro_notas[titulo]) / len(livro_notas[titulo])\n",
    "            biblioteca['livros'][titulo]['média do livro'] = '*' * floor(int(media_livro))\n",
    "    elif opcao == 3:\n",
    "        aluno = str(input('Nome: ')).strip().title()\n",
    "        if aluno == '':\n",
    "            break\n",
    "        titulo = str(input('Título do Livro')).strip().title()\n",
    "        if titulo == '':\n",
    "            break\n",
    "        if titulo not in biblioteca['livros']:\n",
    "            devolucoes = []\n",
    "            devolucoes.append(aluno)\n",
    "            livro['devoluções'] = devolucoes.copy()\n",
    "            biblioteca['livros'][titulo] = livro.copy()\n",
    "        else:\n",
    "            biblioteca['livros'][titulo]['devoluções'].append(aluno)\n",
    "    elif opcao == 4:\n",
    "        titulo = str(input('Título do Livro')).strip().title()\n",
    "        if titulo == '':\n",
    "            break\n",
    "        while True:\n",
    "            try:\n",
    "                avaliacao_livro = int(input('Digite uma nota para o livro de 1 a 5 (999 para cancelar operação): '))\n",
    "                if avaliacao_livro == 999:\n",
    "                    break\n",
    "                elif avaliacao_livro > 5 or avaliacao_livro < 1:\n",
    "                    print('Nota Inválida!')\n",
    "                else:\n",
    "                    break\n",
    "            except:\n",
    "                print('Nota Inválida!')\n",
    "        notas = []\n",
    "        notas.append(avaliacao_livro)\n",
    "        livro_notas[titulo] = notas.copy()\n",
    "        media_livro = sum(livro_notas[titulo]) / len(livro_notas[titulo])\n",
    "\n",
    "        while True:\n",
    "            try:\n",
    "                avaliacao_atendimento = int(input('Digite uma nota para o atendente de 1 a 5 (999 para cancelar operação): '))\n",
    "                if avaliacao_livro == 999:\n",
    "                    break\n",
    "                elif avaliacao_atendimento > 5 or avaliacao_atendimento < 1:\n",
    "                    print('Nota Inválida!')\n",
    "                else:\n",
    "                    break\n",
    "            except:\n",
    "                print('Nota Inválida!')\n",
    "        if avaliacao_atendimento == 999:\n",
    "            break\n",
    "    notas_atendente.append(avaliacao_atendimento)\n",
    "    media_atendimento = sum(notas_atendente) / len(notas_atendente)\n",
    "    biblioteca['nota de atendimento'] = '*' * floor(int(media_atendimento))\n",
    "    print(biblioteca)\n",
    "    print('-' * 150)\n",
    "print(biblioteca)\n",
    "print('-' * 150)\n",
    "print('PROGRAMA FINALIZADO! Volte Sempre!')\n",
    "\n",
    "    \n",
    "\n"
   ]
  },
  {
   "cell_type": "code",
   "execution_count": null,
   "id": "7396d8db",
   "metadata": {},
   "outputs": [],
   "source": []
  },
  {
   "cell_type": "code",
   "execution_count": null,
   "id": "c24c5096",
   "metadata": {},
   "outputs": [],
   "source": []
  },
  {
   "cell_type": "code",
   "execution_count": null,
   "id": "2b21aa21",
   "metadata": {},
   "outputs": [],
   "source": []
  }
 ],
 "metadata": {
  "kernelspec": {
   "display_name": "Python 3 (ipykernel)",
   "language": "python",
   "name": "python3"
  },
  "language_info": {
   "codemirror_mode": {
    "name": "ipython",
    "version": 3
   },
   "file_extension": ".py",
   "mimetype": "text/x-python",
   "name": "python",
   "nbconvert_exporter": "python",
   "pygments_lexer": "ipython3",
   "version": "3.11.4"
  }
 },
 "nbformat": 4,
 "nbformat_minor": 5
}
