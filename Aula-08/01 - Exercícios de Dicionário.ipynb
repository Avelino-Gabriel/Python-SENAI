{
 "cells": [
  {
   "cell_type": "markdown",
   "metadata": {},
   "source": [
    "# Exercícios\n",
    "\n",
    "## 1. Exercício \"menos prático\" para treinar manipulação de dicionário\n",
    "\n",
    "Dessa vez, vamos apenas treinar a manipulação de dicionário. Transforme as listas abaixo em 1 único dicionário no formato:"
   ]
  },
  {
   "cell_type": "raw",
   "metadata": {},
   "source": [
    "dicionario = {\n",
    "    produto: [vendas2019, vendas2020],\n",
    "    produto2: [vendas2019, vendas2020],\n",
    "    produto3: [vendas2019, vendas2020],\n",
    "}"
   ]
  },
  {
   "cell_type": "markdown",
   "metadata": {},
   "source": [
    "- Apesar de parecer \"menos prático\" esse é um procedimento que precisamos nos acostumar a fazer, visto que algumas funções (tema dos próximos módulos) precisam de dicionários para funcionar e saber transformar listas em dicionários (e vice-versa) é uma habilidade muito útil\n",
    "\n",
    "Obs: Lembre do zip para juntar listas.<br>\n",
    "Obs2: Repare que cada item das vendas é na verdade uma lista. Então é provável que você precise fazer esse código em 2 etapas"
   ]
  },
  {
   "cell_type": "code",
   "execution_count": 2,
   "metadata": {},
   "outputs": [
    {
     "name": "stdout",
     "output_type": "stream",
     "text": [
      "[{'produto': 'iphone', 'vendas_2019': 558147, 'vendas_2020': 951642}, {'produto': 'galaxy', 'vendas_2019': 712350, 'vendas_2020': 244295}, {'produto': 'ipad', 'vendas_2019': 573823, 'vendas_2020': 26964}, {'produto': 'tv', 'vendas_2019': 405252, 'vendas_2020': 787604}, {'produto': 'máquina de café', 'vendas_2019': 718654, 'vendas_2020': 867660}, {'produto': 'kindle', 'vendas_2019': 531580, 'vendas_2020': 78830}, {'produto': 'geladeira', 'vendas_2019': 973139, 'vendas_2020': 710331}, {'produto': 'adega', 'vendas_2019': 892292, 'vendas_2020': 646016}, {'produto': 'notebook dell', 'vendas_2019': 422760, 'vendas_2020': 694913}, {'produto': 'notebook hp', 'vendas_2019': 154753, 'vendas_2020': 539704}, {'produto': 'notebook asus', 'vendas_2019': 887061, 'vendas_2020': 324831}, {'produto': 'microsoft surface', 'vendas_2019': 438508, 'vendas_2020': 667179}, {'produto': 'webcam', 'vendas_2019': 237467, 'vendas_2020': 295633}, {'produto': 'caixa de som', 'vendas_2019': 489705, 'vendas_2020': 725316}, {'produto': 'microfone', 'vendas_2019': 328311, 'vendas_2020': 644622}, {'produto': 'câmera canon', 'vendas_2019': 591120, 'vendas_2020': 994303}]\n"
     ]
    }
   ],
   "source": [
    "produtos = ['iphone', 'galaxy', 'ipad', 'tv', 'máquina de café', 'kindle', 'geladeira', 'adega', 'notebook dell', 'notebook hp', 'notebook asus', 'microsoft surface', 'webcam', 'caixa de som', 'microfone', 'câmera canon']\n",
    "vendas2019 = [558147,712350,573823,405252,718654,531580,973139,892292,422760,154753,887061,438508,237467,489705,328311,591120]\n",
    "vendas2020 = [951642,244295,26964,787604,867660,78830,710331,646016,694913,539704,324831,667179,295633,725316,644622,994303]\n",
    "\n",
    "#seu código aqui\n",
    "produtos_dict = []\n",
    "for c, v in enumerate(produtos):\n",
    "    dicionario = {\n",
    "        'produto': produtos[c],\n",
    "        'vendas_2019': vendas2019[c],\n",
    "        'vendas_2020': vendas2020[c]\n",
    "    }\n",
    "    produtos_dict.append(dicionario)\n",
    "\n",
    "print(produtos_dict)\n"
   ]
  }
 ],
 "metadata": {
  "kernelspec": {
   "display_name": "Python 3",
   "language": "python",
   "name": "python3"
  },
  "language_info": {
   "codemirror_mode": {
    "name": "ipython",
    "version": 3
   },
   "file_extension": ".py",
   "mimetype": "text/x-python",
   "name": "python",
   "nbconvert_exporter": "python",
   "pygments_lexer": "ipython3",
   "version": "3.11.4"
  }
 },
 "nbformat": 4,
 "nbformat_minor": 4
}
