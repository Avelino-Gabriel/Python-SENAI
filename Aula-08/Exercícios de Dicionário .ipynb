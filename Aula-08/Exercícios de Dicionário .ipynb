{
 "cells": [
  {
   "cell_type": "markdown",
   "id": "d1096e68",
   "metadata": {},
   "source": [
    "# Exercícios de tuplas "
   ]
  },
  {
   "cell_type": "markdown",
   "id": "32c8fef7",
   "metadata": {},
   "source": [
    "## Esses exercícios ajudarão você a praticar o uso de dicionários em diferentes contextos e situações. Experimente resolver cada um deles para aprimorar suas habilidades em manipulação de dicionários em Python."
   ]
  },
  {
   "cell_type": "markdown",
   "id": "4a90b37f",
   "metadata": {},
   "source": [
    "# Exercício 1: Contagem de Palavras\n",
    "### Crie uma função que recebe uma string como entrada e retorna um dicionário onde as chaves são as palavras da string e os valores são a contagem de vezes que cada palavra aparece."
   ]
  },
  {
   "cell_type": "code",
   "execution_count": 15,
   "id": "ff702f47",
   "metadata": {},
   "outputs": [
    {
     "name": "stdout",
     "output_type": "stream",
     "text": [
      "{'bom': 2, 'dia': 1, 'boa': 1, 'noite': 1}\n"
     ]
    }
   ],
   "source": [
    "frase = str(input('Digite um frase: ')).strip()\n",
    "frase_separada = frase.replace(',', '').replace('.', '').replace('!', '').replace('?', '').replace(';', '').replace(':', '').replace('/', '').replace('|', '').replace('\\*', '').replace('\"', '').replace(\"'\", '').replace('(', '').replace(')', '').replace('[', '').replace(']', '').replace('{', '').replace('}', '').replace('@', '').replace('$', '').replace('%', '').replace('#', '').replace('&', '').split()\n",
    "\n",
    "contagem_palavras = {}\n",
    "for p in frase_separada:\n",
    "    if p not in contagem_palavras:\n",
    "        contagem_palavras[f'{p}'] = frase_separada.count(p)\n",
    "\n",
    "print(contagem_palavras)"
   ]
  },
  {
   "cell_type": "markdown",
   "id": "946d6af0",
   "metadata": {},
   "source": [
    "# Exercício 2: Registro de Alunos\n",
    "### Crie um programa que permite registrar informações sobre alunos, como nome, idade e nota. Use um dicionário para armazenar essas informações e permita que o usuário adicione novos alunos e visualize os detalhes dos alunos existentes."
   ]
  },
  {
   "cell_type": "code",
   "execution_count": 1,
   "id": "4bbebc70",
   "metadata": {},
   "outputs": [
    {
     "name": "stdout",
     "output_type": "stream",
     "text": [
      "[{'nome': 'Gabriel', 'idade': 19, 'nota': 8.0}, {'nome': 'Johnny', 'idade': 19, 'nota': 9.0}]\n"
     ]
    }
   ],
   "source": [
    "alunos = []\n",
    "\n",
    "while True:\n",
    "    nome = str(input('Nome (Não digite nada para finalizar): ')).strip().title()\n",
    "    if nome == '':\n",
    "        break\n",
    "    idade = int(input('Idade: '))\n",
    "    nota = float(input('Nota: '))\n",
    "    ficha = {}\n",
    "    ficha['nome'] = nome\n",
    "    ficha['idade'] = idade\n",
    "    ficha['nota'] = nota\n",
    "    alunos.append(ficha.copy())\n",
    "\n",
    "print(alunos)"
   ]
  },
  {
   "cell_type": "markdown",
   "id": "0a7de75b",
   "metadata": {},
   "source": [
    "# Exercício 3: Tradutor Simples\n",
    "### Crie um dicionário que mapeie algumas palavras em inglês para suas traduções em outro idioma. Peça ao usuário para digitar uma palavra em inglês e exiba a tradução correspondente."
   ]
  },
  {
   "cell_type": "code",
   "execution_count": 1,
   "id": "370a137c",
   "metadata": {},
   "outputs": [
    {
     "name": "stdout",
     "output_type": "stream",
     "text": [
      "Tradução: professor\n"
     ]
    }
   ],
   "source": [
    "tradutor = {'apple':'maçã', 'money':'dinheiro', 'loading':'carregando', 'teacher':'professor', 'pencil':'lápis'}\n",
    "\n",
    "traducao = str(input('Digite uma palavra em inglês para traduzir: ')).strip().lower()\n",
    "\n",
    "print(f'Tradução: {tradutor[traducao]}')\n"
   ]
  },
  {
   "cell_type": "markdown",
   "id": "d9d590bc",
   "metadata": {},
   "source": [
    "# Exercício 4: Estoque de Produtos\n",
    "### Crie um programa que simule o controle de estoque de uma loja. Use um dicionário onde as chaves são os nomes dos produtos e os valores são as quantidades em estoque. Permita que o usuário adicione ou remova produtos e atualize as quantidades."
   ]
  },
  {
   "cell_type": "code",
   "execution_count": 12,
   "id": "f93311d7",
   "metadata": {},
   "outputs": [
    {
     "name": "stdout",
     "output_type": "stream",
     "text": [
      "[{'nome': 'bolacha', 'quantidade': 700}, {'nome': 'doritos', 'quantidade': 800}, {'nome': 'red bull', 'quantidade': 600}]\n",
      "[{'nome': 'bolacha', 'quantidade': 700}, {'nome': 'red bull', 'quantidade': 600}]\n",
      "[{'nome': 'bolacha', 'quantidade': 700}, {'nome': 'red bull', 'quantidade': 400}]\n"
     ]
    }
   ],
   "source": [
    "produtos = []\n",
    "\n",
    "while True:\n",
    "    produto = {}\n",
    "    produto['nome'] = str(input('Nome: ')).strip().lower()\n",
    "    if produto['nome'] == '':\n",
    "        break\n",
    "    produto['quantidade'] = int(input('Quantidade: '))\n",
    "    produtos.append(produto.copy())\n",
    "\n",
    "print(produtos)\n",
    "\n",
    "while True:\n",
    "    mudar = str(input('Deseja remover algum produto? [S/N]: ')).strip().upper()[0]\n",
    "    if mudar == 'N':\n",
    "        break\n",
    "    while True:\n",
    "        indice = str(input('Digite o índice do produto que você deseja remover: ')).strip()\n",
    "        if indice.isnumeric():\n",
    "            indice = int(indice)- 1\n",
    "        elif indice =='':\n",
    "            break\n",
    "        else:\n",
    "            print('Digite um index válido')\n",
    "        if indice > len(produtos):\n",
    "            print('Digite um index válido')\n",
    "        else:\n",
    "            break\n",
    "    if indice == '':\n",
    "        break\n",
    "    produtos.remove(produtos[indice])\n",
    "print(produtos)\n",
    "\n",
    "while True:\n",
    "    mudar = str(input('Deseja alterar algum produto? [S/N]: ')).strip().upper()[0]\n",
    "    if mudar == 'N':\n",
    "        break\n",
    "    while True:\n",
    "        indice = str(input('Digite o índice do produto que você deseja alterar: ')).strip()\n",
    "        if indice.isnumeric():\n",
    "            indice = int(indice) - 1\n",
    "        elif indice =='':\n",
    "            break\n",
    "        else:\n",
    "            print('Digite um index válido')\n",
    "        if indice > len(produtos):\n",
    "            print('Digite um index válido')\n",
    "        else:\n",
    "            break\n",
    "    if indice == '':\n",
    "        break\n",
    "\n",
    "    nome = ''\n",
    "    nome = str(input('Nome (Deixe em branco para manter o nome): '))\n",
    "    if nome == '':\n",
    "        break\n",
    "    produtos[indice]['nome'] = nome\n",
    "    while True:\n",
    "        quantidade = str(input('Quantidade (Deixe em branco para não alterar o valor): ')).strip()\n",
    "        if quantidade.isnumeric():\n",
    "            quantidade = int(quantidade)\n",
    "            break\n",
    "        elif quantidade == '':\n",
    "            break\n",
    "        else:\n",
    "            print('Digite um valor válido!')\n",
    "    if quantidade == '':\n",
    "        break\n",
    "    produtos[indice]['quantidade'] = quantidade\n",
    "print(produtos)"
   ]
  },
  {
   "cell_type": "markdown",
   "id": "31c34736",
   "metadata": {},
   "source": [
    "# Exercício 5: Contagem de Caracteres\n",
    "### Crie uma função que recebe uma string e retorna um dicionário onde as chaves são os caracteres da string e os valores são a contagem de vezes que cada caracter aparece."
   ]
  },
  {
   "cell_type": "code",
   "execution_count": 6,
   "id": "70d8c2c6",
   "metadata": {},
   "outputs": [
    {
     "name": "stdout",
     "output_type": "stream",
     "text": [
      "{'O': 1, 'l': 1, 'á': 1, 'espaço': 1, 'm': 1, 'u': 1, 'n': 1, 'd': 1, 'o': 1, '!': 1}\n"
     ]
    }
   ],
   "source": [
    "texto = str(input('Texto: ')).strip()\n",
    "\n",
    "contagem_caracteres = {}\n",
    "texto_separado = list(texto)\n",
    "\n",
    "for c in texto_separado:\n",
    "    quantidade = texto_separado.count(c)\n",
    "    if c == ' ':\n",
    "        c = 'espaço'\n",
    "    contagem_caracteres[c] = quantidade\n",
    "\n",
    "print(contagem_caracteres)"
   ]
  },
  {
   "cell_type": "markdown",
   "id": "8b8d8f05",
   "metadata": {},
   "source": [
    "# Exercício 6: Agenda de Contatos\n",
    "### Crie um programa que simule uma agenda de contatos. Use um dicionário onde as chaves são os nomes das pessoas e os valores são seus números de telefone. Permita que o usuário adicione, atualize e remova contatos."
   ]
  },
  {
   "cell_type": "code",
   "execution_count": 12,
   "id": "5f5609fe",
   "metadata": {},
   "outputs": [
    {
     "name": "stdout",
     "output_type": "stream",
     "text": [
      "True\n",
      "0\n",
      "[]\n",
      "[]\n",
      "FINALIZANDO PROGRAMA...\n",
      "Programa finalizado! Volte Sempre!\n"
     ]
    }
   ],
   "source": [
    "lista_contatos = []\n",
    "\n",
    "while True:\n",
    "    try:\n",
    "        opcao = int(input('''[1] Ver lista de contatos\n",
    "\\n[2] Adicionar contato\n",
    "[3] Remover contato\n",
    "[4] Sair\n",
    "Sua opção: '''))\n",
    "    except:\n",
    "        print('Digite uma opção válida')\n",
    "    else:\n",
    "        if opcao == 1:\n",
    "            print(lista_contatos)\n",
    "        elif opcao == 2:\n",
    "            contato = {}\n",
    "            nome = str(input('Nome: ')).strip().title()\n",
    "            if nome != '':\n",
    "                contato['nome'] = nome\n",
    "            numero = str(input('Telefone: ')).strip()\n",
    "            if numero != '':\n",
    "                contato['numero'] = numero\n",
    "            lista_contatos.append(contato.copy())\n",
    "        elif opcao == 3:                    \n",
    "            try:\n",
    "                deletar = str(input('Nome do contato que será deletado: ')).strip().title()\n",
    "                for c in lista_contatos:\n",
    "                    if deletar == c['nome']:\n",
    "                        lista_contatos.remove(c)\n",
    "            except:\n",
    "                print('Esse contato não existe.')\n",
    "        elif opcao == 4:\n",
    "            print('FINALIZANDO PROGRAMA...')\n",
    "            break\n",
    "        else:\n",
    "            print('Digite uma opção válida!')\n",
    "print('Programa finalizado! Volte Sempre!')\n",
    "\n"
   ]
  },
  {
   "cell_type": "markdown",
   "id": "dfe9aa0c",
   "metadata": {},
   "source": [
    "# Exercício 7: Notas de Alunos\n",
    "### Crie um programa que permite registrar as notas de alunos em várias disciplinas. Use um dicionário aninhado, onde as chaves externas são os nomes dos alunos e as chaves internas são as disciplinas. Permita que o usuário adicione notas e visualize as médias dos alunos."
   ]
  },
  {
   "cell_type": "code",
   "execution_count": 10,
   "id": "8e10caaa",
   "metadata": {},
   "outputs": [
    {
     "name": "stdout",
     "output_type": "stream",
     "text": [
      "{}\n"
     ]
    }
   ],
   "source": [
    "alunos = {}\n",
    "\n",
    "while True:\n",
    "    notas = {}\n",
    "    nome = str(input('Nome (vazio para parar): ')).strip().title()\n",
    "    if nome == '':\n",
    "        break\n",
    "    while True:\n",
    "        disciplina = str(input('Disciplina (vazio para parar): ')).strip()\n",
    "        if disciplina == '':\n",
    "            break\n",
    "        while True:\n",
    "            try:\n",
    "                nota = float(input('Nota: '))\n",
    "                notas[disciplina] = nota\n",
    "                break\n",
    "            except:\n",
    "                print('Digite uma nota válida')\n",
    "    soma = 0\n",
    "    c = 0\n",
    "    for n in notas.values():\n",
    "        soma += n\n",
    "        c += 1\n",
    "    media = soma / c\n",
    "    notas['media'] = media\n",
    "\n",
    "    alunos[nome] = notas.copy()\n",
    "print(alunos)\n",
    "    \n",
    "        "
   ]
  },
  {
   "cell_type": "markdown",
   "id": "c81f0cb4",
   "metadata": {},
   "source": [
    "# Exercício 8: Contagem de Letras em Palavras\n",
    "### Crie uma função que recebe uma lista de palavras e retorna um dicionário onde as chaves são as letras presentes nas palavras e os valores são a contagem total de vezes que cada letra aparece."
   ]
  },
  {
   "cell_type": "code",
   "execution_count": 18,
   "id": "5f058fef",
   "metadata": {},
   "outputs": [
    {
     "name": "stdout",
     "output_type": "stream",
     "text": [
      "{'p': 1, 'a': 3, 'l': 1, 'v': 1, 'r': 1}\n"
     ]
    }
   ],
   "source": [
    "palavra = str(input('Digite uma palavra: ')).strip()\n",
    "palavra_separada = list(palavra)\n",
    "\n",
    "contagem = {}\n",
    "for l in palavra_separada:\n",
    "    contagem[l] = palavra_separada.count(l)\n",
    "print(contagem)"
   ]
  },
  {
   "cell_type": "markdown",
   "id": "ac2a2456",
   "metadata": {},
   "source": [
    "# Exercício 9: Calculadora de Despesas\n",
    "### Crie um programa que simule o controle de despesas de um grupo de amigos. Use um dicionário onde as chaves são os nomes dos amigos e os valores são listas de despesas. Permita que o usuário adicione despesas e calcule quanto cada pessoa deve pagar."
   ]
  },
  {
   "cell_type": "code",
   "execution_count": null,
   "id": "9987e73e",
   "metadata": {},
   "outputs": [],
   "source": [
    "pessoas = {}\n",
    "while True:\n",
    "    opcao = int(input('''[1] Ver lista de contatos\n",
    "\\n[2] Adicionar contato\n",
    "[3] Remover contato\n",
    "[4] Sair\n",
    "Sua opção: '''))\n",
    "    except:\n",
    "        print('Digite uma opção válida')\n",
    "    else:\n",
    "        if opcao == 1:\n",
    "            print(lista_contatos)\n",
    "        elif opcao == 2:\n",
    "            contato = {}\n",
    "            nome = str(input('Nome: ')).strip().title()\n",
    "            if nome != '':\n",
    "                contato['nome'] = nome\n",
    "            numero = str(input('Telefone: ')).strip()\n",
    "            if numero != '':\n",
    "                contato['numero'] = numero\n",
    "            lista_contatos.append(contato.copy())\n",
    "        elif opcao == 3:                    \n",
    "            try:\n",
    "                deletar = str(input('Nome do contato que será deletado: ')).strip().title()\n",
    "                for c in lista_contatos:\n",
    "                    if deletar == c['nome']:\n",
    "                        lista_contatos.remove(c)\n",
    "            except:\n",
    "                print('Esse contato não existe.')\n",
    "        elif opcao == 4:\n",
    "            print('FINALIZANDO PROGRAMA...')\n",
    "            break"
   ]
  },
  {
   "cell_type": "markdown",
   "id": "07c1ee0b",
   "metadata": {},
   "source": [
    "# Exercício 10: Jogo de Trívia\n",
    "### Crie um jogo de trívia em que o programa faz perguntas e o usuário responde. Use um dicionário onde as chaves são as perguntas e os valores são as respostas corretas. Mostre as perguntas ao usuário, solicite a resposta e informe se ele acertou ou errou."
   ]
  },
  {
   "cell_type": "code",
   "execution_count": 9,
   "id": "0d47f9f5",
   "metadata": {},
   "outputs": [
    {
     "name": "stdout",
     "output_type": "stream",
     "text": [
      "Parabéns! Você acertou a questão!\n",
      "Pontuação: 100\n",
      "Parabéns! Você acertou a questão!\n",
      "Pontuação: 300\n",
      "Você errou a questão!\n",
      "Pontuação: 300\n",
      "------------------------------\n",
      "FIM DE JOGO!\n",
      "Pontuação Final = 300\n"
     ]
    }
   ],
   "source": [
    "perguntas = {'Qual a capital do estado do Espírito Santo?':'Vitória', 'Quem foi o presidente do Brasil entre 1930 e 1934?':'Getúlio Vargas', 'Quem criou o primeiro modelo atômico?': 'Dalton'}\n",
    "\n",
    "pontos = 0\n",
    "\n",
    "for c, p in enumerate(perguntas.keys()):\n",
    "    resposta = str(input(f'{p} ')).strip().title()\n",
    "    if resposta == perguntas[p]:\n",
    "        pontos += 100 * (c + 1)\n",
    "        print(f'''Parabéns! Você acertou a questão!\n",
    "Pontuação: {pontos}''')\n",
    "    else:\n",
    "         print(f'''Você errou a questão!\n",
    "Pontuação: {pontos}''')\n",
    "\n",
    "print('-' * 30)\n",
    "print(f'''FIM DE JOGO!\n",
    "Pontuação Final = {pontos}''')"
   ]
  }
 ],
 "metadata": {
  "kernelspec": {
   "display_name": "Python 3 (ipykernel)",
   "language": "python",
   "name": "python3"
  },
  "language_info": {
   "codemirror_mode": {
    "name": "ipython",
    "version": 3
   },
   "file_extension": ".py",
   "mimetype": "text/x-python",
   "name": "python",
   "nbconvert_exporter": "python",
   "pygments_lexer": "ipython3",
   "version": "3.11.4"
  }
 },
 "nbformat": 4,
 "nbformat_minor": 5
}
