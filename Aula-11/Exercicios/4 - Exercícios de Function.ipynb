{
 "cells": [
  {
   "cell_type": "markdown",
   "metadata": {},
   "source": [
    "# Exercícios\n",
    "\n",
    "## 1. Criando uma Lista de Produtos\n",
    "\n",
    "Muitas vezes as listas de produtos, de clientes, de funcionários, etc que temos nas empresas não são 100% confiáveis.\n",
    "\n",
    "Isso significa que na prática, caímos em muitos casos de ter uma lista de produtos, mas quando olhamos por exemplo uma base com a posição em estoque de cada produto, surge nessa \"base\" produtos que não existiam na nossa lista inicial.\n",
    "\n",
    "Então agora vamos fazer uma function justamente com esse objetivo.\n",
    "\n",
    "Digamos que você receba, 2, 3, 5 ou até 10 bases com a posição em estoque de vários produtos.\n",
    "\n",
    "Vamos criar uma function que pega todas essas listas e cria, a partir dela, uma lista de produtos. Com o objetivo de saber todos os produtos que temos na empresa. Repare que a function pode receber 1, 2, 3 ou quantas listas de estoque forem necessárias.\n",
    "\n",
    "Obs: Lembre dos \"sets\" para fazer a lista de produtos não ter produtos repetidos"
   ]
  },
  {
   "cell_type": "raw",
   "metadata": {},
   "source": [
    "lista_estoque1 = [\n",
    "    (produto, qtde_estoque),\n",
    "    (produto2, qtde_estoque2),\n",
    "    ...\n",
    "]"
   ]
  },
  {
   "cell_type": "code",
   "execution_count": 20,
   "metadata": {},
   "outputs": [],
   "source": [
    "#crie sua function aqui"
   ]
  },
  {
   "cell_type": "code",
   "execution_count": 6,
   "metadata": {},
   "outputs": [
    {
     "name": "stdout",
     "output_type": "stream",
     "text": [
      "[{'PPF1468': 675}, {'BEB3211': 826}, {'PPF3063': 687}, {'EMB9814': 178}, {'BSA5819': 338}, {'BSA2006': 481}, {'PPF7321': 163}, {'PPF8666': 751}, {'PPF8655': 459}, {'BSA2199': 396}, {'BSA8833': 644}, {'PPF1874': 210}, {'EMB3604': 469}, {'BSA8398': 814}, {'BEB5877': 539}, {'EMB9591': 963}, {'EMB3604': 615}, {'PPF2154': 473}, {'BSA8398': 478}, {'PPF8666': 771}, {'PPF8789': 878}, {'BSA5516': 555}, {'EMB9290': 883}, {'PPF4980': 819}, {'PPF2154': 802}, {'PPF8999': 527}, {'PPF6324': 826}, {'BEB2983': 363}, {'EMB3604': 199}, {'BSA2006': 314}, {'BEB5877': 916}, {'PPF7321': 606}, {'BSA9866': 870}, {'BSA2199': 647}, {'PPF3784': 229}, {'PPF4980': 421}, {'PPF8789': 126}, {'EMB6618': 611}, {'PPF3063': 876}, {'PPF5239': 394}, {'BEB3211': 606}, {'BEB3410': 834}, {'PPF2398': 588}, {'EMB9591': 942}, {'PPF3063': 796}, {'BSA3409': 705}, {'BSA8833': 961}, {'EMB2070': 451}, {'PPF1874': 518}, {'PPF7321': 336}, {'BEB3211': 181}, {'PPF9018': 127}, {'EMB4622': 603}, {'PPF6324': 250}, {'BSA1792': 672}, {'PPF8655': 168}, {'BEB5877': 456}, {'BSA5819': 431}, {'BSA9895': 287}, {'BEB3211': 247}, {'EMB3604': 745}, {'BSA3409': 984}, {'EMB4622': 434}, {'PPF9018': 339}, {'PPF8999': 764}, {'BSA2199': 772}, {'PPF3877': 185}, {'BEB2983': 353}, {'PPF5008': 331}, {'EMB9591': 601}, {'PPF3063': 757}, {'PPF1874': 305}, {'BSA9895': 618}, {'BEB3410': 831}, {'BSA8398': 180}, {'PPF1874': 799}, {'PPF5008': 614}, {'PPF3877': 715}, {'PPF6324': 501}, {'EMB9591': 576}, {'PPF2398': 896}, {'PPF8789': 891}, {'PPF2154': 449}, {'PPF4980': 530}, {'BEB5877': 588}, {'PPF8655': 309}, {'BSA2089': 253}, {'PPF2154': 714}, {'BSA1212': 551}, {'PPF8655': 748}, {'BSA5819': 291}, {'BSA2089': 271}, {'PPF2398': 270}, {'BSA8833': 277}, {'PPF6324': 375}, {'BEB2983': 867}, {'PPF3784': 996}, {'BSA4319': 690}, {'PPF8666': 850}, {'PPF8666': 795}, {'PPF9018': 956}, {'PPF2398': 498}, {'BSA2006': 482}, {'EMB6618': 932}, {'PPF3784': 434}, {'EMB9814': 981}, {'PPF3784': 498}, {'PPF8789': 157}, {'EMB9814': 563}, {'BSA2006': 985}, {'BSA1212': 336}, {'PPF5239': 251}, {'BSA5819': 787}, {'BSA1212': 409}, {'EMB2070': 635}, {'PPF4980': 116}, {'EMB4622': 769}, {'BEB3410': 712}, {'BSA8833': 464}, {'PPF3877': 950}, {'EMB6618': 534}, {'EMB4622': 515}, {'BSA8213': 423}, {'EMB9814': 784}, {'BSA4319': 477}, {'BSA3409': 247}, {'EMB2070': 182}, {'PPF8999': 201}, {'BSA8451': 243}, {'PPF5239': 292}, {'BSA2089': 396}, {'BSA2089': 579}, {'PPF7321': 488}, {'BEB3410': 241}, {'PPF5008': 442}, {'PPF8999': 603}, {'BSA2199': 849}, {'PPF3877': 744}, {'PPF5239': 877}, {'PPF9018': 608}, {'BEB2983': 439}, {'PPF5008': 963}, {'BSA1212': 989}, {'EMB2070': 733}, {'BSA8398': 437}]\n"
     ]
    }
   ],
   "source": [
    "estoque_fim_jan = [('BSA2199',396),('PPF5239',251),('BSA1212',989),('PPF2154',449),('BEB3410',241),('PPF8999',527),('EMB9591',601),('BSA2006',314),('EMB3604',469),('EMB2070',733),('PPF9018',339),('PPF1468',906),('BSA5819',291),('PPF8666',850),('BEB2983',353),('BEB5877',456),('PPF5008',963),('PPF3877',185),('PPF7321',163),('BSA8833',644),('PPF4980',421),('PPF3063',757),('BSA2089',271),('BSA8398',180),('EMB4622',515),('EMB9814',563),('PPF3784',229),('PPF2398',270),('BEB3211',181),('PPF8655',459),('PPF1874',799),('PPF8789',126),('PPF6324',375),('EMB9290',883),('BSA5516',555),('BSA8451',243),('BSA8213',423)]\n",
    "estoque_fim_fev = [('BSA2199',849),('PPF5239',877),('BSA1212',336),('PPF2154',714),('BEB3410',834),('PPF8999',201),('EMB9591',576),('BSA2006',985),('EMB3604',615),('EMB2070',182),('PPF9018',127),('PPF1468',212),('BSA5819',338),('PPF8666',751),('BEB2983',363),('BEB5877',916),('PPF5008',331),('PPF3877',744),('PPF7321',488),('BSA8833',277),('PPF4980',530),('PPF3063',796),('BSA2089',396),('BSA8398',478),('EMB4622',603),('EMB9814',784),('PPF3784',434),('PPF2398',896),('BEB3211',826),('PPF8655',748),('PPF1874',210),('PPF8789',891),('PPF6324',250),('EMB6618',611),('BSA3409',984),('BSA9866',870),('BSA1792',672)]\n",
    "estoque_fim_mar = [('BSA2199',772),('PPF5239',394),('BSA1212',409),('PPF2154',473),('BEB3410',831),('PPF8999',764),('EMB9591',942),('BSA2006',482),('EMB3604',745),('EMB2070',451),('PPF9018',608),('PPF1468',675),('BSA5819',431),('PPF8666',795),('BEB2983',439),('BEB5877',588),('PPF5008',442),('PPF3877',950),('PPF7321',606),('BSA8833',464),('PPF4980',819),('PPF3063',687),('BSA2089',253),('BSA8398',437),('EMB4622',769),('EMB9814',178),('PPF3784',996),('PPF2398',588),('BEB3211',247),('PPF8655',309),('PPF1874',305),('PPF8789',878),('PPF6324',826),('EMB6618',534),('BSA3409',705),('BSA9895',618),('BSA4319',690)]\n",
    "estoque_fim_abr = [('BSA2199',647),('PPF5239',292),('BSA1212',551),('PPF2154',802),('BEB3410',712),('PPF8999',603),('EMB9591',963),('BSA2006',481),('EMB3604',199),('EMB2070',635),('PPF9018',956),('PPF1468',161),('BSA5819',787),('PPF8666',771),('BEB2983',867),('BEB5877',539),('PPF5008',614),('PPF3877',715),('PPF7321',336),('BSA8833',961),('PPF4980',116),('PPF3063',876),('BSA2089',579),('BSA8398',814),('EMB4622',434),('EMB9814',981),('PPF3784',498),('PPF2398',498),('BEB3211',606),('PPF8655',168),('PPF1874',518),('PPF8789',157),('PPF6324',501),('EMB6618',932),('BSA3409',247),('BSA9895',287),('BSA4319',477)]\n",
    "#agora aplique com as listas fornecidas para ver se ela está funcionando\n",
    "\n",
    "def estoque(*estoques_mensais):\n",
    "    estoque_completo = []\n",
    "    estoque_atual = []\n",
    "    for e in estoques_mensais:\n",
    "        estoque_completo.extend(e)\n",
    "    estoque_completo = set(estoque_completo)\n",
    "    for p in estoque_completo:\n",
    "        product = {\n",
    "            p[0]:p[1]\n",
    "        }\n",
    "        key = [*product]\n",
    "        if estoque_atual:\n",
    "            for v in estoque_atual:\n",
    "                if key[0] in v:\n",
    "                    estoque_atual[estoque_atual.index(v)] = product.copy()\n",
    "                    break\n",
    "                else:\n",
    "                    estoque_atual.append(product.copy())\n",
    "                    break\n",
    "        else:\n",
    "            estoque_atual.append(product.copy())\n",
    "  \n",
    "    return estoque_atual\n",
    "estoque_duplicado = estoque(estoque_fim_jan, estoque_fim_fev, estoque_fim_mar, estoque_fim_abr)\n",
    "print(estoque_duplicado)\n"
   ]
  }
 ],
 "metadata": {
  "kernelspec": {
   "display_name": "Python 3 (ipykernel)",
   "language": "python",
   "name": "python3"
  },
  "language_info": {
   "codemirror_mode": {
    "name": "ipython",
    "version": 3
   },
   "file_extension": ".py",
   "mimetype": "text/x-python",
   "name": "python",
   "nbconvert_exporter": "python",
   "pygments_lexer": "ipython3",
   "version": "3.11.4"
  }
 },
 "nbformat": 4,
 "nbformat_minor": 4
}
