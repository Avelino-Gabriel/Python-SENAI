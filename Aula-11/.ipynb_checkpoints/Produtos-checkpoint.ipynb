{
 "cells": [
  {
   "cell_type": "code",
   "execution_count": null,
   "id": "afa60c45",
   "metadata": {},
   "outputs": [],
   "source": [
    "def padronizar_codigos(lista_codigos, padrao=m)\n",
    "    for i, item in enumerate(lista_codigos):\n",
    "        item = item.replace('  ', ' ')\n",
    "        item = item.strip()\n",
    "        if padrao = 'm':\n",
    "            item = item.casefold()\n",
    "        elif padrao = 'M':\n",
    "            item = item.upper()\n",
    "            "
   ]
  }
 ],
 "metadata": {
  "kernelspec": {
   "display_name": "Python 3 (ipykernel)",
   "language": "python",
   "name": "python3"
  },
  "language_info": {
   "codemirror_mode": {
    "name": "ipython",
    "version": 3
   },
   "file_extension": ".py",
   "mimetype": "text/x-python",
   "name": "python",
   "nbconvert_exporter": "python",
   "pygments_lexer": "ipython3",
   "version": "3.11.3"
  }
 },
 "nbformat": 4,
 "nbformat_minor": 5
}
