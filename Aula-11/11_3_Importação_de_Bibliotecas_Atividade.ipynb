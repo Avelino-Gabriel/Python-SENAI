{
  "cells": [
    {
      "cell_type": "markdown",
      "metadata": {
        "id": "7cSjkBggT5jc"
      },
      "source": [
        "# **Exercício 1:**\n",
        "\n",
        "---\n",
        "\n",
        "Faça um programa que calcule a raiz quadrada de um número inteiro fornecido pelo usuário. Utilize a biblioteca math para realizar o cálculo."
      ]
    },
    {
      "cell_type": "code",
      "execution_count": 4,
      "metadata": {
        "id": "Z_bnJxYGT0_o"
      },
      "outputs": [
        {
          "name": "stdout",
          "output_type": "stream",
          "text": [
            "Raiz Quadrada de 3 = 1.73\n"
          ]
        }
      ],
      "source": [
        "from math import sqrt\n",
        "while True:\n",
        "    try:\n",
        "        num = int(input('Digite um número inteiro: '))\n",
        "        break\n",
        "    except:\n",
        "        print('Digite um número válido!')\n",
        "print(f'Raiz Quadrada de {num} = {sqrt(num):.2f}')"
      ]
    },
    {
      "cell_type": "markdown",
      "metadata": {
        "id": "Sa1-LWktUG_z"
      },
      "source": [
        "# **Exercício 2:**\n",
        "\n",
        "---\n",
        "\n",
        "Crie um programa que gere um número aleatório entre 1 e 100 e peça ao usuário para adivinhar qual é esse número. Utilize a biblioteca random para gerar o número aleatório."
      ]
    },
    {
      "cell_type": "code",
      "execution_count": 5,
      "metadata": {
        "id": "9iOJpg0_ULDC"
      },
      "outputs": [
        {
          "name": "stdout",
          "output_type": "stream",
          "text": [
            "Pensei em um número menor\n",
            "Pensei em um número menor\n",
            "Pensei em um número maior\n",
            "Pensei em um número maior\n",
            "Pensei em um número menor\n",
            "Pensei em um número menor\n",
            "Pensei em um número menor\n",
            "Pensei em um número menor\n",
            "Pensei em um número maior\n",
            "Parabéns! Você acertou! Pensei no número {computador}!\n"
          ]
        }
      ],
      "source": [
        "from random import randint\n",
        "\n",
        "computador = randint(0, 100)\n",
        "while True:\n",
        "    try:\n",
        "        num = int(input('Digite um número inteiro entre 0 e 100: '))\n",
        "        if computador > num:\n",
        "            print('Pensei em um número maior')\n",
        "        elif computador < num:\n",
        "            print('Pensei em um número menor')\n",
        "        elif num > 100 or num < 0:\n",
        "            print('Digite um número válido!')\n",
        "        else:\n",
        "            break\n",
        "    except:\n",
        "        print('Digite um número válido!')\n",
        "\n",
        "print(f'Parabéns! Você acertou! Pensei no número {computador}!')"
      ]
    },
    {
      "cell_type": "markdown",
      "metadata": {
        "id": "vrAwGLX3UXLq"
      },
      "source": [
        "# **Exercício 3:**\n",
        "\n",
        "---\n",
        "Crie um programa que simule um lançamento de dados. O programa deve gerar um número aleatório entre 1 e 6, representando o valor do dado. Utilizar função randint da biblioteca random"
      ]
    },
    {
      "cell_type": "code",
      "execution_count": 6,
      "metadata": {
        "id": "h2MVf6arUdtz"
      },
      "outputs": [
        {
          "name": "stdout",
          "output_type": "stream",
          "text": [
            "Número 3 adicionado!\n",
            "Número 2 adicionado!\n",
            "Número 5 adicionado!\n",
            "Número 3 adicionado!\n",
            "Número 1 adicionado!\n",
            "Número 5 adicionado!\n",
            "[3, 2, 5, 3, 1, 5]\n"
          ]
        }
      ],
      "source": [
        "from random import randint\n",
        "\n",
        "dados = []\n",
        "while True:\n",
        "    num = randint(1, 6)\n",
        "    dados.append(num)\n",
        "    print(f'Número {num} adicionado!')\n",
        "    while True:\n",
        "        continuar = str(input('Deseja adicionar mais um número? [S/N]: ')).strip().upper()[0]\n",
        "        if continuar in ['N', 'S']:\n",
        "            break\n",
        "        else:\n",
        "            print('Digite uma opção válida!')\n",
        "    if continuar == 'N':\n",
        "        break\n",
        "\n",
        "print(f'Dados: {dados}')"
      ]
    },
    {
      "cell_type": "markdown",
      "metadata": {
        "id": "RA7LpHIHUgcT"
      },
      "source": [
        "# **Exercício 4:**\n",
        "\n",
        "---\n",
        "Faça um programa que calcule a área de um círculo. O usuário deve fornecer o raio do círculo como entrada. Utilize a biblioteca math para obter o valor de π (pi)."
      ]
    },
    {
      "cell_type": "code",
      "execution_count": 8,
      "metadata": {
        "colab": {
          "base_uri": "https://localhost:8080/"
        },
        "id": "P5X-NK9gUmJT",
        "outputId": "f9a9a301-c690-444f-feb2-7aa5a3695429"
      },
      "outputs": [
        {
          "name": "stdout",
          "output_type": "stream",
          "text": [
            "Área do Círculo: 12.57\n"
          ]
        }
      ],
      "source": [
        "from math import pi\n",
        "\n",
        "while True:\n",
        "    try:\n",
        "        raio = int(input('Raio do Círculo: '))\n",
        "        break\n",
        "    except:\n",
        "        print('Digite um número válido!')\n",
        "\n",
        "area = pi * (raio ** 2)\n",
        "print(f'Área do Círculo: {area:.2f}')"
      ]
    },
    {
      "cell_type": "markdown",
      "metadata": {
        "id": "8hhvsHCOUn9T"
      },
      "source": [
        "# **Exercício 5:**\n",
        "\n",
        "---\n",
        "Crie um programa que solicite ao usuário um nome de arquivo e, em seguida, leia o conteúdo desse arquivo e conte quantas palavras diferentes existem no texto. Utilize Counter da biblioteca collections para ajudar na contagem.\n",
        "\n",
        "python\n",
        "C"
      ]
    },
    {
      "cell_type": "code",
      "execution_count": 25,
      "metadata": {
        "id": "01QBl5HWU2xj"
      },
      "outputs": [
        {
          "name": "stdout",
          "output_type": "stream",
          "text": [
            "Counter({'Olá': 4, 'mundo': 4})\n"
          ]
        }
      ],
      "source": [
        "from collections import Counter\n",
        "\n",
        "arquivo = str(input('Nome do arquivo: ')).strip().title()\n",
        "contagem = {}\n",
        "arq = open(arquivo, \"r\")\n",
        "\n",
        "colecao = []\n",
        "for l in arq:\n",
        "    linha = l.replace('!', '').replace(',', '').replace('.', '').replace(';', '').replace(':', '').replace('?', '').replace('/', '').replace('|', '').replace('\\\\', '').split()\n",
        "    for p in linha:\n",
        "        colecao.append(p)\n",
        "\n",
        "print(Counter(colecao))\n"
      ]
    },
    {
      "cell_type": "markdown",
      "metadata": {
        "id": "-xrV_RJ9U_g7"
      },
      "source": [
        "# **Exercício 6:**\n",
        "\n",
        "---\n",
        "Crie um programa que solicite ao usuário uma lista de números separados por vírgula e exiba a média desses números. Utilize a função mean da biblioteca statistics."
      ]
    },
    {
      "cell_type": "code",
      "execution_count": 26,
      "metadata": {
        "id": "0gGOdi8mVFAL"
      },
      "outputs": [
        {
          "name": "stdout",
          "output_type": "stream",
          "text": [
            "Média = 9.0\n"
          ]
        }
      ],
      "source": [
        "from statistics import mean\n",
        "\n",
        "num_list = []\n",
        "\n",
        "while True:\n",
        "    try:\n",
        "        num = float(input('Digite um número: '))\n",
        "        num_list.append(num)\n",
        "        while True:\n",
        "            continuar = str(input('Deseja adicionar mais um número? [S/N]: ')).strip().upper()[0]\n",
        "            if continuar in ['N', 'S']:\n",
        "                break\n",
        "            else:\n",
        "                print('Digite uma opção válida!')\n",
        "        if continuar == 'N':\n",
        "            break\n",
        "    except:\n",
        "        print('Digite um número válido!')\n",
        "\n",
        "media = mean(num_list)\n",
        "print(f'Números = {num_list}')\n",
        "print(f'Média = {media}')"
      ]
    },
    {
      "cell_type": "markdown",
      "metadata": {
        "id": "CO26JglHXDPs"
      },
      "source": [
        "# **Exercício 7:**\n",
        "\n",
        "---\n",
        "Crie um programa usando a biblioteca tkinter que exiba uma janela com um botão. Quando o botão for clicado, exiba uma mensagem de saudação usando a função messagebox.showinfo().\n"
      ]
    },
    {
      "cell_type": "code",
      "execution_count": 8,
      "metadata": {
        "id": "UQTtWO8SVf7S"
      },
      "outputs": [
        {
          "ename": "ModuleNotFoundError",
          "evalue": "No module named '_tkinter'",
          "output_type": "error",
          "traceback": [
            "\u001b[0;31m---------------------------------------------------------------------------\u001b[0m",
            "\u001b[0;31mModuleNotFoundError\u001b[0m                       Traceback (most recent call last)",
            "Cell \u001b[0;32mIn[8], line 1\u001b[0m\n\u001b[0;32m----> 1\u001b[0m \u001b[39mfrom\u001b[39;00m \u001b[39mtkinter\u001b[39;00m \u001b[39mimport\u001b[39;00m \u001b[39m*\u001b[39m\n\u001b[1;32m      2\u001b[0m \u001b[39mfrom\u001b[39;00m \u001b[39mtkinter\u001b[39;00m \u001b[39mimport\u001b[39;00m ttk\n\u001b[1;32m      3\u001b[0m \u001b[39mfrom\u001b[39;00m \u001b[39mtkinter\u001b[39;00m \u001b[39mimport\u001b[39;00m messagebox\n",
            "File \u001b[0;32m/usr/local/Cellar/python@3.11/3.11.5/Frameworks/Python.framework/Versions/3.11/lib/python3.11/tkinter/__init__.py:38\u001b[0m\n\u001b[1;32m     35\u001b[0m \u001b[39mimport\u001b[39;00m \u001b[39msys\u001b[39;00m\n\u001b[1;32m     36\u001b[0m \u001b[39mimport\u001b[39;00m \u001b[39mtypes\u001b[39;00m\n\u001b[0;32m---> 38\u001b[0m \u001b[39mimport\u001b[39;00m \u001b[39m_tkinter\u001b[39;00m \u001b[39m# If this fails your Python may not be configured for Tk\u001b[39;00m\n\u001b[1;32m     39\u001b[0m TclError \u001b[39m=\u001b[39m _tkinter\u001b[39m.\u001b[39mTclError\n\u001b[1;32m     40\u001b[0m \u001b[39mfrom\u001b[39;00m \u001b[39mtkinter\u001b[39;00m\u001b[39m.\u001b[39;00m\u001b[39mconstants\u001b[39;00m \u001b[39mimport\u001b[39;00m \u001b[39m*\u001b[39m\n",
            "\u001b[0;31mModuleNotFoundError\u001b[0m: No module named '_tkinter'"
          ]
        }
      ],
      "source": [
        "from tkinter import *\n",
        "from tkinter import ttk\n",
        "from tkinter import messagebox\n",
        "\n",
        "def mostrar_mensagem():\n",
        "    text = 'Olá, bem-vindo!'\n",
        "    messagebox.showinfo(title=\"Bem-vindo!\", message=text)\n",
        "\n",
        "janela = Tk()\n",
        "janela.title('Mensagem')\n",
        "janela.geometry('400x400')\n",
        "\n",
        "text = ''\n",
        "\n",
        "botao = ttk.Button(janela, text='Mensagem', command=mostrar_mensagem, width=20)\n",
        "botao.pack( padx=20, pady=20)\n",
        "\n",
        "janela.mainloop()"
      ]
    },
    {
      "cell_type": "markdown",
      "metadata": {
        "id": "0raBCu6fXafW"
      },
      "source": [
        "# **Exercício 8:**\n",
        "\n",
        "---\n",
        "Crie um programa usando a biblioteca tkinter que exiba uma janela com um rótulo de texto e um campo de entrada. Quando o botão for clicado, obtenha o texto do campo de entrada usando a função .get() e exiba uma mensagem de boas-vindas personalizada usando a função messagebox.showinfo().\n"
      ]
    },
    {
      "cell_type": "code",
      "execution_count": null,
      "metadata": {
        "id": "UgiISJlkXexi"
      },
      "outputs": [],
      "source": [
        "from tkinter import *\n",
        "from tkinter import ttk\n",
        "from tkinter import messagebox\n",
        "\n",
        "def mostrar_mensagem():\n",
        "    text = 'Olá %s, bem-vindo!' % vnome.get()\n",
        "    messagebox.showinfo(title=\"Bem-vindo!\", message=text)\n",
        "\n",
        "janela = Tk()\n",
        "janela.title('Mensagem')\n",
        "janela.geometry('400x400')\n",
        "janela.configure(background= '#dde')\n",
        "\n",
        "Label(janela, text=\"Nome\", background= '#dde', foreground='#000', anchor= W).place(x=20, y=20)\n",
        "vnome = Entry(janela)\n",
        "vnome.place(x=20, y=80, width=350, height=20)\n",
        "text = ''\n",
        "\n",
        "botao = ttk.Button(janela, text='Mensagem', command=mostrar_mensagem, width=20)\n",
        "botao.place(x=20, y=160, width=120, height=25)\n",
        "\n",
        "\n",
        "\n",
        "janela.mainloop()"
      ]
    },
    {
      "cell_type": "markdown",
      "metadata": {
        "id": "0NytGTyOXjtD"
      },
      "source": [
        "# **Exercício 9:**\n",
        "\n",
        "---\n",
        "Crie um programa usando a biblioteca tkinter que exiba uma janela com uma caixa de seleção e um botão. Quando o botão for clicado, obtenha a opção selecionada da caixa de seleção usando a variável associada e exiba-a em uma caixa de diálogo usando a função messagebox.showinfo()."
      ]
    },
    {
      "cell_type": "code",
      "execution_count": null,
      "metadata": {
        "id": "n7LtC33EXpuy"
      },
      "outputs": [],
      "source": [
        "from tkinter import *\n",
        "from tkinter import ttk\n",
        "from tkinter import messagebox\n",
        "\n",
        "def result():\n",
        "    text = cb_esportes.get()\n",
        "    messagebox.showinfo(title=\"Escolha\", message=text)\n",
        "\n",
        "janela = Tk()\n",
        "janela.title('Mensagem')\n",
        "janela.geometry('400x400')\n",
        "janela.configure(background= '#dde')\n",
        "\n",
        "Label(janela, text='Esportes', background= '#dde').pack(padx=20, pady=20)\n",
        "vresult = StringVar()\n",
        "listEsportes=['Futebol','Vôlei','Basquete']\n",
        "\n",
        "cb_esportes = ttk.Combobox(janela, values=listEsportes)\n",
        "cb_esportes.set('Futebol')\n",
        "cb_esportes.pack(padx=20, pady=20)\n",
        "\n",
        "botao = ttk.Button(janela, text='Mensagem', command=result, width=20)\n",
        "botao.pack(padx=20, pady=20)\n",
        "\n",
        "\n",
        "\n",
        "janela.mainloop()"
      ]
    },
    {
      "cell_type": "markdown",
      "metadata": {
        "id": "qoozLEBUZeDa"
      },
      "source": [
        "# **Exercício 10:**\n",
        "\n",
        "---\n",
        "Crie um programa que utilize a biblioteca pandas para ler um arquivo CSV chamado \"dados.csv\". O arquivo contém uma coluna chamada \"idade\". Calcule a média das idades utilizando o método .mean() e exiba o resultado.\n",
        "\n",
        "[Link para a Documentação do Pandas](https://pandas.pydata.org/docs/reference/api/pandas.read_csv.html)\n"
      ]
    },
    {
      "cell_type": "code",
      "execution_count": 24,
      "metadata": {
        "id": "56Mo2YGCZjg5"
      },
      "outputs": [
        {
          "name": "stdout",
          "output_type": "stream",
          "text": [
            "Média: 15.86\n"
          ]
        }
      ],
      "source": [
        "import pandas\n",
        "import numpy\n",
        "from statistics import mean\n",
        "\n",
        "print(f'Média: {pandas.read_csv(\"dados.csv\")[\"Idade\"].mean(axis=\"index\"):.2f}')\n",
        "\n",
        "\n"
      ]
    },
    {
      "cell_type": "markdown",
      "metadata": {
        "id": "CrGJ4bNpZkl5"
      },
      "source": [
        "# **Exercício 11:**\n",
        "\n",
        "---\n",
        "Crie um programa que utilize as bibliotecas pandas e matplotlib para ler um arquivo CSV chamado \"dados.csv\". O arquivo contém duas colunas: \"nome\" e \"pontuacao\". Exiba um gráfico de barras utilizando o método .bar() do matplotlib.pyplot, passando os nomes como valores no eixo x e as pontuações como valores no eixo y.\n",
        "\n",
        "[Link para a Documentação do Pandas](https://pandas.pydata.org/docs/reference/api/pandas.read_csv.html)\n",
        "\n",
        "[Link para a documentação do matplotlib](https://matplotlib.org/stable/api/_as_gen/matplotlib.pyplot.bar.html)"
      ]
    },
    {
      "cell_type": "code",
      "execution_count": 4,
      "metadata": {
        "id": "fX2Psu7AaNBT"
      },
      "outputs": [
        {
          "data": {
            "text/html": [
              "<div>\n",
              "<style scoped>\n",
              "    .dataframe tbody tr th:only-of-type {\n",
              "        vertical-align: middle;\n",
              "    }\n",
              "\n",
              "    .dataframe tbody tr th {\n",
              "        vertical-align: top;\n",
              "    }\n",
              "\n",
              "    .dataframe thead th {\n",
              "        text-align: right;\n",
              "    }\n",
              "</style>\n",
              "<table border=\"1\" class=\"dataframe\">\n",
              "  <thead>\n",
              "    <tr style=\"text-align: right;\">\n",
              "      <th></th>\n",
              "      <th>Nome</th>\n",
              "      <th>Pontuacao</th>\n",
              "    </tr>\n",
              "  </thead>\n",
              "  <tbody>\n",
              "    <tr>\n",
              "      <th>0</th>\n",
              "      <td>Gabriel</td>\n",
              "      <td>1000</td>\n",
              "    </tr>\n",
              "    <tr>\n",
              "      <th>1</th>\n",
              "      <td>Murilo</td>\n",
              "      <td>900</td>\n",
              "    </tr>\n",
              "    <tr>\n",
              "      <th>2</th>\n",
              "      <td>Joao</td>\n",
              "      <td>1500</td>\n",
              "    </tr>\n",
              "    <tr>\n",
              "      <th>3</th>\n",
              "      <td>Pedro</td>\n",
              "      <td>950</td>\n",
              "    </tr>\n",
              "    <tr>\n",
              "      <th>4</th>\n",
              "      <td>Vitor</td>\n",
              "      <td>700</td>\n",
              "    </tr>\n",
              "  </tbody>\n",
              "</table>\n",
              "</div>"
            ],
            "text/plain": [
              "      Nome  Pontuacao\n",
              "0  Gabriel       1000\n",
              "1   Murilo        900\n",
              "2     Joao       1500\n",
              "3    Pedro        950\n",
              "4    Vitor        700"
            ]
          },
          "execution_count": 4,
          "metadata": {},
          "output_type": "execute_result"
        }
      ],
      "source": [
        "import pandas\n",
        "\n",
        "pandas.read_csv(\"dados2.csv\", sep=';')"
      ]
    }
  ],
  "metadata": {
    "colab": {
      "provenance": []
    },
    "kernelspec": {
      "display_name": "Python 3",
      "name": "python3"
    },
    "language_info": {
      "codemirror_mode": {
        "name": "ipython",
        "version": 3
      },
      "file_extension": ".py",
      "mimetype": "text/x-python",
      "name": "python",
      "nbconvert_exporter": "python",
      "pygments_lexer": "ipython3",
      "version": "3.11.5"
    }
  },
  "nbformat": 4,
  "nbformat_minor": 0
}
