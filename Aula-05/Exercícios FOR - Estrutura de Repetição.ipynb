{
 "cells": [
  {
   "cell_type": "markdown",
   "id": "9dd4c2d2",
   "metadata": {},
   "source": [
    "# Lista de Exercícios \n",
    "\n",
    "## Estrutura de Repetições \n",
    "\n",
    "\n",
    "# \n",
    "\n",
    "#\n"
   ]
  },
  {
   "cell_type": "markdown",
   "id": "a11e7125",
   "metadata": {},
   "source": [
    "# Exercício 1:\n",
    "## Situação Problema: Um professor deseja imprimir na tela os números pares de 0 a 10 para ensinar os alunos sobre os conceitos de números pares e o uso da estrutura de repetição for."
   ]
  },
  {
   "cell_type": "code",
   "execution_count": 2,
   "id": "70b32ec8",
   "metadata": {},
   "outputs": [
    {
     "name": "stdout",
     "output_type": "stream",
     "text": [
      "0 2 4 6 8 10 "
     ]
    }
   ],
   "source": [
    "for c in range(0, 11):\n",
    "    if c % 2 == 0:\n",
    "        print(c, end=' ')"
   ]
  },
  {
   "cell_type": "markdown",
   "id": "774c24f7",
   "metadata": {},
   "source": [
    "# Exercício 2:\n",
    "## Situação Problema: Um vendedor de frutas quer mostrar ao cliente as frutas disponíveis em sua banca. Ele possui uma lista de nomes de frutas e deseja imprimir cada nome em uma linha separada para facilitar a visualização."
   ]
  },
  {
   "cell_type": "code",
   "execution_count": 5,
   "id": "2355128b",
   "metadata": {},
   "outputs": [
    {
     "name": "stdout",
     "output_type": "stream",
     "text": [
      "Maçã Uva Morango Banana Carambola Mamâo Abacate Manga "
     ]
    }
   ],
   "source": [
    "frutas =['Maçã', 'Uva', 'Morango', 'Banana', 'Carambola', 'Mamâo', 'Abacate', 'Manga']\n",
    "for f in frutas:\n",
    "    print(f, end=' ')"
   ]
  },
  {
   "cell_type": "markdown",
   "id": "4a8789d6",
   "metadata": {},
   "source": [
    "# Exercício 3:\n",
    "## Situação Problema: Uma criança está aprendendo a tabuada e precisa praticar a tabuada de um número específico. O programa pede à criança para digitar um número e, em seguida, imprime a tabuada desse número de 1 a 10 para ajudá-la a praticar."
   ]
  },
  {
   "cell_type": "code",
   "execution_count": 10,
   "id": "4fe9fcc5",
   "metadata": {},
   "outputs": [
    {
     "name": "stdout",
     "output_type": "stream",
     "text": [
      "-------------------\n",
      "   TABUADA DO 10    \n",
      "-------------------\n",
      "10 x 1 = 10\n",
      "10 x 2 = 20\n",
      "10 x 3 = 30\n",
      "10 x 4 = 40\n",
      "10 x 5 = 50\n",
      "10 x 6 = 60\n",
      "10 x 7 = 70\n",
      "10 x 8 = 80\n",
      "10 x 9 = 90\n",
      "10 x 10 = 100\n"
     ]
    }
   ],
   "source": [
    "num = int(input('Digite um número: '))\n",
    "\n",
    "print('-' * 19)\n",
    "print(f'TABUADA DO {num}'.center(20))\n",
    "print('-' * 19)\n",
    "\n",
    "for c in range(1, 11):\n",
    "    print(f'{num} x {c} = {num * c}')"
   ]
  },
  {
   "cell_type": "markdown",
   "id": "73292b54",
   "metadata": {},
   "source": [
    "# Exercício 4:\n",
    "## Situação Problema: Um cientista está analisando dados experimentais e deseja saber o valor e a posição de cada leitura registrada. O programa recebe uma lista de números, e o cientista precisa imprimir cada valor junto com sua respectiva posição na lista."
   ]
  },
  {
   "cell_type": "code",
   "execution_count": 12,
   "id": "efd1518c",
   "metadata": {},
   "outputs": [
    {
     "name": "stdout",
     "output_type": "stream",
     "text": [
      "O valor 1 está na posição 0.\n",
      "O valor 2 está na posição 1.\n",
      "O valor 3 está na posição 2.\n",
      "O valor 4 está na posição 3.\n",
      "O valor 5 está na posição 4.\n",
      "O valor 6 está na posição 5.\n",
      "O valor 7 está na posição 6.\n",
      "O valor 8 está na posição 7.\n",
      "O valor 9 está na posição 8.\n",
      "O valor 10 está na posição 9.\n"
     ]
    }
   ],
   "source": [
    "lista = [1, 2, 3, 4, 5, 6, 7, 8, 9, 10]\n",
    "\n",
    "for c, v in enumerate(lista):\n",
    "    print(f'O valor {v} está na posição {c}.')"
   ]
  },
  {
   "cell_type": "markdown",
   "id": "dfa079f6",
   "metadata": {},
   "source": [
    "# Exercício 5:\n",
    "## Situação Problema: Um caixa de supermercado precisa calcular o total de uma compra. Ele registra o preço de cada produto em uma lista e, em seguida, usa um loop for para somar todos os preços e obter o valor total da compra."
   ]
  },
  {
   "cell_type": "code",
   "execution_count": 15,
   "id": "4022ade0",
   "metadata": {},
   "outputs": [
    {
     "name": "stdout",
     "output_type": "stream",
     "text": [
      "Total = R$15.00\n"
     ]
    }
   ],
   "source": [
    "lista = []\n",
    "soma = 0\n",
    "quantidade_produtos = int(input('Digite a quantidade de produtos: '))\n",
    "\n",
    "for c in range(0, quantidade_produtos):\n",
    "    lista.append(int(input('Digite o valor do produto: ')))\n",
    "\n",
    "\n",
    "for p in lista:\n",
    "    soma += p\n",
    "\n",
    "print(f'Total = R${soma:.2f}')"
   ]
  },
  {
   "cell_type": "markdown",
   "id": "e133fb36",
   "metadata": {},
   "source": [
    "# Exercício 6:\n",
    "## Situação Problema: Um professor quer ensinar aos alunos como contar as vogais em uma frase. O programa pede ao aluno para digitar uma frase e, em seguida, conta quantas vogais existem nessa frase, mostrando o resultado na tela."
   ]
  },
  {
   "cell_type": "code",
   "execution_count": 16,
   "id": "e76888d1",
   "metadata": {},
   "outputs": [
    {
     "name": "stdout",
     "output_type": "stream",
     "text": [
      "Na frase OLA, MUNDO! há 4 vogais.\n"
     ]
    }
   ],
   "source": [
    "frase = str(input('Digite uma frase: ')).strip().upper()\n",
    "vogais = ['A', 'E', 'I', 'O', 'U']\n",
    "quantidade_vogais = 0\n",
    "\n",
    "for v in vogais:\n",
    "    quantidade_vogais += frase.count(v)\n",
    "\n",
    "print(f'Na frase '{frase}' há {quantidade_vogais} vogais.')"
   ]
  },
  {
   "cell_type": "markdown",
   "id": "9f19b6dc",
   "metadata": {},
   "source": [
    "# Exercício 7:\n",
    "## Situação Problema: Um jogador está jogando um jogo de adivinhação e precisa descobrir o número mais alto dentre várias tentativas. O programa recebe uma lista de números inseridos pelo jogador e exibe o maior número após todas as tentativas."
   ]
  },
  {
   "cell_type": "code",
   "execution_count": 30,
   "id": "c325a255",
   "metadata": {},
   "outputs": [
    {
     "name": "stdout",
     "output_type": "stream",
     "text": [
      "O maior número é: 5\n"
     ]
    }
   ],
   "source": [
    "num = []\n",
    "quantidade_num = int(input('Quantos números você deseja adicionar? '))\n",
    "\n",
    "for c in range(1, quantidade_num + 1):\n",
    "    num.append(int(input(f'Digite o {c}º número: ')))\n",
    "\n",
    "print(f'O maior número é: {max(num)}')\n",
    "    "
   ]
  },
  {
   "cell_type": "markdown",
   "id": "d8bdadbe",
   "metadata": {},
   "source": [
    "# Exercício 8:\n",
    "## Situação Problema: Um professor deseja ensinar o alfabeto para seus alunos. O programa pede ao aluno para digitar uma palavra e, em seguida, exibe cada letra da palavra em uma linha separada para ajudar os alunos a praticarem o reconhecimento das letras."
   ]
  },
  {
   "cell_type": "code",
   "execution_count": 35,
   "id": "19e9a80c",
   "metadata": {},
   "outputs": [
    {
     "name": "stdout",
     "output_type": "stream",
     "text": [
      "a\n",
      "r\n",
      "r\n",
      "o\n",
      "z\n"
     ]
    }
   ],
   "source": [
    "palavra = str(input('Digite uma palavra: ')).strip()\n",
    "\n",
    "for l in list(palavra):\n",
    "    print(l)"
   ]
  }
 ],
 "metadata": {
  "kernelspec": {
   "display_name": "Python 3 (ipykernel)",
   "language": "python",
   "name": "python3"
  },
  "language_info": {
   "codemirror_mode": {
    "name": "ipython",
    "version": 3
   },
   "file_extension": ".py",
   "mimetype": "text/x-python",
   "name": "python",
   "nbconvert_exporter": "python",
   "pygments_lexer": "ipython3",
   "version": "3.11.4"
  }
 },
 "nbformat": 4,
 "nbformat_minor": 5
}
