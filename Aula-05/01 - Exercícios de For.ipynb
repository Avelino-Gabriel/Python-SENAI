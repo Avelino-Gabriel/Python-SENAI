{
 "cells": [
  {
   "cell_type": "markdown",
   "metadata": {},
   "source": [
    "# Exercícios\n",
    "\n",
    "## 1. Criando um Registro de Hóspedes\n",
    "\n",
    "Digamos que você está criando o sistema para registrar a chegada de hóspedes em um hotel. No hotel, os hóspedes podem ter quartos com 1, 2, 3 e 4 pessoas. Seu sistema deve conseguir:\n",
    "\n",
    "1. Identificar quantas pessoas o hóspede que acabou de chegar vai ter no quarto (perguntando por meio de input)\n",
    "2. De acordo com a quantidade de pessoas do hóspede, ele deve fazer um for para perguntar o cpf e o nome de cada pessoa, a fim de registrá-la no quarto (2 inputs para cada pessoa, 1 para o cpf e outro para o nome)\n",
    "3. O seu programa então deve gerar uma lista com todas as pessoas que ficarão no quarto em que cada item dessa lista é o nome da pessoa e o cpf da pessoa, assim:"
   ]
  },
  {
   "cell_type": "raw",
   "metadata": {},
   "source": [
    "quarto = [\n",
    "    ['João', 'cpf:00000000000'],\n",
    "    ['Julia', 'cpf:11111111111'],\n",
    "    ['Marcus', 'cpf:22222222222'],\n",
    "    ['Maria', 'cpf:33333333333'],\n",
    "]"
   ]
  },
  {
   "cell_type": "markdown",
   "metadata": {},
   "source": [
    "- Para simplificar, não vamos nos preocupar com possibilidades de \"tentar colocar mais de 1 hóspede, digitar o cpf errado, etc. Nosso objetivo é treinar a criação de uma rotina de cadastro"
   ]
  },
  {
   "cell_type": "code",
   "execution_count": 18,
   "metadata": {},
   "outputs": [
    {
     "name": "stdout",
     "output_type": "stream",
     "text": [
      "---------------------------------------------\n",
      "              LISTA DE HÓSPEDES              \n",
      "---------------------------------------------\n",
      "Gabriel               cpf12345678999 \n",
      "Marili                cpf12345678988 \n"
     ]
    }
   ],
   "source": [
    "#seu código aqui\n",
    "quarto = []\n",
    "quantidade_pessoas = int(input('Quantidade de Pessoas no Quarto: '))\n",
    "\n",
    "print('-' * 45)\n",
    "print('LISTA DE HÓSPEDES'.center(45))\n",
    "print('-' * 45)\n",
    "\n",
    "\n",
    "for c in range(0, quantidade_pessoas):\n",
    "    pessoa = [str(input('Nome: ')), f'cpf{str(input(\"CPF: \"))}']\n",
    "    quarto.append(pessoa.copy())\n",
    "\n",
    "for p in quarto:\n",
    "    for c, v in enumerate(p):\n",
    "        print(f'{v:<15}' if c == 0 else f'{v:>20}', end=\" \")\n",
    "    print()"
   ]
  },
  {
   "cell_type": "markdown",
   "metadata": {},
   "source": [
    "## 2. Análise de Vendas\n",
    "\n",
    "Nesse exercício vamos fazer uma \"análise simples\" de atingimento de Meta.\n",
    "\n",
    "Temos uma lista com os vendedores e os valores de vendas e queremos identificar (printar) quais os vendedores que bateram a meta e qual foi o valor que eles venderam."
   ]
  },
  {
   "cell_type": "code",
   "execution_count": 19,
   "metadata": {},
   "outputs": [
    {
     "name": "stdout",
     "output_type": "stream",
     "text": [
      "--------------------------------------------------\n",
      "         FUNCIONÁRIOS QUE BATERAM A META          \n",
      "--------------------------------------------------\n",
      "Nome = João                 Valor: R$15000.00\n",
      "Nome = Julia                Valor: R$27000.00\n",
      "Nome = Ana                  Valor: R$10300.00\n"
     ]
    }
   ],
   "source": [
    "meta = 10000\n",
    "vendas = [\n",
    "    ['João', 15000],\n",
    "    ['Julia', 27000],\n",
    "    ['Marcus', 9900],\n",
    "    ['Maria', 3750],\n",
    "    ['Ana', 10300],\n",
    "    ['Alon', 7870],\n",
    "]\n",
    "#seu código aqui\n",
    "\n",
    "print('-' * 50)\n",
    "print('FUNCIONÁRIOS QUE BATERAM A META'.center(50))\n",
    "print('-' * 50)\n",
    "for v in vendas:\n",
    "    if v[1] >= 10000:\n",
    "        print(f\"{f'Nome = {v[0]}':<15}{f'Valor: R${v[1]:.2f}':>30}\")"
   ]
  },
  {
   "cell_type": "markdown",
   "metadata": {},
   "source": [
    "## 3. Comparação com Ano Anterior\n",
    "\n",
    "Digamos que você está analisando as vendas de produtos de um ecommerce e quer identificar quais produtos tiveram no ano de 2020 mais vendas do que no ano de 2019, para reportar isso para a diretoria.\n",
    "\n",
    "Sua resposta pode ser um print de cada produto, qual foi a venda de 2019, a venda de 2020 e o % de crescimento de 2020 para 2019.\n",
    "\n",
    "Lembrando, para calcular o % de crescimento de um produto de um ano para o outro, podemos fazer: (vendas_produto2020/vendas_produto2019 - 1)\n",
    "\n",
    "Dica: lembre do enumerate, ele pode facilitar seu \"for\""
   ]
  },
  {
   "cell_type": "code",
   "execution_count": 98,
   "metadata": {},
   "outputs": [
    {
     "name": "stdout",
     "output_type": "stream",
     "text": [
      "------------------------------------------------------------------------------------------------------------------------\n",
      "                                       PRODUTOS QUE TIVERAM CRESCIMENTO EM VENDAS                                       \n",
      "------------------------------------------------------------------------------------------------------------------------\n",
      "  Produto                           Vendas em 2019                   Vendas em 2020                 Crescimento em %\n",
      "------------------------------------------------------------------------------------------------------------------------\n",
      "  iphone                             R$558147.00                      R$951642.00                        0.71%\n",
      "  tv                                 R$405252.00                      R$787604.00                        0.94%\n",
      "  máquina de café                    R$718654.00                      R$867660.00                        0.21%\n",
      "  notebook dell                      R$422760.00                      R$694913.00                        0.64%\n",
      "  notebook hp                        R$154753.00                      R$539704.00                        2.49%\n",
      "  microsoft surface                  R$438508.00                      R$667179.00                        0.52%\n",
      "  webcam                             R$237467.00                      R$295633.00                        0.24%\n",
      "  caixa de som                       R$489705.00                      R$725316.00                        0.48%\n",
      "  microfone                          R$328311.00                      R$644622.00                        0.96%\n",
      "  câmera canon                       R$591120.00                      R$994303.00                        0.68%\n",
      "------------------------------------------------------------------------------------------------------------------------\n"
     ]
    }
   ],
   "source": [
    "produtos = ['iphone', 'galaxy', 'ipad', 'tv', 'máquina de café', 'kindle', 'geladeira', 'adega', 'notebook dell', 'notebook hp', 'notebook asus', 'microsoft surface', 'webcam', 'caixa de som', 'microfone', 'câmera canon']\n",
    "vendas2019 = [558147,712350,573823,405252,718654,531580,973139,892292,422760,154753,887061,438508,237467,489705,328311,591120]\n",
    "vendas2020 = [951642,244295,26964,787604,867660,78830,710331,646016,694913,539704,324831,667179,295633,725316,644622,994303]\n",
    "#seu código aqui\n",
    "\n",
    "print('-' * 120)\n",
    "print('PRODUTOS QUE TIVERAM CRESCIMENTO EM VENDAS'.center(120))\n",
    "print('-' * 120)\n",
    "print(f'  {\"Produto\":<34}{\"Vendas em 2019\":<33}{\"Vendas em 2020\":<22}{\"Crescimento em %\":>25}')\n",
    "print('-' * 120)\n",
    "for c, p in enumerate(produtos):\n",
    "    if vendas2020[c] > vendas2019[c]:\n",
    "        crescimento = vendas2020[c]/vendas2019[c] - 1\n",
    "        print(f'  {p:<35}{f\"R${vendas2019[c]:<31.2f}\"}{f\"R${vendas2020[c]:<20.2f}\"}{f\"{crescimento:.2f}%\":>18}')\n",
    "print('-' * 120)"
   ]
  }
 ],
 "metadata": {
  "kernelspec": {
   "display_name": "Python 3",
   "language": "python",
   "name": "python3"
  },
  "language_info": {
   "codemirror_mode": {
    "name": "ipython",
    "version": 3
   },
   "file_extension": ".py",
   "mimetype": "text/x-python",
   "name": "python",
   "nbconvert_exporter": "python",
   "pygments_lexer": "ipython3",
   "version": "3.11.4"
  }
 },
 "nbformat": 4,
 "nbformat_minor": 4
}
