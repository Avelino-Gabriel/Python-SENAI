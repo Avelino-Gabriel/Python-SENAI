{
 "cells": [
  {
   "cell_type": "markdown",
   "id": "6df4a3c0",
   "metadata": {},
   "source": [
    "### Converta os códigos tradicionais que usam FOR para o método utilizando list comprehension\n",
    "####   ***** Tente fazer sozinho antes de consultar  *****"
   ]
  },
  {
   "cell_type": "markdown",
   "id": "1896fe9d",
   "metadata": {},
   "source": [
    "#### Exercício 1:\n",
    "\n",
    "Crie uma lista que contenha os quadrados dos números de 0 a 9."
   ]
  },
  {
   "cell_type": "code",
   "execution_count": null,
   "id": "b6eb2f27",
   "metadata": {},
   "outputs": [],
   "source": [
    "# Usando for\n",
    "squares = []\n",
    "for num in range(10):\n",
    "    squares.append(num ** 2)\n",
    "\n"
   ]
  },
  {
   "cell_type": "code",
   "execution_count": 7,
   "id": "802ad902",
   "metadata": {},
   "outputs": [
    {
     "name": "stdout",
     "output_type": "stream",
     "text": [
      "------------------------------\n",
      "           QUADRADO           \n",
      "------------------------------\n",
      "0 ** 2 = 0\n",
      "1 ** 2 = 1\n",
      "2 ** 2 = 4\n",
      "3 ** 2 = 9\n",
      "4 ** 2 = 16\n",
      "5 ** 2 = 25\n",
      "6 ** 2 = 36\n",
      "7 ** 2 = 49\n",
      "8 ** 2 = 64\n",
      "9 ** 2 = 81\n",
      "------------------------------\n"
     ]
    }
   ],
   "source": [
    "# Usando list comprehension\n",
    "\n",
    "squares = [num**2 for num in range(10)]\n",
    "\n",
    "print('-' * 30)\n",
    "print('QUADRADO'.center(30))\n",
    "print('-' * 30)\n",
    "for c, v in enumerate(squares):\n",
    "    print(f'{c} ** 2 = {v}')\n",
    "print('-' * 30)\n"
   ]
  },
  {
   "cell_type": "markdown",
   "id": "6da11dc8",
   "metadata": {},
   "source": [
    "#### Exercício 2:\n",
    "Dada uma lista de palavras, crie uma nova lista contendo o comprimento de cada palavra.\n",
    "\n",
    "python\n"
   ]
  },
  {
   "cell_type": "code",
   "execution_count": null,
   "id": "1f6054d0",
   "metadata": {},
   "outputs": [],
   "source": [
    "# Usando for\n",
    "words = [\"python\", \"list\", \"comprehension\", \"exercise\"]\n",
    "word_lengths = []\n",
    "for word in words:\n",
    "    word_lengths.append(len(word))\n",
    "    \n",
    "    "
   ]
  },
  {
   "cell_type": "code",
   "execution_count": 10,
   "id": "3926270e",
   "metadata": {},
   "outputs": [
    {
     "name": "stdout",
     "output_type": "stream",
     "text": [
      "------------------------------\n",
      "     TAMANHO DAS PALAVRAS     \n",
      "------------------------------\n",
      "python = 6 letras\n",
      "list = 4 letras\n",
      "comprehension = 13 letras\n",
      "exercise = 8 letras\n",
      "------------------------------\n"
     ]
    }
   ],
   "source": [
    "# Usando list comprehension\n",
    "words = [\"python\", \"list\", \"comprehension\", \"exercise\"]\n",
    "word_lengths = [len(word) for word in words]\n",
    "\n",
    "print('-' * 30)\n",
    "print('TAMANHO DAS PALAVRAS'.center(30))\n",
    "print('-' * 30)\n",
    "for c, v in enumerate(words):\n",
    "    print(f'{v} = {word_lengths[c]} letras')\n",
    "print('-' * 30)"
   ]
  },
  {
   "cell_type": "markdown",
   "id": "7ffe0afc",
   "metadata": {},
   "source": [
    "#### Exercício 3:\n",
    "Dada uma lista de números, crie uma nova lista que contenha apenas os números pares."
   ]
  },
  {
   "cell_type": "code",
   "execution_count": null,
   "id": "eb377c71",
   "metadata": {},
   "outputs": [],
   "source": [
    "# Usando for\n",
    "numbers = [1, 2, 3, 4, 5, 6, 7, 8, 9, 10]\n",
    "even_numbers = []\n",
    "for num in numbers:\n",
    "    if num % 2 == 0:\n",
    "        even_numbers.append(num)\n",
    "        \n",
    "        "
   ]
  },
  {
   "cell_type": "code",
   "execution_count": 11,
   "id": "742755d6",
   "metadata": {},
   "outputs": [
    {
     "name": "stdout",
     "output_type": "stream",
     "text": [
      "[2, 4, 6, 8, 10]\n"
     ]
    }
   ],
   "source": [
    "# Usando list comprehension\n",
    "numbers = [1, 2, 3, 4, 5, 6, 7, 8, 9, 10]\n",
    "even_numbers = [num for num in numbers if num % 2 == 0]\n",
    "print(even_numbers)"
   ]
  },
  {
   "cell_type": "markdown",
   "id": "25c02633",
   "metadata": {},
   "source": [
    "#### Exercício 4:\n",
    "Crie uma lista com os cubos dos números de 1 a 5, apenas se o cubo for ímpar.\n",
    "\n",
    "python\n"
   ]
  },
  {
   "cell_type": "code",
   "execution_count": 15,
   "id": "8538fb37",
   "metadata": {},
   "outputs": [],
   "source": [
    "# Usando for\n",
    "cubes = []\n",
    "for num in range(1, 6):\n",
    "    cube = num ** 3\n",
    "    if cube % 2 != 0:\n",
    "        cubes.append(cube)\n",
    "\n",
    "\n"
   ]
  },
  {
   "cell_type": "code",
   "execution_count": 19,
   "id": "6f2948c3",
   "metadata": {},
   "outputs": [
    {
     "name": "stdout",
     "output_type": "stream",
     "text": [
      "------------------------------\n",
      "             CUBO             \n",
      "------------------------------\n",
      "1 ** 3 == 1\n",
      "3 ** 3 == 27\n",
      "5 ** 3 == 125\n",
      "------------------------------\n"
     ]
    }
   ],
   "source": [
    "# Usando list comprehension\n",
    "cubes = [num ** 3 for num in range(1, 6) if (num ** 3) % 2 != 0]\n",
    "\n",
    "print('-' * 30)\n",
    "print('CUBO'.center(30))\n",
    "print('-' * 30)\n",
    "for r in cubes:\n",
    "    print(f'{r ** (1/3):.0f} ** 3 == {r}')\n",
    "print('-' * 30)"
   ]
  },
  {
   "cell_type": "markdown",
   "id": "5af4dd70",
   "metadata": {},
   "source": [
    "#### Exercício 5:\n",
    "Dada uma lista de números, crie uma nova lista que contenha apenas os números maiores que 5."
   ]
  },
  {
   "cell_type": "code",
   "execution_count": null,
   "id": "3c5381ae",
   "metadata": {},
   "outputs": [],
   "source": [
    "# Usando for\n",
    "numbers = [3, 7, 1, 10, 4, 8, 6]\n",
    "greater_than_five = []\n",
    "for num in numbers:\n",
    "    if num > 5:\n",
    "        greater_than_five.append(num)\n",
    "\n"
   ]
  },
  {
   "cell_type": "code",
   "execution_count": 20,
   "id": "2ced65a2",
   "metadata": {},
   "outputs": [
    {
     "name": "stdout",
     "output_type": "stream",
     "text": [
      "------------------------------\n",
      "         MAIOR QUE 5          \n",
      "------------------------------\n",
      "7\n",
      "10\n",
      "8\n",
      "6\n",
      "------------------------------\n"
     ]
    }
   ],
   "source": [
    "# Usando list comprehension\n",
    "numbers = [3, 7, 1, 10, 4, 8, 6]\n",
    "greater_than_five = [num for num in numbers if num > 5]\n",
    "\n",
    "print('-' * 30)\n",
    "print('MAIOR QUE 5'.center(30))\n",
    "print('-' * 30)\n",
    "for num in greater_than_five:\n",
    "    print(f'{num}')\n",
    "print('-' * 30)"
   ]
  }
 ],
 "metadata": {
  "kernelspec": {
   "display_name": "Python 3 (ipykernel)",
   "language": "python",
   "name": "python3"
  },
  "language_info": {
   "codemirror_mode": {
    "name": "ipython",
    "version": 3
   },
   "file_extension": ".py",
   "mimetype": "text/x-python",
   "name": "python",
   "nbconvert_exporter": "python",
   "pygments_lexer": "ipython3",
   "version": "3.11.4"
  }
 },
 "nbformat": 4,
 "nbformat_minor": 5
}
