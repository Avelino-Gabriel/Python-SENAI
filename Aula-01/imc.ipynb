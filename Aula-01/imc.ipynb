{
 "cells": [
  {
   "cell_type": "code",
   "execution_count": 1,
   "id": "023b670c",
   "metadata": {},
   "outputs": [
    {
     "name": "stdout",
     "output_type": "stream",
     "text": [
      "Digite sua altura: 1.69\n",
      "Digite seu peso: 67.6\n",
      "Seu imc é: 23.668639053254438\n"
     ]
    }
   ],
   "source": [
    "altura = float(input('Digite sua altura: '))\n",
    "peso = float(input('Digite seu peso: '))\n",
    "\n",
    "imc = str(peso / altura ** 2)\n",
    "print('Seu imc é: ' + imc)\n"
   ]
  },
  {
   "cell_type": "code",
   "execution_count": null,
   "id": "410fbeda",
   "metadata": {},
   "outputs": [],
   "source": []
  }
 ],
 "metadata": {
  "kernelspec": {
   "display_name": "Python 3 (ipykernel)",
   "language": "python",
   "name": "python3"
  },
  "language_info": {
   "codemirror_mode": {
    "name": "ipython",
    "version": 3
   },
   "file_extension": ".py",
   "mimetype": "text/x-python",
   "name": "python",
   "nbconvert_exporter": "python",
   "pygments_lexer": "ipython3",
   "version": "3.11.3"
  }
 },
 "nbformat": 4,
 "nbformat_minor": 5
}
