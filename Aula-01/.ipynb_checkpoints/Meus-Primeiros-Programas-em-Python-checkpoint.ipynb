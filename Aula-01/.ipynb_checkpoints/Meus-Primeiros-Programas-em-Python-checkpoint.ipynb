{
 "cells": [
  {
   "cell_type": "markdown",
   "id": "afb23f6e",
   "metadata": {},
   "source": [
    "Exercício de Python"
   ]
  },
  {
   "cell_type": "code",
   "execution_count": 51,
   "id": "92e81477",
   "metadata": {},
   "outputs": [
    {
     "name": "stdout",
     "output_type": "stream",
     "text": [
      "Hello World!\n"
     ]
    }
   ],
   "source": [
    "print('Hello World!')"
   ]
  },
  {
   "cell_type": "code",
   "execution_count": 52,
   "id": "aa14c0f1",
   "metadata": {},
   "outputs": [
    {
     "name": "stdout",
     "output_type": "stream",
     "text": [
      "123\n"
     ]
    }
   ],
   "source": [
    "print(123)"
   ]
  },
  {
   "cell_type": "code",
   "execution_count": 53,
   "id": "987c0f8f",
   "metadata": {},
   "outputs": [
    {
     "name": "stdout",
     "output_type": "stream",
     "text": [
      "4\n"
     ]
    }
   ],
   "source": [
    "print(2+2)"
   ]
  },
  {
   "cell_type": "code",
   "execution_count": 54,
   "id": "d2f3be95",
   "metadata": {},
   "outputs": [
    {
     "name": "stdout",
     "output_type": "stream",
     "text": [
      "25\n"
     ]
    }
   ],
   "source": [
    "print(5*5)"
   ]
  },
  {
   "cell_type": "code",
   "execution_count": 55,
   "id": "d957a29f",
   "metadata": {},
   "outputs": [
    {
     "name": "stdout",
     "output_type": "stream",
     "text": [
      "0.6666666666666666\n"
     ]
    }
   ],
   "source": [
    "print(2/3)"
   ]
  },
  {
   "cell_type": "code",
   "execution_count": 56,
   "id": "5fa25b49",
   "metadata": {},
   "outputs": [
    {
     "name": "stdout",
     "output_type": "stream",
     "text": [
      "25\n"
     ]
    }
   ],
   "source": [
    "print(5**2\n",
    "     )\n"
   ]
  },
  {
   "cell_type": "code",
   "execution_count": 57,
   "id": "29292179",
   "metadata": {},
   "outputs": [
    {
     "name": "stdout",
     "output_type": "stream",
     "text": [
      "2\n"
     ]
    }
   ],
   "source": [
    "print(5%3)"
   ]
  },
  {
   "cell_type": "code",
   "execution_count": 58,
   "id": "3f4429cf",
   "metadata": {},
   "outputs": [
    {
     "name": "stdout",
     "output_type": "stream",
     "text": [
      "meu primeiro codigo\n"
     ]
    }
   ],
   "source": [
    "print('meu primeiro codigo')"
   ]
  },
  {
   "cell_type": "code",
   "execution_count": 59,
   "id": "bd61bc80",
   "metadata": {},
   "outputs": [],
   "source": [
    "faturamento = 1500"
   ]
  },
  {
   "cell_type": "code",
   "execution_count": 60,
   "id": "c7e67607",
   "metadata": {},
   "outputs": [
    {
     "name": "stdout",
     "output_type": "stream",
     "text": [
      "1500\n"
     ]
    }
   ],
   "source": [
    "print(faturamento)"
   ]
  },
  {
   "cell_type": "code",
   "execution_count": 61,
   "id": "c833b00a",
   "metadata": {},
   "outputs": [],
   "source": [
    "custo = 800\n",
    "lucro = faturamento - custo"
   ]
  },
  {
   "cell_type": "code",
   "execution_count": 62,
   "id": "70ea1762",
   "metadata": {},
   "outputs": [
    {
     "name": "stdout",
     "output_type": "stream",
     "text": [
      "700\n"
     ]
    }
   ],
   "source": [
    "print(lucro)"
   ]
  },
  {
   "cell_type": "code",
   "execution_count": 63,
   "id": "9ad91533",
   "metadata": {},
   "outputs": [
    {
     "name": "stdout",
     "output_type": "stream",
     "text": [
      "800\n"
     ]
    }
   ],
   "source": [
    "print(custo)"
   ]
  },
  {
   "cell_type": "code",
   "execution_count": 64,
   "id": "47bcc1cb",
   "metadata": {},
   "outputs": [
    {
     "name": "stdout",
     "output_type": "stream",
     "text": [
      "700\n"
     ]
    }
   ],
   "source": [
    "print(faturamento - custo)"
   ]
  },
  {
   "cell_type": "code",
   "execution_count": 65,
   "id": "03c4d6a0",
   "metadata": {},
   "outputs": [
    {
     "name": "stdout",
     "output_type": "stream",
     "text": [
      "Digite seu CPF: 123\n"
     ]
    }
   ],
   "source": [
    "cpf = input(\"Digite seu CPF: \")"
   ]
  },
  {
   "cell_type": "code",
   "execution_count": 66,
   "id": "b5976a29",
   "metadata": {},
   "outputs": [
    {
     "name": "stdout",
     "output_type": "stream",
     "text": [
      "O CPF é 123\n"
     ]
    }
   ],
   "source": [
    "print('O CPF é ' + cpf)"
   ]
  },
  {
   "cell_type": "code",
   "execution_count": 67,
   "id": "61ced38c",
   "metadata": {},
   "outputs": [
    {
     "name": "stdout",
     "output_type": "stream",
     "text": [
      "True\n"
     ]
    }
   ],
   "source": [
    "print('j' in 'johnny')"
   ]
  },
  {
   "cell_type": "code",
   "execution_count": 68,
   "id": "e01ff1bf",
   "metadata": {},
   "outputs": [
    {
     "name": "stdout",
     "output_type": "stream",
     "text": [
      "False\n"
     ]
    }
   ],
   "source": [
    "print('J' in 'johnny')"
   ]
  },
  {
   "cell_type": "code",
   "execution_count": null,
   "id": "a230a460",
   "metadata": {},
   "outputs": [],
   "source": []
  }
 ],
 "metadata": {
  "kernelspec": {
   "display_name": "Python 3 (ipykernel)",
   "language": "python",
   "name": "python3"
  },
  "language_info": {
   "codemirror_mode": {
    "name": "ipython",
    "version": 3
   },
   "file_extension": ".py",
   "mimetype": "text/x-python",
   "name": "python",
   "nbconvert_exporter": "python",
   "pygments_lexer": "ipython3",
   "version": "3.11.3"
  }
 },
 "nbformat": 4,
 "nbformat_minor": 5
}
