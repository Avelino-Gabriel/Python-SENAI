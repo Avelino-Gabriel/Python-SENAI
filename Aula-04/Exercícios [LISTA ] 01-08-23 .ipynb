{
 "cells": [
  {
   "cell_type": "markdown",
   "id": "c68d6f8e",
   "metadata": {},
   "source": [
    "# Exercícios - Testando Conhecimentos Aprendidos em Aula\n",
    "\n",
    "### Neste conjunto de exercícios, você será desafiado a aplicar os conceitos aprendidos sobre listas em Python. Os exercícios abrangem operações como criação de listas, remoção de elementos, adição de itens, índices, uso de list comprehensions e muito mais. Siga as instruções de cada exercício e tente resolver utilizando apenas o código dentro do script."
   ]
  },
  {
   "cell_type": "markdown",
   "id": "69d0f7dc",
   "metadata": {},
   "source": [
    "##"
   ]
  },
  {
   "cell_type": "markdown",
   "id": "ec501626",
   "metadata": {},
   "source": [
    "### 1 - Crie uma lista contendo os nomes de 5 países. Peça ao usuário para inserir o nome de mais um país. Em seguida, verifique se o país fornecido pelo usuário está na lista e exiba uma mensagem informando se ele está ou não na lista."
   ]
  },
  {
   "cell_type": "code",
   "execution_count": 3,
   "id": "db57457f",
   "metadata": {},
   "outputs": [
    {
     "name": "stdout",
     "output_type": "stream",
     "text": [
      "Novo país Alemanha adicionado a lista!\n",
      "Países: ['Alemanha', 'Brasil', 'Canadá', 'Dinamarca', 'Estados Unidos', 'Finlândia']\n"
     ]
    }
   ],
   "source": [
    "paises = ['Brasil', 'Estados Unidos', 'Canadá', 'Dinamarca', 'Finlândia']\n",
    "\n",
    "novo_pais = str(input('Digite o nome do país que você deseja adicionar: ')).strip().title()\n",
    "if novo_pais not in paises:\n",
    "    paises.append(novo_pais)\n",
    "    paises.sort()\n",
    "    print(f'''Novo país {novo_pais} adicionado a lista!\n",
    "Países: {paises}''')\n",
    "else:\n",
    "    print(f'''Esse país já estava presente na lista!\n",
    "Países: {paises}''')"
   ]
  },
  {
   "cell_type": "markdown",
   "id": "979aeae5",
   "metadata": {},
   "source": [
    "### 2 - Crie uma lista contendo os preços de 5 produtos. Em seguida, calcule e exiba o preço médio desses produtos."
   ]
  },
  {
   "cell_type": "code",
   "execution_count": 1,
   "id": "2748950b",
   "metadata": {},
   "outputs": [
    {
     "name": "stdout",
     "output_type": "stream",
     "text": [
      "Preços do produtos: [100.0, 2000.0, 50.0, 10.0, 15000.0]\n",
      "Preço Médio: 3432.0\n"
     ]
    }
   ],
   "source": [
    "precos = [100.0, 2000.0, 50.0, 10.0, 15000.0]\n",
    "preco_medio = sum(precos) / len(precos)\n",
    "\n",
    "print(f'''Preços do produtos: {precos}\n",
    "Preço Médio: {preco_medio}''')"
   ]
  },
  {
   "cell_type": "markdown",
   "id": "504c48df",
   "metadata": {},
   "source": [
    "  ### 3 - Crie uma lista com 5 cores diferentes. Peça ao usuário para inserir o nome de uma cor. Se a cor estiver na lista, remova-a e exiba a lista atualizada. Caso contrário, exiba uma mensagem informando que a cor não foi encontrada."
   ]
  },
  {
   "cell_type": "code",
   "execution_count": 4,
   "id": "f2681580",
   "metadata": {},
   "outputs": [
    {
     "name": "stdout",
     "output_type": "stream",
     "text": [
      "['Vermelho', 'Verde', 'Azul', 'Ciano', 'Turquesa']\n",
      "Cor Ciano removida\n",
      "Cores: ['Vermelho', 'Verde', 'Azul', 'Turquesa']\n"
     ]
    }
   ],
   "source": [
    "cores = ['Vermelho', 'Verde', 'Azul', 'Ciano', 'Turquesa']\n",
    "print(cores)\n",
    "\n",
    "remover_cor = str(input('Insira o nome de uma cor: ')).strip().title()\n",
    "\n",
    "try:\n",
    "    cores.remove(remover_cor)\n",
    "    print(f'Cor {remover_cor} removida')\n",
    "except:\n",
    "    print(f'Cor {remover_cor} não encontrada')\n",
    "print(f'Cores: {cores}')"
   ]
  },
  {
   "cell_type": "markdown",
   "id": "536d487d",
   "metadata": {},
   "source": [
    "### 4 - Escreva um programa que leia duas listas de números do usuário e verifique se elas têm o mesmo comprimento e se possuem elementos iguais nas mesmas posições. Exiba uma mensagem informando se as listas são iguais ou diferentes."
   ]
  },
  {
   "cell_type": "code",
   "execution_count": 5,
   "id": "612d02de",
   "metadata": {},
   "outputs": [
    {
     "name": "stdout",
     "output_type": "stream",
     "text": [
      "As listas têm comprimentos iguais\n",
      "Os seguintes números se repetem nas listas e estão nas mesmas posições[2, 3]\n",
      "As listas são diferentes.\n"
     ]
    }
   ],
   "source": [
    "lista1 = []\n",
    "lista2 = []\n",
    "iguais = []\n",
    "\n",
    "lista1.append(int(input('Digite um valor para a lista1: ')))\n",
    "lista1.append(int(input('Digite um valor para a lista1: ')))\n",
    "lista1.append(int(input('Digite um valor para a lista1: ')))\n",
    "lista1.append(int(input('Digite um valor para a lista1: ')))\n",
    "\n",
    "lista2.append(int(input('Digite um valor para a lista2: ')))\n",
    "lista2.append(int(input('Digite um valor para a lista2: ')))\n",
    "lista2.append(int(input('Digite um valor para a lista2: ')))\n",
    "lista2.append(int(input('Digite um valor para a lista2: ')))\n",
    "\n",
    "if len(lista1) == len(lista2):\n",
    "    print('As listas têm comprimentos iguais')\n",
    "else:\n",
    "    print('A lista1 tem comprimento maior que a lista2' if len(lista1) > len(lista2) else 'A lista2 tem comprimento maior que a lista1')\n",
    "\n",
    "if lista1[0] == lista2[0]:\n",
    "    iguais.append(lista1[0])\n",
    "\n",
    "if lista1[1] == lista2[1]:\n",
    "    iguais.append(lista1[1])\n",
    "\n",
    "if lista1[2] == lista2[2]:\n",
    "    iguais.append(lista1[2])\n",
    "\n",
    "if lista1[3] == lista2[3]:\n",
    "    iguais.append(lista1[3])\n",
    "\n",
    "print(f'Os seguintes números se repetem nas listas e estão nas mesmas posições{iguais}' if iguais else 'Não há valores que se repetem entre as listas')\n",
    "print('As listas são iguais.' if lista1 == lista2 else 'As listas são diferentes.')\n"
   ]
  },
  {
   "cell_type": "markdown",
   "id": "462e7a14",
   "metadata": {},
   "source": [
    "### 5 - Crie uma lista contendo 10 números. Em seguida, solicite ao usuário que insira um número. Verifique se o número fornecido pelo usuário está na lista e, se estiver, exiba em quantas posições ele aparece."
   ]
  },
  {
   "cell_type": "code",
   "execution_count": null,
   "id": "4faa687c",
   "metadata": {},
   "outputs": [],
   "source": [
    "num = [1, 2, 3, 4, 5, 6, 7, 8, 9, 10]\n",
    "\n",
    "num_usuario = int(input('Escolha um número de 1 a 10: '))\n",
    "\n",
    "if num.count(num_usuario) > 0:\n",
    "    print(f'O valor {num_usuario} está na lista e aparece {num.count(num_usuario)} vezes.')\n",
    "else:\n",
    "    print(f'O valor {num_usuario} não está na lista.')"
   ]
  },
  {
   "cell_type": "markdown",
   "id": "dcf80a5a",
   "metadata": {},
   "source": [
    "### 6 - Escreva uma função que recebe uma palavra e verifica se é um palíndromo, ou seja, se a palavra é igual quando lida de trás para frente."
   ]
  },
  {
   "cell_type": "code",
   "execution_count": 6,
   "id": "8855c87e",
   "metadata": {},
   "outputs": [
    {
     "name": "stdout",
     "output_type": "stream",
     "text": [
      "ROMA ME TEM AMOR é um palíndromo.\n"
     ]
    }
   ],
   "source": [
    "text = str(input('Digite uma palavra ou uma frase: ')).strip().upper()\n",
    "\n",
    "if text.replace(' ', '') == text.replace(' ', '')[::-1]:\n",
    "    print(f'{text} é um palíndromo.')\n",
    "else:\n",
    "    print(f'{text} não é um palíndromo.')\n",
    "\n"
   ]
  },
  {
   "cell_type": "markdown",
   "id": "7a0ff2fc",
   "metadata": {},
   "source": [
    "### 7 - Escreva uma função que recebe duas listas e retorna uma nova lista que é a concatenação das duas."
   ]
  },
  {
   "cell_type": "code",
   "execution_count": 1,
   "id": "3ce93eaf",
   "metadata": {},
   "outputs": [
    {
     "name": "stdout",
     "output_type": "stream",
     "text": [
      "Lista Concatenada: [1, 2, 3, 4, 5, 6, 7, 8, 9, 10]\n"
     ]
    }
   ],
   "source": [
    "lista1 = [1, 2, 3, 4, 5]\n",
    "lista2 = [6, 7, 8, 9, 10]\n",
    "\n",
    "lista_conc = lista1 + lista2\n",
    "\n",
    "print(f'Lista Concatenada: {lista_conc}')"
   ]
  },
  {
   "cell_type": "markdown",
   "id": "1616e8c8",
   "metadata": {},
   "source": [
    "### 8 - Escreva uma função que recebe uma lista e dois índices e troca os elementos presentes nos índices fornecidos."
   ]
  },
  {
   "cell_type": "code",
   "execution_count": 7,
   "id": "afa9e00a",
   "metadata": {},
   "outputs": [
    {
     "name": "stdout",
     "output_type": "stream",
     "text": [
      "[1, 4, 3, 4, 1]\n"
     ]
    }
   ],
   "source": [
    "lista = [1, 2, 3, 4, 5]\n",
    "\n",
    "index1, index2 = int(input('Digite um index entre 0 e 4: ')), int(input('Digite um index entre 0 e 4: '))\n",
    "\n",
    "lista[index1] = lista[index2]\n",
    "\n",
    "lista[index2] = lista[index1]\n",
    "\n",
    "print(lista)\n",
    "\n"
   ]
  },
  {
   "cell_type": "markdown",
   "id": "d77bef5e",
   "metadata": {},
   "source": [
    "### 9 - Escreva uma função que recebe uma lista e retorna uma nova lista com os elementos invertidos na ordem."
   ]
  },
  {
   "cell_type": "code",
   "execution_count": 10,
   "id": "44da2eb8",
   "metadata": {},
   "outputs": [
    {
     "name": "stdout",
     "output_type": "stream",
     "text": [
      "[5, 4, 3, 2, 1]\n"
     ]
    }
   ],
   "source": [
    "lista = [1, 2, 3, 4, 5]\n",
    "\n",
    "print(lista[::-1])"
   ]
  },
  {
   "cell_type": "markdown",
   "id": "a840c743",
   "metadata": {},
   "source": [
    "### 10 - Escreva uma função que recebe uma lista de palavras e retorna uma nova lista contendo apenas as palavras únicas, ou seja, palavras que aparecem apenas uma vez na lista."
   ]
  },
  {
   "cell_type": "code",
   "execution_count": 11,
   "id": "0924cdcc",
   "metadata": {},
   "outputs": [
    {
     "name": "stdout",
     "output_type": "stream",
     "text": [
      "Lista Inicial: ['Banana', 'Maçã', 'Banana', 'Maçã', 'Uva']\n",
      "Nova Lista: ['Banana', 'Maçã', 'Uva']\n"
     ]
    }
   ],
   "source": [
    "lista = []\n",
    "lista_unica = []\n",
    "\n",
    "lista.append(str(input('Digite uma palavra para a lista: '))).title()\n",
    "lista.append(str(input('Digite uma palavra para a lista: '))).title()\n",
    "lista.append(str(input('Digite uma palavra para a lista: '))).title()\n",
    "lista.append(str(input('Digite uma palavra para a lista: '))).title()\n",
    "lista.append(str(input('Digite uma palavra para a lista: '))).title()\n",
    "\n",
    "if lista[0] not in lista_unica:\n",
    "    lista_unica.append(lista[0])\n",
    "\n",
    "if lista[1] not in lista_unica:\n",
    "    lista_unica.append(lista[1])\n",
    "\n",
    "if lista[2] not in lista_unica:\n",
    "    lista_unica.append(lista[2])\n",
    "\n",
    "if lista[3] not in lista_unica:\n",
    "    lista_unica.append(lista[3])\n",
    "\n",
    "if lista[4] not in lista_unica:\n",
    "    lista_unica.append(lista[4])\n",
    "\n",
    "print(f'''Lista Inicial: {lista}\n",
    "Nova Lista: {lista_unica}''')\n",
    "\n"
   ]
  }
 ],
 "metadata": {
  "kernelspec": {
   "display_name": "Python 3 (ipykernel)",
   "language": "python",
   "name": "python3"
  },
  "language_info": {
   "codemirror_mode": {
    "name": "ipython",
    "version": 3
   },
   "file_extension": ".py",
   "mimetype": "text/x-python",
   "name": "python",
   "nbconvert_exporter": "python",
   "pygments_lexer": "ipython3",
   "version": "3.11.4"
  }
 },
 "nbformat": 4,
 "nbformat_minor": 5
}
