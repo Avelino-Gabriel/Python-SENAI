{
 "cells": [
  {
   "cell_type": "markdown",
   "metadata": {},
   "source": [
    "# Exercícios\n",
    "\n",
    "## 1. Faturamento do Melhor e do Pior Mês do Ano\n",
    "\n",
    "Qual foi o valor de vendas do melhor mês do Ano?\n",
    "E valor do pior mês do ano?"
   ]
  },
  {
   "cell_type": "code",
   "execution_count": 12,
   "metadata": {},
   "outputs": [
    {
     "name": "stdout",
     "output_type": "stream",
     "text": [
      "O pior mês de vendas foi dez com valor de vendas de R$9650.00.\n",
      "O melhor mês de vendas foi nov com valor de vendas de R$49051.00.\n"
     ]
    }
   ],
   "source": [
    "meses = ['jan', 'fev', 'mar', 'abr', 'mai', 'jun', 'jul', 'ago', 'set', 'out', 'nov', 'dez']\n",
    "vendas_1sem = [25000, 29000, 22200, 17750, 15870, 19900]\n",
    "vendas_2sem = [19850, 20120, 17540, 15555, 49051, 9650]\n",
    "\n",
    "vendas_ano = vendas_1sem + vendas_2sem\n",
    "\n",
    "pior = min(vendas_ano)\n",
    "melhor = max(vendas_ano)\n",
    "print(f'''Melhor valor de vendas = R${melhor:.2f}.\n",
    "Pior valor de vendas = R${pior:.2f}.''')"
   ]
  },
  {
   "cell_type": "markdown",
   "metadata": {},
   "source": [
    "## 2. Continuação\n",
    "\n",
    "Agora relacione as duas listas para printar 'O melhor mês do ano foi {} com {} vendas' e o mesmo para o pior mês do ano.\n",
    "\n",
    "Calcule também o faturamento total do Ano e quanto que o melhor mês representou do faturamento total.\n",
    "\n",
    "Obs: Para o faturamento total, pode usar a função sum(lista) que soma todos os itens de uma lista"
   ]
  },
  {
   "cell_type": "code",
   "execution_count": null,
   "metadata": {},
   "outputs": [],
   "source": [
    "meses = ['jan', 'fev', 'mar', 'abr', 'mai', 'jun', 'jul', 'ago', 'set', 'out', 'nov', 'dez']\n",
    "vendas_1sem = [25000, 29000, 22200, 17750, 15870, 19900]\n",
    "vendas_2sem = [19850, 20120, 17540, 15555, 49051, 9650]\n",
    "\n",
    "vendas_ano = vendas_1sem + vendas_2sem\n",
    "\n",
    "pior = min(vendas_ano)\n",
    "melhor = max(vendas_ano)\n",
    "print(f'''O melhor mês de vendas foi {meses[vendas_ano.index(int(melhor))]} com valor de vendas de R${melhor:.2f}.\n",
    "O pior mês de vendas foi {meses[vendas_ano.index(int(pior))]} com valor de vendas de R${pior:.2f}.''')"
   ]
  },
  {
   "cell_type": "markdown",
   "metadata": {},
   "source": [
    "## 3. Crie uma lista com o top 3 valores de vendas do ano (sem fazer \"no olho\")\n",
    "\n",
    "Dica: o método remove retira um item da lista."
   ]
  },
  {
   "cell_type": "code",
   "execution_count": 1,
   "metadata": {},
   "outputs": [
    {
     "name": "stdout",
     "output_type": "stream",
     "text": [
      "Os três maiores valores de vendas foram: [49051, 29000, 25000]\n"
     ]
    }
   ],
   "source": [
    "meses = ['jan', 'fev', 'mar', 'abr', 'mai', 'jun', 'jul', 'ago', 'set', 'out', 'nov', 'dez']\n",
    "vendas_1sem = [25000, 29000, 22200, 17750, 15870, 19900]\n",
    "vendas_2sem = [19850, 20120, 17540, 15555, 49051, 9650]\n",
    "\n",
    "vendas_ano = vendas_1sem + vendas_2sem\n",
    "\n",
    "top3 = []\n",
    "\n",
    "maior = max(vendas_ano)\n",
    "top3.append(maior)\n",
    "vendas_ano.remove(maior)\n",
    "segundo_maior = max(vendas_ano)\n",
    "top3.append(segundo_maior)\n",
    "vendas_ano.remove(segundo_maior)\n",
    "terceiro_maior = max(vendas_ano)\n",
    "top3.append(terceiro_maior)\n",
    "vendas_ano.remove(terceiro_maior)\n",
    "\n",
    "print(f'Os três maiores valores de vendas foram: {top3}')"
   ]
  }
 ],
 "metadata": {
  "kernelspec": {
   "display_name": "Python 3",
   "language": "python",
   "name": "python3"
  },
  "language_info": {
   "codemirror_mode": {
    "name": "ipython",
    "version": 3
   },
   "file_extension": ".py",
   "mimetype": "text/x-python",
   "name": "python",
   "nbconvert_exporter": "python",
   "pygments_lexer": "ipython3",
   "version": "3.11.4"
  }
 },
 "nbformat": 4,
 "nbformat_minor": 4
}
