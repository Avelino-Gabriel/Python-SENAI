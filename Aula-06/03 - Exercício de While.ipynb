{
 "cells": [
  {
   "cell_type": "markdown",
   "metadata": {},
   "source": [
    "# Exercícios\n",
    "\n",
    "## 1. Input até o usuário parar\n",
    "\n",
    "Vamos criar um sistema de vendas. Nosso programa deve registrar os produtos e as quantidades (2 inputs) e adicionar em uma lista.\n",
    "\n",
    "O programa deve continuar rodando até o input ser vazio, ou seja, o usuário apertar enter sem digitar nenhum produto ou quantidade.\n",
    "\n",
    "Ao final do programa, ele deve printar todos os produtos e quantidades vendidas.\n",
    "\n",
    "Obs: Caso queira, para o print ficar mais visual, pode usar o join para cada item ser printado em uma linha.\n",
    "Sugestão para sua lista de produtos vendidos:"
   ]
  },
  {
   "cell_type": "raw",
   "metadata": {},
   "source": [
    "vendas = [\n",
    "    ['maçã', 5],\n",
    "    ['banana', 15],\n",
    "    ['azeite', 1],\n",
    "    ['vinho', 3],\n",
    "]"
   ]
  },
  {
   "cell_type": "code",
   "execution_count": 21,
   "metadata": {},
   "outputs": [
    {
     "name": "stdout",
     "output_type": "stream",
     "text": [
      "---------------------------------------------\n",
      "        QUANTIDADE DE VENDAS DE FRUTAS       \n",
      "---------------------------------------------\n",
      "Fruta                         Quantidade\n",
      "---------------------------------------------\n",
      "Banana                        30                            \n",
      "Maçã                          30                            \n"
     ]
    }
   ],
   "source": [
    "#seu código aqui\n",
    "\n",
    "vendas = []\n",
    "quantidade = 0\n",
    "\n",
    "while True:\n",
    "    produto = []\n",
    "    try:\n",
    "        nome = str(input('Nome do Produto: '))\n",
    "\n",
    "        if nome:\n",
    "            while True:\n",
    "                try:\n",
    "                    quantidade = int(input('Quantidade: '))\n",
    "                except (TypeError):\n",
    "                    print('Digite um valor válido')\n",
    "                else:\n",
    "                    produto.append(nome)\n",
    "                    produto.append(quantidade)\n",
    "                    vendas.append(produto[:])\n",
    "                    produto.clear()\n",
    "                    break\n",
    "        else:\n",
    "            nome = '<desconhecido>'\n",
    "            break\n",
    "    except:\n",
    "        break\n",
    "\n",
    "print('-' * 45)\n",
    "print('QUANTIDADE DE VENDAS DE FRUTAS'.center(45))\n",
    "print('-' * 45)\n",
    "\n",
    "print(f'{\"Fruta\":<30}{\"Quantidade\"}')\n",
    "print('-' * 45)\n",
    "\n",
    "for p in vendas:\n",
    "    for v in p:\n",
    "        print(f'{v:<30}', end='')\n",
    "    print()\n"
   ]
  },
  {
   "cell_type": "markdown",
   "metadata": {},
   "source": [
    "### Obs: Podemos fazer o While de 2 maneiras:\n",
    "\n",
    "1. While com a condição que finalize o programa\n",
    "2. While rodando para sempre, mas com uma condição dentro do while que dê um break no código.\n",
    "\n",
    "Vamos mostrar as 2 opções"
   ]
  }
 ],
 "metadata": {
  "kernelspec": {
   "display_name": "Python 3",
   "language": "python",
   "name": "python3"
  },
  "language_info": {
   "codemirror_mode": {
    "name": "ipython",
    "version": 3
   },
   "file_extension": ".py",
   "mimetype": "text/x-python",
   "name": "python",
   "nbconvert_exporter": "python",
   "pygments_lexer": "ipython3",
   "version": "3.11.4"
  }
 },
 "nbformat": 4,
 "nbformat_minor": 4
}
