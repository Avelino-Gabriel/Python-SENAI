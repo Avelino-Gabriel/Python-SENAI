{
 "cells": [
  {
   "cell_type": "markdown",
   "id": "39f9a7fb",
   "metadata": {},
   "source": [
    "# Desafios de Treinamento em Python com o Loop While\n",
    "\n",
    "\n",
    "\n",
    "#### \"Desafios de Treinamento em Python com o Loop While\"! Você está prestes a embarcar em uma jornada emocionante para aprimorar suas habilidades de programação usando a linguagem Python. Os exercícios que apresentamos aqui foram projetados para proporcionar a você uma compreensão sólida e prática do loop while, uma ferramenta poderosa que permite que seu código execute repetidamente enquanto uma condição for verdadeira.\n",
    "\n",
    "#### À medida que você trabalha nesses exercícios, você estará mergulhando em situações do mundo real, resolvendo problemas e construindo soluções criativas usando o loop while. Essa é uma oportunidade incrível para fortalecer sua lógica de programação e sua capacidade de transformar conceitos abstratos em código funcional.\n",
    "\n",
    "##### Cada exercício apresenta uma situação desafiadora que requer o uso eficaz do loop while. Ao enfrentar esses desafios, você não apenas dominará os aspectos técnicos da linguagem Python, mas também desenvolverá uma abordagem analítica para resolver problemas complexos de maneira iterativa e estruturada.\n",
    "\n",
    "#### Lembre-se de que a prática é fundamental para aprimorar suas habilidades. Reserve um tempo para entender completamente cada exercício, experimentar diferentes abordagens e testar suas soluções. Se encontrar dificuldades, não hesite em pesquisar documentações, tutoriais e recursos online para obter insights adicionais."
   ]
  },
  {
   "cell_type": "markdown",
   "id": "cb724eb6",
   "metadata": {},
   "source": [
    "## Exercício 1: Contagem regressiva\n",
    "Situação Problema: Você está lançando um foguete espacial e deseja fazer uma contagem regressiva a partir de 10 até o lançamento. Escreva um programa que imprima os números de 30 a 1, indicando a contagem regressiva.\n",
    "\n"
   ]
  },
  {
   "cell_type": "code",
   "execution_count": 49,
   "id": "dca60fff",
   "metadata": {},
   "outputs": [
    {
     "name": "stdout",
     "output_type": "stream",
     "text": [
      "30, 29, 28, 27, 26, 25, 24, 23, 22, 21, 20, 19, 18, 17, 16, 15, 14, 13, 12, 11, 10, 9, 8, 7, 6, 5, 4, 3, 2, 1 "
     ]
    }
   ],
   "source": [
    "c = 30\n",
    "while c >= 1:\n",
    "    if c > 1:\n",
    "        print(c, end=', ')\n",
    "    else:\n",
    "        print(c, end=' ')\n",
    "    c -= 1 "
   ]
  },
  {
   "cell_type": "markdown",
   "id": "59c8b30f",
   "metadata": {},
   "source": [
    "### Exercício 2: Soma até certo limite\n",
    "Situação Problema: Você está jogando um jogo em que precisa somar números inteiros sequencialmente até que a soma ultrapasse 20. Escreva um programa que calcule e exiba a soma desses números.\n",
    "\n"
   ]
  },
  {
   "cell_type": "code",
   "execution_count": 1,
   "id": "718fd861",
   "metadata": {},
   "outputs": [
    {
     "name": "stdout",
     "output_type": "stream",
     "text": [
      "Você ainda não ultrapassou o 20. Você está em 7.\n",
      "Você ainda não ultrapassou o 20. Você está em 8.\n",
      "Você ainda não ultrapassou o 20. Você está em 9.\n",
      "Você ainda não ultrapassou o 20. Você está em 10.\n",
      "Você ainda não ultrapassou o 20. Você está em 11.\n",
      "Você ainda não ultrapassou o 20. Você está em 12.\n",
      "Você ainda não ultrapassou o 20. Você está em 13.\n",
      "Você ainda não ultrapassou o 20. Você está em 14.\n",
      "Você ainda não ultrapassou o 20. Você está em 15.\n",
      "Você ainda não ultrapassou o 20. Você está em 16.\n",
      "Você ainda não ultrapassou o 20. Você está em 17.\n",
      "Você ainda não ultrapassou o 20. Você está em 18.\n",
      "Você ainda não ultrapassou o 20. Você está em 19.\n",
      "Você ainda não ultrapassou o 20. Você está em 20.\n",
      "Você ultrapassou o 20. Chegou em 21.\n"
     ]
    }
   ],
   "source": [
    "num = int(input('Digite um número inteiro para iniciar: '))\n",
    "while num <= 20:\n",
    "    num += 1\n",
    "    if num <= 20:\n",
    "        print(f'Você ainda não ultrapassou o 20. Você está em {num}.')\n",
    "    else:\n",
    "        print(f'Você ultrapassou o 20. Chegou em {num}.')"
   ]
  },
  {
   "cell_type": "markdown",
   "id": "d32b617c",
   "metadata": {},
   "source": [
    "### Exercício 3: Adivinhe o número\n",
    "Situação Problema: Você está brincando de adivinhar o número que um computador escolheu entre 1 e 100. Cada vez que você adivinha, o computador lhe dirá se o número é maior ou menor. Escreva um programa que permita que o jogador adivinhe o número e conte quantas tentativas foram necessárias.\n",
    "\n"
   ]
  },
  {
   "cell_type": "code",
   "execution_count": 51,
   "id": "3cc36712",
   "metadata": {},
   "outputs": [
    {
     "name": "stdout",
     "output_type": "stream",
     "text": [
      "Escolhi um número maior que esse.\n",
      "Escolhi um número maior que esse.\n",
      "Escolhi um número maior que esse.\n",
      "Escolhi um número maior que esse.\n",
      "Escolhi um número menor que esse.\n",
      "Escolhi um número menor que esse.\n",
      "Escolhi um número menor que esse.\n",
      "Escolhi um número menor que esse.\n",
      "Escolhi um número menor que esse.\n",
      "Parabéns! Escolhi o número 92! Você acertou na 10ª tentativa!\n"
     ]
    }
   ],
   "source": [
    "from random import randint\n",
    "\n",
    "computador = randint(1, 100)\n",
    "c = 1 \n",
    "\n",
    "while True:\n",
    "    num = int(input('Digite um número entre 1 e 100: '))\n",
    "    if num == computador:\n",
    "        print(f'Parabéns! Escolhi o número {computador}! Você acertou na {c}ª tentativa!')\n",
    "        break\n",
    "    elif num < computador:\n",
    "        print(f'Escolhi um número maior que esse.')\n",
    "        c += 1\n",
    "    else:\n",
    "        print(f'Escolhi um número menor que esse.')\n",
    "        c += 1 "
   ]
  },
  {
   "cell_type": "markdown",
   "id": "0e3b71f0",
   "metadata": {},
   "source": [
    "### Exercício 4: Tabuada\n",
    "Situação Problema: Você é um estudante tentando aprender a tabuada. Escreva um programa que peça um número ao usuário e, em seguida, exiba a tabuada desse número, de 1 a 10.\n",
    "\n"
   ]
  },
  {
   "cell_type": "code",
   "execution_count": 4,
   "id": "a7bc5188",
   "metadata": {},
   "outputs": [
    {
     "name": "stdout",
     "output_type": "stream",
     "text": [
      "--------------------\n",
      "    TABUADA DO 8    \n",
      "--------------------\n",
      "8 x 1   =   8\n",
      "8 x 2   =  16\n",
      "8 x 3   =  24\n",
      "8 x 4   =  32\n",
      "8 x 5   =  40\n",
      "8 x 6   =  48\n",
      "8 x 7   =  56\n",
      "8 x 8   =  64\n",
      "8 x 9   =  72\n",
      "8 x 10  =  80\n",
      "--------------------\n"
     ]
    }
   ],
   "source": [
    "num = int(input('Digite um número para mostrar sua tabuada: '))\n",
    "c = 1\n",
    "\n",
    "print('-' * 20)\n",
    "print(f'TABUADA DO {num}'.center(20))\n",
    "print('-' * 20)\n",
    "while c <= 10:\n",
    "    result = num * c\n",
    "    print(f'{num} x {c:<3} = {result:>3}') \n",
    "    c += 1\n",
    "print('-' * 20)"
   ]
  },
  {
   "cell_type": "markdown",
   "id": "e2a66077",
   "metadata": {},
   "source": [
    "### Exercício 5: Soma de números pares\n",
    "Situação Problema: Você está tentando calcular a soma de todos os números pares de 2 a 100. Escreva um programa que realize essa tarefa.\n",
    "\n"
   ]
  },
  {
   "cell_type": "code",
   "execution_count": 53,
   "id": "31d1cff6",
   "metadata": {},
   "outputs": [
    {
     "name": "stdout",
     "output_type": "stream",
     "text": [
      "A soma de todos os números pares entre 2 e 100 é: 2550.\n"
     ]
    }
   ],
   "source": [
    "soma = 0 \n",
    "c = 2\n",
    "while c <= 100:\n",
    "    soma += c\n",
    "    c += 2\n",
    "print(f'A soma de todos os números pares entre 2 e 100 é: {soma}.')"
   ]
  },
  {
   "cell_type": "markdown",
   "id": "037a9f93",
   "metadata": {},
   "source": [
    "### Exercício 6: Média de números\n",
    "Situação Problema: Você é um professor que deseja calcular a média das notas de seus alunos. Escreva um programa que permita que o professor insira as notas dos alunos e calcule a média.\n",
    "\n"
   ]
  },
  {
   "cell_type": "code",
   "execution_count": 5,
   "id": "1620e4a6",
   "metadata": {},
   "outputs": [
    {
     "name": "stdout",
     "output_type": "stream",
     "text": [
      "A média do aluno Gabriel é 7.33\n"
     ]
    }
   ],
   "source": [
    "notas = []\n",
    "nome = str(input('Digite o nome do aluno: '))\n",
    "while True:\n",
    "    nota = float(input('Digite a nota do aluno: '))\n",
    "    notas.append(nota)\n",
    "\n",
    "    continuar = ''\n",
    "    while continuar not in ['S', 'N']:\n",
    "        continuar = str(input('Quer continuar? [S/N]: ')).strip().upper()\n",
    "    if continuar == 'N':\n",
    "        break\n",
    "\n",
    "media = sum(notas) / len(notas)\n",
    "print(f'A média do aluno {nome} é {media:.2f}')"
   ]
  },
  {
   "cell_type": "markdown",
   "id": "a9357fa1",
   "metadata": {},
   "source": [
    "### Exercício 7: Fatorial\n",
    "Situação Problema: Você está resolvendo problemas matemáticos e precisa calcular o fatorial de um número inteiro. Escreva um programa que calcule e exiba o fatorial de um número dado.\n",
    "\n"
   ]
  },
  {
   "cell_type": "code",
   "execution_count": 6,
   "id": "d2e14a06",
   "metadata": {},
   "outputs": [
    {
     "name": "stdout",
     "output_type": "stream",
     "text": [
      "O fatorial de 8 é 40320\n"
     ]
    }
   ],
   "source": [
    "num = c = int(input('Digite um número para calcular seu fatorial: '))\n",
    "fat = 1\n",
    "\n",
    "while c >= 1:\n",
    "    fat *= c\n",
    "    c -= 1\n",
    "print(f'O fatorial de {num} é {fat}')"
   ]
  },
  {
   "cell_type": "markdown",
   "id": "a0150711",
   "metadata": {},
   "source": [
    "### Exercício 8: Números primos\n",
    "Situação Problema: Você está explorando números primos e deseja verificar se um determinado número é primo. Escreva um programa que permita que o usuário insira um número e determine se ele é primo ou não.\n",
    "\n"
   ]
  },
  {
   "cell_type": "code",
   "execution_count": 8,
   "id": "0d14fbb8",
   "metadata": {},
   "outputs": [
    {
     "name": "stdout",
     "output_type": "stream",
     "text": [
      "O número 4 não é primo.\n"
     ]
    }
   ],
   "source": [
    "num = int(input('Digite um número: '))\n",
    "divisores = []\n",
    "c = 1\n",
    "while c <= num:\n",
    "    if num % c == 0:\n",
    "        divisores.append(c)\n",
    "    c += 1\n",
    "if len(divisores) == 2:\n",
    "    print(f'O número {num} é primo.')\n",
    "else:\n",
    "    print(f'O número {num} não é primo.')"
   ]
  },
  {
   "cell_type": "markdown",
   "id": "f44c34b5",
   "metadata": {},
   "source": [
    "### Exercício 9: Soma até ultrapassar valor\n",
    "Situação Problema: Você está tentando descobrir quantos números inteiros precisam ser somados sequencialmente até que a soma total seja maior que 100. Escreva um programa que realize esse cálculo.\n"
   ]
  },
  {
   "cell_type": "code",
   "execution_count": 2,
   "id": "bf9de2aa",
   "metadata": {},
   "outputs": [
    {
     "name": "stdout",
     "output_type": "stream",
     "text": [
      "Você ainda não ultrapassou o 100. Você está em 1 e digitou 1 números.\n",
      "Você ainda não ultrapassou o 100. Você está em 3 e digitou 2 números.\n",
      "Você ainda não ultrapassou o 100. Você está em 7 e digitou 3 números.\n",
      "Você ainda não ultrapassou o 100. Você está em 15 e digitou 4 números.\n",
      "Você ultrapassou o 100. Chegou em 31 e precisou de 5 números.\n",
      "Você ultrapassou o 100. Chegou em 63 e precisou de 6 números.\n",
      "Você ultrapassou o 100. Chegou em 127 e precisou de 7 números.\n"
     ]
    }
   ],
   "source": [
    "num = 0\n",
    "c = 0\n",
    "while num <= 100:\n",
    "    if c == 0:\n",
    "        num += int(input('Digite um número inteiro: '))\n",
    "    else:\n",
    "        num += num + 1\n",
    "    c += 1\n",
    "    if num <= 20:\n",
    "        print(f'Você ainda não ultrapassou o 100. Você está em {num} e digitou {c} números.')\n",
    "    else:\n",
    "        print(f'Você ultrapassou o 100. Chegou em {num} e precisou de {c} números.')"
   ]
  },
  {
   "cell_type": "markdown",
   "id": "9d8dca7a",
   "metadata": {},
   "source": [
    "\n",
    "### Exercício 10: Validando entrada numérica\n",
    "Situação Problema: Você está criando um programa que requer entrada numérica do usuário. No entanto, você deseja garantir que a entrada seja válida. Escreva um programa que solicite ao usuário um número e continue pedindo até que um número válido seja inserido.\n",
    "\n"
   ]
  },
  {
   "cell_type": "code",
   "execution_count": 9,
   "id": "1ef94e86",
   "metadata": {},
   "outputs": [
    {
     "name": "stdout",
     "output_type": "stream",
     "text": [
      "Senha incorreta! Acesso negado!\n",
      "Acesso Liberado! Bem-vindo!\n"
     ]
    }
   ],
   "source": [
    "password = '01032458'\n",
    "\n",
    "while True:\n",
    "    senha = str(input('Digite sua senha: ')).strip()\n",
    "    if senha == password:\n",
    "        break\n",
    "    print('Senha incorreta! Acesso negado!')\n",
    "\n",
    "print('Acesso Liberado! Bem-vindo!')"
   ]
  },
  {
   "cell_type": "markdown",
   "id": "c89c29ca",
   "metadata": {},
   "source": [
    "### Exercício 11: Jogo de adivinhação com dicas\n",
    "Situação Problema: Você está jogando um jogo de adivinhação onde precisa adivinhar um número entre 1 e 100. O computador fornecerá dicas para orientar suas suposições. Escreva um programa que permita que você jogue esse jogo.\n",
    "\n"
   ]
  },
  {
   "cell_type": "code",
   "execution_count": null,
   "id": "f23e238a",
   "metadata": {},
   "outputs": [],
   "source": [
    "from random import randint\n",
    "\n",
    "computador = randint(1, 100)\n",
    "\n",
    "while True:\n",
    "    num = int(input('Digite um número entre 1 e 100: '))\n",
    "    if num == computador:\n",
    "        print(f'Parabéns! Escolhi o número {computador}!')\n",
    "        break\n",
    "    elif num < computador:\n",
    "        print(f'Escolhi um número maior que esse.')\n",
    "    else:\n",
    "        print(f'Escolhi um número menor que esse.')"
   ]
  },
  {
   "cell_type": "markdown",
   "id": "0a89370c",
   "metadata": {},
   "source": [
    "### Exercício 12: Contagem de vogais\n",
    "Situação Problema: Você está analisando palavras e deseja saber quantas vogais cada palavra contém. Escreva um programa que conte e exiba o número de vogais em uma palavra inserida pelo usuário.\n",
    "\n"
   ]
  },
  {
   "cell_type": "code",
   "execution_count": 10,
   "id": "51b3893c",
   "metadata": {},
   "outputs": [
    {
     "name": "stdout",
     "output_type": "stream",
     "text": [
      "Na palavra ANÁTEMA há 4.\n"
     ]
    }
   ],
   "source": [
    "palavra = str(input('Digite uma palavra: ')).strip().upper()\n",
    "c = 0\n",
    "vogal = 0\n",
    "\n",
    "while c < len(palavra):\n",
    "    if  palavra[c] in ['A','Á', 'Ã', 'À', 'E', 'É', 'Ê', 'I', 'Í', 'O', 'Ó', 'Õ', 'Ô', 'U', 'Ú']:\n",
    "        vogal += 1\n",
    "    c += 1\n",
    "\n",
    "print(f'Na palavra {palavra} há {vogal}.')"
   ]
  },
  {
   "cell_type": "markdown",
   "id": "4999df99",
   "metadata": {},
   "source": [
    "### Exercício 13: Média de notas com validação\n",
    "Situação Problema: Você é um professor que deseja calcular a média das notas de seus alunos. No entanto, você também deseja validar as notas para garantir que estejam dentro de um intervalo adequado. Escreva um programa que permita que o professor insira as notas dos alunos, valide-as e calcule a média."
   ]
  },
  {
   "cell_type": "code",
   "execution_count": 11,
   "id": "7e356ced",
   "metadata": {},
   "outputs": [
    {
     "name": "stdout",
     "output_type": "stream",
     "text": [
      "Essa nota não está dentro dos parâmetros! Digite uma nota válida!\n",
      "A média das notas dos alunos é 7.33\n"
     ]
    }
   ],
   "source": [
    "notas = []\n",
    "while True:\n",
    "    while True:\n",
    "        nota = float(input('Digite a nota do aluno: '))\n",
    "        if nota >= 0 and nota <= 10:    \n",
    "            notas.append(nota)\n",
    "            break\n",
    "        else:\n",
    "            print('Essa nota não está dentro dos parâmetros! Digite uma nota válida!')\n",
    "\n",
    "    continuar = ''\n",
    "    while continuar not in ['S', 'N']:\n",
    "        continuar = str(input('Quer continuar? [S/N]: ')).strip().upper()\n",
    "    if continuar == 'N':\n",
    "        break\n",
    "\n",
    "media = sum(notas) / len(notas)\n",
    "print(f'A média das notas dos alunos é {media:.2f}')"
   ]
  }
 ],
 "metadata": {
  "kernelspec": {
   "display_name": "Python 3 (ipykernel)",
   "language": "python",
   "name": "python3"
  },
  "language_info": {
   "codemirror_mode": {
    "name": "ipython",
    "version": 3
   },
   "file_extension": ".py",
   "mimetype": "text/x-python",
   "name": "python",
   "nbconvert_exporter": "python",
   "pygments_lexer": "ipython3",
   "version": "3.11.4"
  }
 },
 "nbformat": 4,
 "nbformat_minor": 5
}
