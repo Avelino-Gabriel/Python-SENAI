{
 "cells": [
  {
   "cell_type": "markdown",
   "id": "2fe9bf14",
   "metadata": {},
   "source": [
    "# Exercios de Tuplas "
   ]
  },
  {
   "cell_type": "markdown",
   "id": "8a3b69e2",
   "metadata": {},
   "source": [
    "## Vamos explorar a utilidade das tuplas e como elas podem ser aplicadas em várias situações. As tuplas são estruturas de dados imutáveis que permitem armazenar múltiplos elementos de diferentes tipos, tornando-as ideais para representar informações relacionadas de maneira organizada.\n",
    "\n",
    "### Agora, você está prestes a enfrentar um conjunto de desafios práticos que envolvem o uso de tuplas. Cada exercício foi cuidadosamente criado para ajudá-lo a consolidar seus conhecimentos sobre tuplas e aprimorar suas habilidades de resolução de problemas. Através desses exercícios, você explorará cenários do mundo real, como gerenciamento de estoque, processamento de informações, análise de dados e até mesmo a criação de pequenos jogos.\n",
    "\n",
    "### À medida que você avança pelos exercícios, lembre-se de aplicar conceitos importantes, como criação de tuplas, indexação, slicing, iteração e cálculos simples. Use sua criatividade e habilidades para encontrar soluções eficientes e elegantes para cada problema proposto. À medida que você se familiariza mais com as tuplas, você também estará desenvolvendo um entendimento mais profundo das estruturas de dados em geral, o que será valioso em suas futuras explorações na programação."
   ]
  },
  {
   "cell_type": "markdown",
   "id": "160b05d8",
   "metadata": {},
   "source": [
    "# Exercício 1: Contagem de Vogais\n",
    "### Crie uma função que recebe uma string e retorna uma tupla contendo a contagem de vogais e consoantes na string."
   ]
  },
  {
   "cell_type": "code",
   "execution_count": 27,
   "id": "2a02751e",
   "metadata": {},
   "outputs": [
    {
     "name": "stdout",
     "output_type": "stream",
     "text": [
      "Temos 0 vogais e 0 consoantes.\n",
      "Vogais = () \n",
      "Consoantes = ()\n"
     ]
    }
   ],
   "source": [
    "palavra = str(input('Digite uma palavra: ')).strip()\n",
    "consoantes = vogais = palavra\n",
    "for v in['a', 'e', 'i', 'o', 'u']:\n",
    "    consoantes = consoantes.replace(v, '')\n",
    "for l in vogais:\n",
    "    if l not in ['a', 'e', 'i', 'o', 'u']:\n",
    "        vogais = vogais.replace(l, '')\n",
    "quantidade = (len(vogais), len(consoantes))\n",
    "print(f'Temos {quantidade[0]} vogais e {quantidade[1]} consoantes.')\n",
    "print(f'''Vogais = {tuple(vogais)} \n",
    "Consoantes = {tuple(consoantes)}''')"
   ]
  },
  {
   "cell_type": "markdown",
   "id": "0e0d3c63",
   "metadata": {},
   "source": [
    "# Exercício 2: Controle de Estoque\n",
    "### Você está gerenciando o estoque de uma loja. Crie um programa que permita adicionar novos produtos (usando tuplas para nome e preço) ao estoque e exibir o valor total do estoque."
   ]
  },
  {
   "cell_type": "code",
   "execution_count": 28,
   "id": "b8babf7e",
   "metadata": {},
   "outputs": [
    {
     "ename": "ValueError",
     "evalue": "could not convert string to float: ''",
     "output_type": "error",
     "traceback": [
      "\u001b[1;31m---------------------------------------------------------------------------\u001b[0m",
      "\u001b[1;31mValueError\u001b[0m                                Traceback (most recent call last)",
      "Cell \u001b[1;32mIn[28], line 3\u001b[0m\n\u001b[0;32m      1\u001b[0m estoque \u001b[39m=\u001b[39m []\n\u001b[0;32m      2\u001b[0m \u001b[39mwhile\u001b[39;00m \u001b[39mTrue\u001b[39;00m:\n\u001b[1;32m----> 3\u001b[0m     produto \u001b[39m=\u001b[39m (\u001b[39mstr\u001b[39m(\u001b[39minput\u001b[39m(\u001b[39m'\u001b[39m\u001b[39mDigite o nome do produto: \u001b[39m\u001b[39m'\u001b[39m)), \u001b[39mfloat\u001b[39;49m(\u001b[39minput\u001b[39;49m(\u001b[39m'\u001b[39;49m\u001b[39mDigite o preço do produto: \u001b[39;49m\u001b[39m'\u001b[39;49m)))\n\u001b[0;32m      4\u001b[0m     estoque\u001b[39m.\u001b[39mappend(produto[:])\n\u001b[0;32m      5\u001b[0m     continuar \u001b[39m=\u001b[39m \u001b[39m'\u001b[39m\u001b[39m'\u001b[39m\n",
      "\u001b[1;31mValueError\u001b[0m: could not convert string to float: ''"
     ]
    }
   ],
   "source": [
    "estoque = []\n",
    "while True:\n",
    "    produto = (str(input('Digite o nome do produto: ')), float(input('Digite o preço do produto: ')))\n",
    "    estoque.append(produto[:])\n",
    "    continuar = ''\n",
    "    while continuar not in ['S', 'N']:\n",
    "        continuar = str(input('Quer continuar? [S/N]: ')).strip().upper()\n",
    "    if continuar == 'N':\n",
    "        break\n",
    "print('-' * 30)\n",
    "print('CONTROLE DE ESTOQUE'.center(30))\n",
    "print('-' * 30)\n",
    "print(f'{\"Produtos\":<20}{\"Preço\"}')\n",
    "print('-' * 30)\n",
    "for p in estoque:\n",
    "    for i, v in enumerate(p):\n",
    "        if i == 0:\n",
    "            print(f'{v:<20}', end='')\n",
    "        else:\n",
    "            print(f'R${v:<20.2f}'.replace('.', ','), end='')\n",
    "    print()"
   ]
  },
  {
   "cell_type": "markdown",
   "id": "48e600bc",
   "metadata": {},
   "source": [
    "# Exercício 3: Análise de Texto\n",
    "### Crie uma função que recebe um texto e retorna uma tupla contendo a quantidade de palavras e a quantidade média de letras por palavra."
   ]
  },
  {
   "cell_type": "code",
   "execution_count": null,
   "id": "fbfa078b",
   "metadata": {},
   "outputs": [
    {
     "name": "stdout",
     "output_type": "stream",
     "text": [
      "Quantidade de palavras = 2\n",
      "Média de letras = 4.0\n"
     ]
    }
   ],
   "source": [
    "text = str(input('Digite um texto: ')).strip().replace(',', '').replace('.', '').replace('!', '').replace('?', '')\n",
    "separar = text.split()\n",
    "\n",
    "quantidade_palavras = len(separar)\n",
    "total_letras = 0\n",
    "for p in separar:\n",
    "    total_letras += len(list(p))\n",
    "media_letras = total_letras / len(separar)\n",
    "result  = (quantidade_palavras, media_letras)\n",
    "\n",
    "print(f'''Quantidade de palavras = {quantidade_palavras}\n",
    "Média de letras = {media_letras}''')\n"
   ]
  },
  {
   "cell_type": "markdown",
   "id": "680c1490",
   "metadata": {},
   "source": [
    "# Exercício 4: Divisão de Despesas\n",
    "### Você e seus amigos foram a um restaurante e agora precisam dividir a conta. Crie um programa que recebe o valor total da conta e o número de pessoas. Em seguida, calcule quanto cada pessoa deve pagar, considerando um serviço de 10% e usando uma tupla para armazenar os valores."
   ]
  },
  {
   "cell_type": "code",
   "execution_count": null,
   "id": "a3a041b4",
   "metadata": {},
   "outputs": [
    {
     "name": "stdout",
     "output_type": "stream",
     "text": [
      "Cada pessoa pagará R$102,5\n"
     ]
    }
   ],
   "source": [
    "compra = (float(input('Valor Total: ')), int(input('Quantidade de pessoas: ')))\n",
    "\n",
    "divisao_compra = compra[0] + (compra[0] * (10/100))/ compra[1]\n",
    "\n",
    "print(f'Cada pessoa pagará {f\"R${divisao_compra}\".replace(\".\", \",\")}')"
   ]
  },
  {
   "cell_type": "markdown",
   "id": "fcfb196b",
   "metadata": {},
   "source": [
    "# Exercício 5: Contagem de Ocorrências\n",
    "### Crie uma função que recebe uma lista de elementos e retorna uma tupla contendo a quantidade de ocorrências de um valor específico e a quantidade total de elementos na lista."
   ]
  },
  {
   "cell_type": "code",
   "execution_count": null,
   "id": "af7ebb49",
   "metadata": {},
   "outputs": [
    {
     "name": "stdout",
     "output_type": "stream",
     "text": [
      "(2, 4)\n"
     ]
    }
   ],
   "source": [
    "elementos = []\n",
    "while True:\n",
    "    elemento = str(input('Digite um elemento: ')).lower().strip()\n",
    "    if elemento.isnumeric():\n",
    "        elemento = float(elemento)\n",
    "    elementos.append(elemento)\n",
    "    continuar = ''\n",
    "    while continuar not in ['S', 'N']:\n",
    "        continuar = str(input('Quer continuar? [S/N]: ')).strip().upper()\n",
    "    if continuar == 'N':\n",
    "        break\n",
    "\n",
    "pesquisa = str(input('Pesquisa: '))\n",
    "if pesquisa.isnumeric():\n",
    "    pesquisa = float(pesquisa)\n",
    "\n",
    "result = (elementos.count(pesquisa), len(elementos))\n",
    "print(f'O elemento {pesquisa} aparece {result[0]} vezes na lista. A lista tem {result[1]} elementos.')"
   ]
  },
  {
   "cell_type": "markdown",
   "id": "b39bd949",
   "metadata": {},
   "source": [
    "# Exercício 6: Ranking de Notas\n",
    "### Você está organizando um torneio de videogame. Crie um programa que recebe o nome e a pontuação de cada jogador e os armazena em uma lista de tuplas. Em seguida, exiba o ranking dos jogadores com base em suas pontuações."
   ]
  },
  {
   "cell_type": "code",
   "execution_count": null,
   "id": "79465048",
   "metadata": {},
   "outputs": [
    {
     "name": "stdout",
     "output_type": "stream",
     "text": [
      "Posição   Nick                          Pontuação\n",
      "---------------------------------------------\n",
      "1         Courtesy                      1500\n",
      "2         gabriel                       1200\n"
     ]
    }
   ],
   "source": [
    "ranking = []\n",
    "\n",
    "while True:\n",
    "    nick = str(input('Digite o nick do player: ')).strip()\n",
    "    if nick == '':\n",
    "        break\n",
    "\n",
    "    pontos = int(input('Digite a pontuação do jogador: '))\n",
    "    if pontos == - 1:\n",
    "        break\n",
    "    player = (nick, pontos)\n",
    "\n",
    "    if not ranking:\n",
    "        ranking.append(player)\n",
    "    else:\n",
    "        for i, r in enumerate(ranking):\n",
    "            if player[1] > r[1]:\n",
    "                ranking.insert(i, player)\n",
    "                break\n",
    "        else:\n",
    "            ranking.append(player)\n",
    "\n",
    "print(f'{\"Posição\":<10}{\"Nick\":<30}{\"Pontuação\"}')\n",
    "print('-' * 50)\n",
    "for c, r in enumerate(ranking):\n",
    "    print(f'{c + 1:<10}{r[0]:<30}{r[1]}')\n",
    "\n"
   ]
  },
  {
   "cell_type": "markdown",
   "id": "9e521469",
   "metadata": {},
   "source": [
    "# Exercício 7: Processamento de Dados Meteorológicos\n",
    "### Você possui uma lista de tuplas contendo a temperatura máxima e mínima de cada dia. Crie uma função que calcule a temperatura média de toda a semana e quantos dias a temperatura máxima excedeu 30 graus."
   ]
  },
  {
   "cell_type": "code",
   "execution_count": null,
   "id": "d8510b8e",
   "metadata": {},
   "outputs": [
    {
     "name": "stdout",
     "output_type": "stream",
     "text": [
      "--------------------------------------------------------------------------------\n",
      "                                  METEOROLOGIA                                  \n",
      "--------------------------------------------------------------------------------\n",
      "Média das temperaturas: 25.50\n",
      "--------------------------------------------------------------------------------\n",
      "Dia                           Temperatura Máxima            Temperatura Mínima\n",
      "segunda                       31                            20                            \n"
     ]
    }
   ],
   "source": [
    "meteorologia = []\n",
    "acima_30 = []\n",
    "while True:\n",
    "    dia = str(input('Digite o dia: ')).strip()\n",
    "    maxima = int(input('Temperatura Máxima: '))\n",
    "    minima = int(input('Temperatura Mínima: '))\n",
    "\n",
    "    previsao = (dia, maxima, minima)\n",
    "    meteorologia.append(previsao)\n",
    "    \n",
    "    continuar = ''\n",
    "    while continuar not in ['S', 'N']:\n",
    "        continuar = str(input('Quer continuar? [S/N]: ')).strip().upper()\n",
    "    if continuar == 'N':\n",
    "        break\n",
    "\n",
    "soma = 0\n",
    "for m in meteorologia:\n",
    "    soma += m[1] + m[2]\n",
    "    if m[1] > 30:\n",
    "        acima_30.append(m)\n",
    "media_temperatura = soma / len(meteorologia * 2)\n",
    "\n",
    "print('-' * 80)\n",
    "print('METEOROLOGIA'.center(80))\n",
    "print('-' * 80)\n",
    "print(f'Média das temperaturas: {media_temperatura:.2f}')\n",
    "print('-' * 80)\n",
    "print(f'{\"Dia\":<30}{\"Temperatura Máxima\":<30}{\"Temperatura Mínima\"}')\n",
    "\n",
    "for d in acima_30:\n",
    "    for v in d:\n",
    "        print(f'{v:<30}', end='')\n",
    "    print()"
   ]
  },
  {
   "cell_type": "markdown",
   "id": "11fd016a",
   "metadata": {},
   "source": [
    "# Exercício 8: Divisão Justa\n",
    "### Você e seus amigos decidiram alugar uma casa de férias. Crie um programa que recebe o valor total do aluguel, as despesas comuns e o número de pessoas. Distribua os custos de forma justa, arredondando para cima, e retorne uma tupla com os valores que cada pessoa deve pagar."
   ]
  },
  {
   "cell_type": "code",
   "execution_count": null,
   "id": "395b6cea",
   "metadata": {},
   "outputs": [
    {
     "name": "stdout",
     "output_type": "stream",
     "text": [
      "Cada pessoa deverá pagar R$300,00\n"
     ]
    }
   ],
   "source": [
    "aluguel = float(input('Aluguel: '))\n",
    "despesas_comuns = float(input('Despesas Comuns: '))\n",
    "numero_pessoas = int(input('Quantidade de Pessoas: '))\n",
    "\n",
    "pagar = (despesas_comuns + aluguel) / numero_pessoas\n",
    "\n",
    "print(f'Cada pessoa deverá pagar R${pagar:.2f}'.replace('.', ','))"
   ]
  },
  {
   "cell_type": "markdown",
   "id": "fc9530d0",
   "metadata": {},
   "source": [
    "# Exercício 9: Extração de Informações de Texto\n",
    "### Dado um texto com várias informações em formato \"chave: valor\", crie uma função que extrai essas informações e as armazena em uma tupla de dicionários."
   ]
  },
  {
   "cell_type": "code",
   "execution_count": null,
   "id": "2cd026b9",
   "metadata": {},
   "outputs": [
    {
     "name": "stdout",
     "output_type": "stream",
     "text": [
      "({'nome': 'gabriel', 'idade': 19}, {'nome': 'marili', 'idade': 48}, {'nome': 'sérgio', 'idade': 49})\n"
     ]
    }
   ],
   "source": [
    "text = ''\n",
    "pares = []\n",
    "\n",
    "while True:\n",
    "    new_text = str(input('Digite a chave e o valor desejado: ')).strip().replace(' ', '')\n",
    "    if new_text == '':\n",
    "        break\n",
    "\n",
    "    if text == '': \n",
    "        text = new_text\n",
    "    else:\n",
    "        text += ',' + new_text\n",
    "    \n",
    "separar1 =  text.split(':')\n",
    "separar2 = []\n",
    "\n",
    "\n",
    "for v in separar1:\n",
    "    if ',' in v:\n",
    "        v = v.split(',')\n",
    "        for i in v:\n",
    "            separar2.append(i)\n",
    "    else:\n",
    "        separar2.append(v)\n",
    "\n",
    "valor = ''\n",
    "chave = ''\n",
    "pessoas = {}\n",
    "dicionarios = []\n",
    "\n",
    "for i, s in enumerate(separar2):\n",
    "    if i % 2 == 0:\n",
    "        chave = s\n",
    "    else:\n",
    "        valor = s\n",
    "        if valor.isnumeric():\n",
    "            valor = int(valor)\n",
    "        valores = {chave : valor}\n",
    "\n",
    "        pares.append(valores.copy())\n",
    "\n",
    "lista_chaves = []\n",
    "pessoas = {}\n",
    "for e, p in enumerate(pares):\n",
    "    for k in p.keys():\n",
    "        if k not in lista_chaves:\n",
    "            lista_chaves.append(k)\n",
    "for c, p in enumerate(pares):\n",
    "    for k in p.keys():\n",
    "        key = k\n",
    "    for d in p.values():\n",
    "        dado = d\n",
    "    if c % len(lista_chaves) == 0:\n",
    "        pessoas.clear()\n",
    "    if key not in list(pessoas.keys()):\n",
    "        pessoas[f'{key}'] = dado\n",
    "    if pessoas not in dicionarios and len(lista_chaves) == len(list(pessoas.keys())):\n",
    "        dicionarios.append(pessoas.copy())\n",
    "\n",
    "print(tuple(dicionarios))\n"
   ]
  },
  {
   "cell_type": "markdown",
   "id": "9a4a61b2",
   "metadata": {},
   "source": [
    "# Exercício 10: Jogo de Cartas\n",
    "### Crie um jogo de cartas em que dois jogadores jogam alternadamente. Cada jogador recebe uma mão de cartas (uma tupla de strings). Implemente a lógica de jogo, como verificar vitória, derrota ou empate, e exiba o resultado após cada rodada.\n",
    "\n",
    "### Esses exercícios de nível médio a difícil envolvem conceitos mais avançados de manipulação de tuplas e resolução de problemas. Eles podem ajudar a aprofundar sua compreensão das tuplas e como elas podem ser aplicadas em situações mais complexas."
   ]
  },
  {
   "cell_type": "code",
   "execution_count": 4,
   "id": "ede7894e",
   "metadata": {},
   "outputs": [
    {
     "name": "stdout",
     "output_type": "stream",
     "text": [
      "Foi retirada a carta ('A', 'ouros'), logo a manilha será 2\n",
      "Suas cartas são: \n",
      "[1] ('K', 'ouros')\n",
      "[2] ('Q', 'paus')\n",
      "[3] ('J', 'ouros')\n",
      "------------------------------\n",
      "Você jogou: ('J', 'ouros')\n",
      "------------------------------\n",
      "O computador jogou: ('Q', 'espadas')\n",
      "------------------------------\n",
      "Sua pontuação atual é: 0\n",
      "2\n",
      "É a vez do computador!\n",
      "------------------------------\n",
      "Suas cartas são: \n",
      "[1] ('K', 'ouros')\n",
      "[2] ('Q', 'paus')\n",
      "------------------------------\n",
      "O computador jogou: (5, 'espadas')\n",
      "------------------------------\n",
      "------------------------------\n",
      "Você jogou: ('Q', 'paus')\n",
      "------------------------------\n",
      "['Q', 'paus']\n",
      "Você pontuou! Sua vez de jogar!\n",
      "Sua pontuação atual é: 1\n",
      "1\n",
      "É a vez do computador!\n",
      "------------------------------\n",
      "Suas cartas são: \n",
      "[1] ('K', 'ouros')\n",
      "------------------------------\n",
      "Você jogou: ('K', 'ouros')\n",
      "------------------------------\n",
      "O computador jogou: (4, 'espadas')\n",
      "------------------------------\n",
      "Você pontuou! Sua vez de jogar!\n",
      "Sua pontuação atual é: 2\n",
      "0\n",
      "PARABÉNS! VOCÊ VENCEU!\n"
     ]
    }
   ],
   "source": [
    "from random import randint\n",
    "computador = []\n",
    "jogador = []\n",
    "\n",
    "valor = [4, 5, 6, 7, 'J', 'Q', 'K', 'A', 2, 3]\n",
    "nipe = ['ouros', 'espadas', 'copas', 'paus']\n",
    "\n",
    "manilha = valor[randint(0, 9)], nipe[randint(0, 3)]\n",
    "if valor.index(manilha[0]) < len(valor) - 1:\n",
    "    valor_manilha = valor[valor.index(manilha[0]) + 1]\n",
    "else:\n",
    "    valor_manilha = valor[0]\n",
    "\n",
    "for c in range (0,3):\n",
    "    while True: \n",
    "        carta_jogador = (valor[randint(0, 9)], nipe[randint(0, 3)])\n",
    "        if carta_jogador != manilha and carta_jogador not in jogador:\n",
    "            jogador.append(carta_jogador)\n",
    "            break\n",
    "    while True:\n",
    "        carta_computador = (valor[randint(0, 9)], nipe[randint(0, 3)])\n",
    "        if carta_computador not in jogador and carta_computador != manilha and carta_computador not in computador:\n",
    "            computador.append(carta_computador)\n",
    "            break\n",
    "\n",
    "print(f'Foi retirada a carta {manilha}, logo a manilha será {valor_manilha}')\n",
    "vez = 0\n",
    "pontos = 0\n",
    "\n",
    "for c in range(0, 3):\n",
    "    print(f'Suas cartas são: ')\n",
    "    for c, j in enumerate(jogador):\n",
    "        print(f'[{c + 1}] {j}')\n",
    "    \n",
    "    if vez == 0:\n",
    "        while True:\n",
    "            try:\n",
    "                jogada_jogador = str(input(f'Escolha uma carta: ')).strip()\n",
    "                print('-' * 30)\n",
    "                if jogada_jogador == '':\n",
    "                    print('O jogador desistiu!')\n",
    "                    break\n",
    "                jogada_jogador = jogador[int(jogada_jogador)- 1]\n",
    "                print(f'Você jogou: {jogada_jogador}')\n",
    "                print('-' * 30)\n",
    "                jogador.remove(jogada_jogador)\n",
    "\n",
    "                result_jogador = []\n",
    "                for v in range(0,2):\n",
    "                    result_jogador.append(jogada_jogador[v])\n",
    "                if result_jogador[0] in valor:\n",
    "                    result_jogador[0] = valor.index(result_jogador[0])\n",
    "                if result_jogador[1] in nipe:\n",
    "                    result_jogador[1] = nipe.index(result_jogador[1])\n",
    "                break\n",
    "            except (IndexError, ValueError):\n",
    "                print('-' * 30)\n",
    "                print('Jogada Inválida! Escolha novamente!')\n",
    "                print('-' * 30)\n",
    "            except KeyboardInterrupt:\n",
    "                break\n",
    "\n",
    "        if jogada_jogador == '':\n",
    "            break\n",
    "        jogada_computador = ''\n",
    "        while True:\n",
    "            jogada_computador = computador[randint(0, len(computador)-1)]\n",
    "            result_computador = []\n",
    "            for v in range(0, 2):\n",
    "                result_computador.append(jogada_computador[v])\n",
    "            if result_computador[0] in valor:\n",
    "                result_computador[0] = valor.index(result_computador[0])\n",
    "            if result_computador[1] in nipe:\n",
    "                result_computador[1] = nipe.index(result_computador[1])\n",
    "            break\n",
    "        print(f'O computador jogou: {jogada_computador}')\n",
    "        computador.remove(jogada_computador)\n",
    "        print('-' * 30)\n",
    "    elif vez == 1:\n",
    "        jogada_computador = ''\n",
    "        while True:\n",
    "            jogada_computador = computador[randint(0, len(computador)-1)]\n",
    "            result_computador = []\n",
    "            for v in range(0, 2):\n",
    "                result_computador.append(jogada_computador[v])\n",
    "            if result_computador[0] in valor:\n",
    "                result_computador[0] = valor.index(result_computador[0])\n",
    "            if result_computador[1] in nipe:\n",
    "                result_computador[1] = nipe.index(result_computador[1])\n",
    "            break\n",
    "        print('-' * 30)\n",
    "        print(f'O computador jogou: {jogada_computador}')\n",
    "        computador.remove(jogada_computador)\n",
    "        print('-' * 30)\n",
    "        try:\n",
    "            jogada_jogador = str(input(f'Escolha uma carta: ')).strip()\n",
    "            print('-' * 30)\n",
    "            if jogada_jogador == '':\n",
    "                print('O jogador desistiu!')\n",
    "                break\n",
    "            jogada_jogador = jogador[int(jogada_jogador)- 1]\n",
    "            print(f'Você jogou: {jogada_jogador}')\n",
    "            print('-' * 30)\n",
    "            jogador.remove(jogada_jogador)\n",
    "\n",
    "            result_jogador = []\n",
    "            for v in range(0,2):\n",
    "                result_jogador.append(jogada_jogador[v])\n",
    "            print(result_jogador)\n",
    "            if result_jogador[0] in valor:\n",
    "                result_jogador[0] = valor.index(result_jogador[0])\n",
    "            if result_jogador[1] in nipe:\n",
    "                result_jogador[1] = nipe.index(result_jogador[1])\n",
    "        except (IndexError, ValueError):\n",
    "            print('-' * 30)\n",
    "            print('Jogada Inválida! Escolha novamente!')\n",
    "            print('-' * 30)\n",
    "        except KeyboardInterrupt:\n",
    "            break\n",
    "\n",
    "    if jogada_jogador == '':\n",
    "        break\n",
    "\n",
    "    if result_jogador[0] > result_computador[0]:\n",
    "        pontos += 1\n",
    "        vez = 0\n",
    "        print('Você pontuou! Sua vez de jogar!')\n",
    "    elif result_jogador[0] == valor_manilha and result_computador[0] == valor_manilha:\n",
    "        if result_jogador[1] > result_computador[1]:\n",
    "            pontos += 1\n",
    "            vez = 0\n",
    "            print('Você pontuou! Sua vez de jogar!')\n",
    "    elif result_jogador[0] == valor_manilha and result_computador[0] != valor_manilha:\n",
    "        pontos += 1\n",
    "        vez = 0\n",
    "        print('Você pontuou! Sua vez de jogar!')\n",
    "    elif result_jogador[0] == result_computador[0]:\n",
    "        vez = 0\n",
    "        print('Empate! Sua vez de jogar!')\n",
    "    else:\n",
    "        vez = 1\n",
    "    print(f'Sua pontuação atual é: {pontos}')\n",
    "    print(c)\n",
    "    if pontos == 2:\n",
    "        break\n",
    "    elif c < 1 and pontos < 1:\n",
    "        break\n",
    "    print('É a vez do computador!')\n",
    "    print('-' * 30)\n",
    "\n",
    "\n",
    "if pontos > 1:\n",
    "    print('PARABÉNS! VOCÊ VENCEU!')\n",
    "else:\n",
    "    print('VOCÊ PERDEU!')\n",
    "    "
   ]
  }
 ],
 "metadata": {
  "kernelspec": {
   "display_name": "Python 3 (ipykernel)",
   "language": "python",
   "name": "python3"
  },
  "language_info": {
   "codemirror_mode": {
    "name": "ipython",
    "version": 3
   },
   "file_extension": ".py",
   "mimetype": "text/x-python",
   "name": "python",
   "nbconvert_exporter": "python",
   "pygments_lexer": "ipython3",
   "version": "3.11.4"
  }
 },
 "nbformat": 4,
 "nbformat_minor": 5
}
