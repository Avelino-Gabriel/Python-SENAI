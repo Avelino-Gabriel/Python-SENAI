{
 "cells": [
  {
   "cell_type": "markdown",
   "metadata": {},
   "source": [
    "# Exercícios\n",
    "\n",
    "São exercícios bem parecidos com os que fizemos com listas. Mas na tupla, podemos não só trabalhar com índices, mas fazer o \"unpacking\" das tuplas, o que pode facilitar nossos códigos.\n",
    "\n",
    "## 1. Análise de Vendas\n",
    "\n",
    "Nesse exercício vamos fazer uma \"análise simples\" de atingimento de Meta.\n",
    "\n",
    "Temos uma lista com os vendedores e os valores de vendas e queremos identificar (printar) quais os vendedores que bateram a meta e qual foi o valor que eles venderam."
   ]
  },
  {
   "cell_type": "code",
   "execution_count": 2,
   "metadata": {},
   "outputs": [
    {
     "name": "stdout",
     "output_type": "stream",
     "text": [
      "VENDEDORES QUE BATERAM A META\n",
      "('João', 15000)\n",
      "('Julia', 27000)\n",
      "('Ana', 10300)\n"
     ]
    }
   ],
   "source": [
    "meta = 10000\n",
    "vendas = [\n",
    "    ('João', 15000),\n",
    "    ('Julia', 27000),\n",
    "    ('Marcus', 9900),\n",
    "    ('Maria', 3750),\n",
    "    ('Ana', 10300),\n",
    "    ('Alon', 7870),\n",
    "]\n",
    "\n",
    "print(f'VENDEDORES QUE BATERAM A META')\n",
    "for v in vendas:\n",
    "    if v[1] >= meta:\n",
    "        print(v)"
   ]
  },
  {
   "cell_type": "markdown",
   "metadata": {},
   "source": [
    "## 2. Comparação com Ano Anterior\n",
    "\n",
    "Digamos que você está analisando as vendas de produtos de um ecommerce e quer identificar quais produtos tiveram no ano de 2020 mais vendas do que no ano de 2019, para reportar isso para a diretoria.\n",
    "\n",
    "Sua resposta pode ser um print de cada produto, qual foi a venda de 2019, a venda de 2020 e o % de crescimento de 2020 para 2019.\n",
    "\n",
    "Lembrando, para calcular o % de crescimento de um produto de um ano para o outro, podemos fazer: (vendas_produto2020/vendas_produto2019 - 1)\n",
    "\n",
    "A lógica da tupla é: (produto, vendas2019, vendas2020)"
   ]
  },
  {
   "cell_type": "code",
   "execution_count": 27,
   "metadata": {},
   "outputs": [
    {
     "name": "stdout",
     "output_type": "stream",
     "text": [
      "------------------------------------------------------------------------------------------\n",
      "                        PRODUTOS QUE TIVERAM CRESCIMENTO DE VENDAS                        \n",
      "------------------------------------------------------------------------------------------\n",
      "Produto             Vendas em 2019      Vendas em 2020      Porcentagem de Crescimento\n",
      "------------------------------------------------------------------------------------------\n",
      "iphone              558147              951642              0.71%     \n",
      "tv                  405252              787604              0.94%     \n",
      "máquina de café     718654              867660              0.21%     \n",
      "notebook dell       422760              694913              0.64%     \n",
      "notebook hp         154753              539704              2.49%     \n",
      "microsoft surface   438508              667179              0.52%     \n",
      "webcam              237467              295633              0.24%     \n",
      "caixa de som        489705              725316              0.48%     \n",
      "microfone           328311              644622              0.96%     \n",
      "câmera canon        591120              994303              0.68%     \n",
      "------------------------------------------------------------------------------------------\n"
     ]
    }
   ],
   "source": [
    "vendas_produtos = [('iphone', 558147, 951642), ('galaxy', 712350, 244295), ('ipad', 573823, 26964), ('tv', 405252, 787604), ('máquina de café', 718654, 867660), ('kindle', 531580, 78830), ('geladeira', 973139, 710331), ('adega', 892292, 646016), ('notebook dell', 422760, 694913), ('notebook hp', 154753, 539704), ('notebook asus', 887061, 324831), ('microsoft surface', 438508, 667179), ('webcam', 237467, 295633), ('caixa de som', 489705, 725316), ('microfone', 328311, 644622), ('câmera canon', 591120, 994303)]\n",
    "\n",
    "#seu código aqui\n",
    "print('-' * 90)\n",
    "print('PRODUTOS QUE TIVERAM CRESCIMENTO DE VENDAS'.center(90))\n",
    "print('-' * 90)\n",
    "print(f'{\"Produto\":<20}{\"Vendas em 2019\":<20}{\"Vendas em 2020\":<20}{f\"Porcentagem de Crescimento\":<10}')\n",
    "print('-' * 90)\n",
    "for v in vendas_produtos:\n",
    "    porcentagem = v[2] / v[1] - 1\n",
    "    if porcentagem > 0:\n",
    "        print(f'{v[0]:<20}{v[1]:<20}{v[2]:<20}{f\"{porcentagem:.2f}%\":<10}')\n",
    "print('-' * 90)"
   ]
  }
 ],
 "metadata": {
  "kernelspec": {
   "display_name": "Python 3",
   "language": "python",
   "name": "python3"
  },
  "language_info": {
   "codemirror_mode": {
    "name": "ipython",
    "version": 3
   },
   "file_extension": ".py",
   "mimetype": "text/x-python",
   "name": "python",
   "nbconvert_exporter": "python",
   "pygments_lexer": "ipython3",
   "version": "3.8.3"
  }
 },
 "nbformat": 4,
 "nbformat_minor": 4
}
