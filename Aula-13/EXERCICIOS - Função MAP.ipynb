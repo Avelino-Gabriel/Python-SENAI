{
 "cells": [
  {
   "cell_type": "markdown",
   "id": "38f9fcc2",
   "metadata": {},
   "source": [
    "### Exercícios de função MAP\n",
    "####   ***** Tente fazer sozinho antes de consultar  *****"
   ]
  },
  {
   "cell_type": "markdown",
   "id": "6266b0e9",
   "metadata": {},
   "source": [
    "#### Exercício 1:\n",
    "Escreva um programa que receba uma lista de números como entrada e use a função map para elevar todos os números ao quadrado. Em seguida, imprima a lista resultante."
   ]
  },
  {
   "cell_type": "code",
   "execution_count": 7,
   "id": "16142264",
   "metadata": {},
   "outputs": [
    {
     "name": "stdout",
     "output_type": "stream",
     "text": [
      "------------------------------\n",
      "           QUADRADO           \n",
      "------------------------------\n",
      "1 ** 2 = 1\n",
      "2 ** 2 = 4\n",
      "3 ** 2 = 9\n",
      "4 ** 2 = 16\n",
      "5 ** 2 = 25\n",
      "------------------------------\n"
     ]
    }
   ],
   "source": [
    "def quadrado(num):\n",
    "    return num ** 2\n",
    "\n",
    "nums = [1, 2, 3, 4, 5]\n",
    "ao_quadrado = list(map(quadrado, nums))\n",
    "\n",
    "print('-' * 30)\n",
    "print('QUADRADO'.center(30))\n",
    "print('-' * 30)\n",
    "for c, v in enumerate(ao_quadrado):\n",
    "    print(f'{nums[c]} ** 2 = {v}')\n",
    "print('-' * 30)"
   ]
  },
  {
   "cell_type": "markdown",
   "id": "78c82313",
   "metadata": {},
   "source": [
    "#### Exercício 2:\n",
    "Exercício 2:\n",
    "Crie uma função dobro que receba uma lista de números como entrada e use a função map para dobrar cada número na lista. Em seguida, imprima a lista resultante.\n"
   ]
  },
  {
   "cell_type": "code",
   "execution_count": 8,
   "id": "233c71f5",
   "metadata": {},
   "outputs": [
    {
     "name": "stdout",
     "output_type": "stream",
     "text": [
      "------------------------------\n",
      "            DOBRO             \n",
      "------------------------------\n",
      "1 * 2 = 2\n",
      "2 * 2 = 4\n",
      "3 * 2 = 6\n",
      "4 * 2 = 8\n",
      "5 * 2 = 10\n",
      "------------------------------\n"
     ]
    }
   ],
   "source": [
    "def dobro(num):\n",
    "    return num * 2\n",
    "\n",
    "nums = [1, 2, 3, 4, 5]\n",
    "ao_quadrado = list(map(dobro, nums))\n",
    "\n",
    "print('-' * 30)\n",
    "print('DOBRO'.center(30))\n",
    "print('-' * 30)\n",
    "for c, v in enumerate(ao_quadrado):\n",
    "    print(f'{nums[c]} * 2 = {v}')\n",
    "print('-' * 30)\n"
   ]
  },
  {
   "cell_type": "markdown",
   "id": "f9a92dda",
   "metadata": {},
   "source": [
    "#### Exercício 3:\n",
    "\n",
    "Escreva um programa que receba uma lista de nomes como entrada e use a função map para adicionar a string \"Sr. \" antes de cada nome. Em seguida, imprima a lista resultante."
   ]
  },
  {
   "cell_type": "code",
   "execution_count": 21,
   "id": "55f2432d",
   "metadata": {},
   "outputs": [
    {
     "name": "stdout",
     "output_type": "stream",
     "text": [
      "------------------------------\n",
      "      LISTA DE CLIENTES       \n",
      "------------------------------\n",
      "Sr. Gabriel\n",
      "Sr. Sérgio\n",
      "Sr. Pedro\n",
      "------------------------------\n"
     ]
    }
   ],
   "source": [
    "def criar_frase(name):\n",
    "    return f'Sr. {name}'\n",
    "\n",
    "clientes = []\n",
    "while True:\n",
    "    nome = str(input('Nome do Cliente (Deixe em branco para finalizar a lista): ')).strip().title()\n",
    "    if nome == '':\n",
    "        break\n",
    "    clientes.append(nome)\n",
    "\n",
    "lista = list(map(criar_frase, clientes))\n",
    "\n",
    "print('-' * 30)\n",
    "print('LISTA DE CLIENTES'.center(30))\n",
    "print('-' * 30)\n",
    "for v in lista:\n",
    "    print(v)\n",
    "print('-' * 30)\n"
   ]
  },
  {
   "cell_type": "markdown",
   "id": "e2205602",
   "metadata": {},
   "source": [
    "#### Exercício 4:\n",
    "Crie uma função calcular_area que receba uma lista de raios de círculos como entrada e use a função map para calcular a área de cada círculo. A área de um círculo é dada por π * raio^2. Em seguida, imprima a lista de áreas.\n",
    "\n",
    "\n"
   ]
  },
  {
   "cell_type": "code",
   "execution_count": 18,
   "id": "42165b19",
   "metadata": {},
   "outputs": [
    {
     "name": "stdout",
     "output_type": "stream",
     "text": [
      "------------------------------\n",
      "      ÁREAS DO CÍRCULOS       \n",
      "------------------------------\n",
      "2m = 12.57m\n",
      "4m = 50.27m\n",
      "6m = 113.10m\n",
      "------------------------------\n"
     ]
    }
   ],
   "source": [
    "from math import pi\n",
    "\n",
    "def area_circulo(num):\n",
    "    return pi * (num ** 2)\n",
    "\n",
    "circulos = []\n",
    "while True:\n",
    "    raio = str(input('Raio do Círculo(m): ')).strip().title()\n",
    "    if raio == '':\n",
    "        break\n",
    "    elif raio.isnumeric():\n",
    "        raio = int(raio)\n",
    "        circulos.append(raio)\n",
    "    else:\n",
    "        print('Digite um valor válido!')\n",
    "\n",
    "areas = list(map(area_circulo, circulos))\n",
    "\n",
    "print('-' * 30)\n",
    "print('ÁREAS DOS CÍRCULOS'.center(30))\n",
    "print('-' * 30)\n",
    "for c, v in enumerate(areas):\n",
    "    print(f'{circulos[c]}m = {v:.2F}m')\n",
    "print('-' * 30)\n"
   ]
  },
  {
   "cell_type": "markdown",
   "id": "a6330d4e",
   "metadata": {},
   "source": [
    "#### Exercício 5:\n",
    "Escreva um programa que receba uma lista de frases como entrada e use a função map para contar o número de palavras em cada frase. Em seguida, imprima a lista de contagens de palavras."
   ]
  },
  {
   "cell_type": "code",
   "execution_count": 20,
   "id": "83b02275",
   "metadata": {},
   "outputs": [
    {
     "name": "stdout",
     "output_type": "stream",
     "text": [
      "------------------------------\n",
      "     CONTAGEM DE PALAVRAS     \n",
      "------------------------------\n",
      "Não renunciarei = 2 palavras\n",
      "Olá mundo! = 2 palavras\n",
      "Olá, tudo bem? = 3 palavras\n",
      "------------------------------\n"
     ]
    }
   ],
   "source": [
    "def contar(frase):\n",
    "    frase_separada = frase.split()\n",
    "    return len(frase_separada)\n",
    "\n",
    "expressoes = []\n",
    "while True:\n",
    "    expressao = str(input('Frase (Deixe em branco para finalizar a lista): ')).strip().replace('.', '').replace(',', '').replace('!', '').replace('?', '').replace('/', '').replace('|', '').replace('\\*', '')\n",
    "    if expressao == '':\n",
    "        break\n",
    "    expressoes.append(expressao)\n",
    "\n",
    "palavras = list(map(contar, expressoes))\n",
    "\n",
    "print('-' * 30)\n",
    "print('CONTAGEM DE PALAVRAS'.center(30))\n",
    "print('-' * 30)\n",
    "for c, p in enumerate(palavras):\n",
    "    print(f'{expressoes[c]} = {p} palavras')\n",
    "print('-' * 30)"
   ]
  }
 ],
 "metadata": {
  "kernelspec": {
   "display_name": "Python 3 (ipykernel)",
   "language": "python",
   "name": "python3"
  },
  "language_info": {
   "codemirror_mode": {
    "name": "ipython",
    "version": 3
   },
   "file_extension": ".py",
   "mimetype": "text/x-python",
   "name": "python",
   "nbconvert_exporter": "python",
   "pygments_lexer": "ipython3",
   "version": "3.11.4"
  }
 },
 "nbformat": 4,
 "nbformat_minor": 5
}
