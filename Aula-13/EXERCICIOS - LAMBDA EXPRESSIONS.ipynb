{
 "cells": [
  {
   "cell_type": "markdown",
   "id": "a89c014e",
   "metadata": {},
   "source": [
    "### Exercícios de Lambda Expressions\n",
    "####   ***** Tente fazer sozinho antes de consultar  *****"
   ]
  },
  {
   "cell_type": "markdown",
   "id": "8061fbc9",
   "metadata": {},
   "source": [
    "#### Exercício 1:\n",
    "Crie uma expressão lambda que retorne o quadrado de um número."
   ]
  },
  {
   "cell_type": "code",
   "execution_count": 2,
   "id": "395f7952",
   "metadata": {},
   "outputs": [
    {
     "name": "stdout",
     "output_type": "stream",
     "text": [
      "------------------------------\n",
      "           QUADRADO           \n",
      "------------------------------\n",
      "2.0 ** 2 = 4.0\n",
      "------------------------------\n"
     ]
    }
   ],
   "source": [
    "squares = lambda value: value ** 2\n",
    "num = float(input('Digite um número: '))\n",
    "\n",
    "print('-' * 30)\n",
    "print('QUADRADO'.center(30))\n",
    "print('-' * 30)\n",
    "print(f'{num} ** 2 = {squares(num)}')\n",
    "print('-' * 30)\n"
   ]
  },
  {
   "cell_type": "markdown",
   "id": "1bbe7872",
   "metadata": {},
   "source": [
    "#### Exercício 2:\n",
    "Escreva uma expressão lambda que verifique se um número é par.\n"
   ]
  },
  {
   "cell_type": "code",
   "execution_count": 11,
   "id": "7abd8103",
   "metadata": {},
   "outputs": [
    {
     "name": "stdout",
     "output_type": "stream",
     "text": [
      "------------------------------\n",
      "            É PAR?            \n",
      "------------------------------\n",
      "3.0 não é par!\n",
      "------------------------------\n"
     ]
    }
   ],
   "source": [
    "par = lambda value: 'é par!' if value % 2 == 0 else 'não é par!'\n",
    "num = float(input('Digite um número: '))\n",
    "\n",
    "print('-' * 30)\n",
    "print('É PAR?'.center(30))\n",
    "print('-' * 30)\n",
    "print(f'{num} {par(num)}')\n",
    "print('-' * 30)\n",
    "\n",
    "\n"
   ]
  },
  {
   "cell_type": "markdown",
   "id": "6437f95e",
   "metadata": {},
   "source": [
    "#### Exercício 3:\n",
    "Crie uma expressão lambda que calcule a média de três números."
   ]
  },
  {
   "cell_type": "code",
   "execution_count": 12,
   "id": "aa73c6e5",
   "metadata": {},
   "outputs": [
    {
     "name": "stdout",
     "output_type": "stream",
     "text": [
      "------------------------------\n",
      "            MÉDIA             \n",
      "------------------------------\n",
      "[10, 9, 8] = 9.0\n",
      "------------------------------\n"
     ]
    }
   ],
   "source": [
    "media = lambda nums: (sum(nums))/ (len(nums))\n",
    "\n",
    "numeros = []\n",
    "while True:\n",
    "    numero = str(input('Numero: ')).strip().title()\n",
    "    if numero == '':\n",
    "        break\n",
    "    elif numero.isnumeric():\n",
    "        numero = int(numero)\n",
    "        numeros.append(numero)\n",
    "    else:\n",
    "        print('Digite um valor válido!')\n",
    "\n",
    "print('-' * 30)\n",
    "print('MÉDIA'.center(30))\n",
    "print('-' * 30)\n",
    "print(f'{numeros} = {media(numeros)}')\n",
    "print('-' * 30)"
   ]
  }
 ],
 "metadata": {
  "kernelspec": {
   "display_name": "Python 3 (ipykernel)",
   "language": "python",
   "name": "python3"
  },
  "language_info": {
   "codemirror_mode": {
    "name": "ipython",
    "version": 3
   },
   "file_extension": ".py",
   "mimetype": "text/x-python",
   "name": "python",
   "nbconvert_exporter": "python",
   "pygments_lexer": "ipython3",
   "version": "3.11.4"
  }
 },
 "nbformat": 4,
 "nbformat_minor": 5
}
