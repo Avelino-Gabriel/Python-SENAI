{
  "cells": [
    {
      "cell_type": "markdown",
      "metadata": {
        "id": "rsCcO7j-xv-T"
      },
      "source": [
        "# Exercícios iterables - set - range"
      ]
    },
    {
      "cell_type": "markdown",
      "metadata": {
        "id": "p15zoqjcx_E0"
      },
      "source": [
        "\n",
        "\n",
        "\n",
        "\n",
        "\n",
        "\n",
        "\n",
        "\n",
        "\n",
        "."
      ]
    },
    {
      "cell_type": "markdown",
      "metadata": {
        "id": "KwqaC7qlxpsE"
      },
      "source": [
        "# Vamos mergulhar em uma jornada empolgante pelo mundo da programação em Python, explorando dois métodos poderosos: set() e range(). Vamos entender por que esses métodos são essenciais e como eles podem ser aplicados em várias situações para resolver problemas de maneira eficaz e elegante."
      ]
    },
    {
      "cell_type": "code",
      "execution_count": null,
      "metadata": {
        "id": "0ODmnhidtw-Q"
      },
      "outputs": [],
      "source": []
    },
    {
      "cell_type": "code",
      "execution_count": null,
      "metadata": {
        "id": "pbRVWhjYtxAQ"
      },
      "outputs": [],
      "source": []
    },
    {
      "cell_type": "markdown",
      "metadata": {
        "id": "P9Aqv322t_p4"
      },
      "source": [
        "Um usuário deseja gerar um conjunto de números de 0 até o valor que ele fornece como entrada. Ele quer ver a sequência de números até esse ponto.\n",
        "\n",
        "Exercício 1:\n",
        "Peça ao usuário para digitar um número inteiro. Use o método range() para gerar os números de 0 até esse número e, em seguida, crie um conjunto (set()) a partir desses números. Finalmente, exiba o conjunto resultante."
      ]
    },
    {
      "cell_type": "code",
      "execution_count": 12,
      "metadata": {
        "id": "zciq4waE_w95"
      },
      "outputs": [
        {
          "name": "stdout",
          "output_type": "stream",
          "text": [
            "0, 1, 2, 3, 4, 5, 6, 7, 8, 9\n",
            "[0, 1, 2, 3, 4, 5, 6, 7, 8, 9]\n",
            "{0, 1, 2, 3, 4, 5, 6, 7, 8, 9}\n"
          ]
        }
      ],
      "source": [
        "nums = []\n",
        "numero = int(input('Digite um número: '))\n",
        "for c in range(0, numero + 1):\n",
        "    nums.append(c)\n",
        "    print(c, end=', ' if c < numero else '')\n",
        "print()\n",
        "\n",
        "print(nums)\n",
        "set_nums = set(nums)\n",
        "print(set_nums)"
      ]
    },
    {
      "cell_type": "markdown",
      "metadata": {
        "id": "2u4CTx1xuNm4"
      },
      "source": [
        "Um professor quer criar um conjunto de notas dos alunos em uma faixa específica. Ele deseja saber as notas únicas nessa faixa.\n",
        "\n",
        "Exercício 2:\n",
        "Peça ao usuário para digitar um intervalo de notas, por exemplo, de 0 a 100. Utilize o método range() para gerar uma lista de notas nesse intervalo. Converta essa lista em um conjunto (set()) e exiba-o."
      ]
    },
    {
      "cell_type": "code",
      "execution_count": 31,
      "metadata": {
        "id": "JKUTpK54_xh4"
      },
      "outputs": [
        {
          "name": "stdout",
          "output_type": "stream",
          "text": [
            "{8.0, 9.0, 10.0, 3.0}\n"
          ]
        }
      ],
      "source": [
        "notas = []\n",
        "while True:\n",
        "    nota = str(input('Nota: ')).strip()\n",
        "    try:\n",
        "        nota = float(nota)\n",
        "        notas.append(nota)\n",
        "    except ValueError:\n",
        "        if nota == '':\n",
        "            break\n",
        "        else:\n",
        "            print('Digite um valor válido! ')\n",
        "\n",
        "set_notas = set(notas)\n",
        "print(set_notas)\n",
        "    "
      ]
    },
    {
      "cell_type": "markdown",
      "metadata": {
        "id": "DDIDT61luYpt"
      },
      "source": [
        "Você está organizando um evento onde precisa distribuir números de identificação únicos para os participantes. Cada número deve ser par e estar dentro de um certo intervalo.\n",
        "\n",
        "Exercício 3:\n",
        "Defina um intervalo de números, como de 10 a 50. Utilize o método range() para gerar uma lista de números pares dentro desse intervalo. Converta essa lista em um conjunto (set()) e exiba-o."
      ]
    },
    {
      "cell_type": "markdown",
      "metadata": {
        "id": "F_UWT9ID_zmZ"
      },
      "source": []
    },
    {
      "cell_type": "code",
      "execution_count": 33,
      "metadata": {
        "id": "H9JGpLnU_y3x"
      },
      "outputs": [
        {
          "name": "stdout",
          "output_type": "stream",
          "text": [
            "{10, 12, 14, 16, 18, 20, 22, 24, 26, 28, 30, 32, 34, 36, 38, 40, 42, 44, 46, 48, 50}\n"
          ]
        }
      ],
      "source": [
        "iden = []\n",
        "\n",
        "while True:\n",
        "    ini = int(input('Digite o número inicial: '))\n",
        "    if ini % 2 == 0:\n",
        "        break\n",
        "    else:\n",
        "        print('Digite um número par!')\n",
        "while True:\n",
        "    fim = int(input('Digite o número final: '))\n",
        "    if fim % 2 == 0:\n",
        "        break\n",
        "    else:\n",
        "        print('Digite um número par!')\n",
        "\n",
        "for c in range(ini, fim + 2, 2):\n",
        "    iden.append(c)\n",
        "\n",
        "set_iden = set(iden)\n",
        "print(set_iden)\n",
        "\n",
        "\n"
      ]
    },
    {
      "cell_type": "markdown",
      "metadata": {
        "id": "BMmP5QubujDM"
      },
      "source": [
        "Um usuário deseja saber todos os divisores de um número inteiro que ele fornece. Ele está interessado apenas nos divisores até a raiz quadrada desse número.\n",
        "\n",
        "Exercício 4:\n",
        "Peça ao usuário para digitar um número inteiro. Utilize o método range() para iterar sobre os números de 1 até a raiz quadrada desse número. Se o número for divisível por um valor no intervalo, adicione-o a um conjunto (set()) de divisores. Exiba o conjunto resultante."
      ]
    },
    {
      "cell_type": "code",
      "execution_count": 43,
      "metadata": {},
      "outputs": [
        {
          "name": "stdout",
          "output_type": "stream",
          "text": [
            "1\n",
            "3\n",
            "9\n",
            "{1, 3, 9}\n"
          ]
        }
      ],
      "source": [
        "divisores = []\n",
        "\n",
        "num = int(input('Digite um número inteiro: '))\n",
        "\n",
        "for c in range(1, int((num ** (1/2)) + 1)):\n",
        "    if num % c == 0:\n",
        "        print(c)\n",
        "        divisores.append(c)\n",
        "\n",
        "set_divisores = set(divisores)\n",
        "print(set_divisores)"
      ]
    },
    {
      "cell_type": "markdown",
      "metadata": {
        "id": "J7c5jaSfvRLA"
      },
      "source": [
        "Exercício 5:  Desenvolva um programa que gere um conjunto de letras únicas em uma string dada, utilizando o método set() e um loop sobre a string utilizando o range()."
      ]
    },
    {
      "cell_type": "code",
      "execution_count": 48,
      "metadata": {
        "id": "cq2F4fDj_1IA"
      },
      "outputs": [
        {
          "name": "stdout",
          "output_type": "stream",
          "text": [
            "{'u', 'd', 'á', 'o', 'n', 'l', 'm'}\n"
          ]
        }
      ],
      "source": [
        "string = str(input('Digite um texto: ')).replace(' ', '').replace(',', '').replace('.', '').replace('!', '').replace('?', '').replace(';', '').replace(':', '').replace('/', '').replace('|', '').replace('\\*', '').replace('\"', '').replace(\"'\", '').replace('(', '').replace(')', '').replace('[', '').replace(']', '').replace('{', '').replace('}', '').replace('@', '').replace('$', '').replace('%', '').replace('#', '').replace('&', '').strip()\n",
        "letras = []\n",
        "for c in range(0, len(string)):\n",
        "    letras.append(string[c])\n",
        "\n",
        "set_letras = set(letras)\n",
        "print(set_letras)"
      ]
    },
    {
      "cell_type": "markdown",
      "metadata": {
        "id": "BaO0w4pevrjx"
      },
      "source": [
        "Exercício 6:\n",
        "Situação-Problema: Um professor deseja manter um registro dos livros lidos por seus alunos durante o ano. Ele quer um conjunto de títulos únicos dos livros."
      ]
    },
    {
      "cell_type": "code",
      "execution_count": 49,
      "metadata": {
        "id": "gSt7kLbK_21A"
      },
      "outputs": [
        {
          "name": "stdout",
          "output_type": "stream",
          "text": [
            "{'O pequeno príncipe', 'A revolução dos bichos'}\n"
          ]
        }
      ],
      "source": [
        "livros = []\n",
        "\n",
        "while True:\n",
        "    titulo = str(input('Título do Livro: ')).strip().title()\n",
        "    if titulo == '':\n",
        "        break\n",
        "    \n",
        "    livros.append(titulo)\n",
        "\n",
        "set_livros = set(livros)\n",
        "print(set_livros)"
      ]
    },
    {
      "cell_type": "markdown",
      "metadata": {
        "id": "esuu-ylmwHkc"
      },
      "source": [
        "Exercício 7:\n",
        "Situação-Problema: Um programador está verificando erros de digitação em um trecho de código. Ela quer encontrar todas as teclas únicas pressionadas durante a digitação."
      ]
    },
    {
      "cell_type": "code",
      "execution_count": 51,
      "metadata": {
        "id": "enrccPgP_53w"
      },
      "outputs": [
        {
          "name": "stdout",
          "output_type": "stream",
          "text": [
            "{'u', '=', '[', ':', 'e', 'l', '(', 'k', 'p', 'd', \"'\", '_', 'i', 'r', 'v', 's', ']', '.', ')', 'o', 'n', 'í', 'f', 'h', 'b', ' ', 'w', 'a', 't'}\n"
          ]
        }
      ],
      "source": [
        "codigo = str(input('Digite o código: ')).lower()\n",
        "teclas = list(codigo)\n",
        "\n",
        "set_teclas = set(teclas)\n",
        "print(set_teclas)\n"
      ]
    },
    {
      "cell_type": "markdown",
      "metadata": {
        "id": "3_XLTZG4wQXN"
      },
      "source": [
        "Exercício 8:\n",
        "Situação-Problema: Um jogador de palavras cruzadas deseja saber todas as letras únicas que ele já utilizou em suas palavras."
      ]
    },
    {
      "cell_type": "code",
      "execution_count": 56,
      "metadata": {
        "id": "nndjeLXo_5YI"
      },
      "outputs": [
        {
          "name": "stdout",
          "output_type": "stream",
          "text": [
            "{'a', 'i', 'e', 'l', 'b'}\n"
          ]
        }
      ],
      "source": [
        "letras = []\n",
        "\n",
        "while True:\n",
        "    letra = str(input('Letra: ')).strip()\n",
        "    if letra.isalpha():\n",
        "        letras.append(letra)\n",
        "    elif letra == '':\n",
        "        break\n",
        "    else:\n",
        "        print('Digite um valor válido!')\n",
        "set_letras = set(letras)\n",
        "print(set_letras)"
      ]
    },
    {
      "cell_type": "markdown",
      "metadata": {
        "id": "7kzPhQEmwaUO"
      },
      "source": [
        "Exercício 9:\n",
        "Situação-Problema: Um gerente de loja deseja criar um programa de fidelidade. Ele quer manter um registro único dos números de telefone dos clientes que realizam compras."
      ]
    },
    {
      "cell_type": "code",
      "execution_count": 58,
      "metadata": {
        "id": "4DmZP3dm_8aQ"
      },
      "outputs": [
        {
          "name": "stdout",
          "output_type": "stream",
          "text": [
            "{'213212311', '65456454', '32132132'}\n"
          ]
        }
      ],
      "source": [
        "telefones = []\n",
        "\n",
        "while True:\n",
        "    num = str(input('Telefone: ')).strip()\n",
        "    if num.isnumeric():\n",
        "        telefones.append(num)\n",
        "    elif num == '':\n",
        "        break\n",
        "    else:\n",
        "        print('Digite um valor válido!')\n",
        "set_telefones = set(telefones)\n",
        "print(set_telefones)"
      ]
    },
    {
      "cell_type": "markdown",
      "metadata": {
        "id": "d_RYimcpweye"
      },
      "source": [
        "Exercício 10:\n",
        "Situação-Problema: Você está organizando um torneio esportivo e precisa criar um conjunto de equipes únicas que se inscreveram."
      ]
    },
    {
      "cell_type": "code",
      "execution_count": 63,
      "metadata": {
        "id": "g5NIxrFw_83I"
      },
      "outputs": [
        {
          "name": "stdout",
          "output_type": "stream",
          "text": [
            "{'Rensga', 'Veyd', 'Loud'}\n"
          ]
        }
      ],
      "source": [
        "equipes = []\n",
        "\n",
        "while True:\n",
        "    equipe = str(input('Nome da Equipe: ')).strip().title()\n",
        "        \n",
        "    if equipe == '':\n",
        "        break\n",
        "    else:\n",
        "        equipes.append(equipe)\n",
        "set_equipes = set(equipes)\n",
        "print(set_equipes)"
      ]
    },
    {
      "cell_type": "markdown",
      "metadata": {
        "id": "9A3ObHIhuoJ4"
      },
      "source": []
    }
  ],
  "metadata": {
    "colab": {
      "provenance": []
    },
    "kernelspec": {
      "display_name": "Python 3",
      "name": "python3"
    },
    "language_info": {
      "codemirror_mode": {
        "name": "ipython",
        "version": 3
      },
      "file_extension": ".py",
      "mimetype": "text/x-python",
      "name": "python",
      "nbconvert_exporter": "python",
      "pygments_lexer": "ipython3",
      "version": "3.11.4"
    }
  },
  "nbformat": 4,
  "nbformat_minor": 0
}
