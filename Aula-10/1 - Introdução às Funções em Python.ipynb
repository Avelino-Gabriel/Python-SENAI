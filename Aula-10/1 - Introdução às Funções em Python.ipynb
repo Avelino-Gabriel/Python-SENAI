{
 "cells": [
  {
   "cell_type": "markdown",
   "id": "d6fa79c4",
   "metadata": {},
   "source": [
    "# Exercícios de Introdução às Funções em Python"
   ]
  },
  {
   "cell_type": "markdown",
   "id": "6ea92414",
   "metadata": {},
   "source": [
    "######  . . . . .  . . . . . . . . . . . . . . . . . . . . . ..  . . . ..  .. .  ..  . . . . ..  . . . . . .. .  . . . . . . . . . ..  . .. .  . . .. . ..  .. .  . . . . . . . . .. . .  .. . . . . . .. . . . . . . . . . . . . . . . .. . . . . . .. \n",
    ".\n",
    "..\n",
    ".\n",
    "..\n",
    ".\n",
    "..\n",
    ".\n",
    "..\n"
   ]
  },
  {
   "cell_type": "markdown",
   "id": "66043de7",
   "metadata": {},
   "source": [
    "## Introdução ao uso de funções em Python. Funções são blocos de código que nos permitem organizar e reutilizar tarefas em nossos programas. Elas são uma parte fundamental da programação e nos ajudam a escrever código mais limpo, eficiente e modular.\n",
    "\n",
    "## Para praticar o que aprendemos, temos uma série de exercícios que envolvem o uso de funções básicas para realizar cálculos simples. Vocês deverão criar funções que resolvam os problemas propostos. Lembre-se de usar nomes significativos para suas funções e variáveis, para que o código seja claro e compreensível."
   ]
  },
  {
   "cell_type": "markdown",
   "id": "a7f6647f",
   "metadata": {},
   "source": [
    "## Exercício 1: Calcular a área de um retângulo\n",
    "### Situação Problema: Você está construindo um jardim retangular em sua casa. A largura do jardim é 5 metros e o comprimento é 8 metros. Qual é a área total do jardim?"
   ]
  },
  {
   "cell_type": "code",
   "execution_count": 6,
   "id": "931944a6",
   "metadata": {},
   "outputs": [
    {
     "name": "stdout",
     "output_type": "stream",
     "text": [
      "Largura: 4\n",
      "Comprimento: 5\n",
      "Área do Terreno: 20.0 m²\n"
     ]
    }
   ],
   "source": [
    "def area_retangular(l, c):\n",
    "    return l * c\n",
    "\n",
    "largura = float(input('Largura: '))\n",
    "comprimento = float(input('Comprimento: '))\n",
    "print(f'Área do Terreno: {area_retangular(largura, comprimento)} m²')\n",
    "    "
   ]
  },
  {
   "cell_type": "markdown",
   "id": "f9684318",
   "metadata": {},
   "source": [
    "## Exercício 2: Calcular o quadrado de um número\n",
    "### Situação Problema: Você está medindo o lado de um quadrado. O lado mede 6 metros. Qual é a área desse quadrado?"
   ]
  },
  {
   "cell_type": "code",
   "execution_count": 7,
   "id": "12546b18",
   "metadata": {},
   "outputs": [
    {
     "name": "stdout",
     "output_type": "stream",
     "text": [
      "Lado do quadrado: 6\n",
      "Área do Terreno: 36.0 m²\n"
     ]
    }
   ],
   "source": [
    "def area_quadrado(l):\n",
    "    return l ** 2\n",
    "\n",
    "lado = float(input('Lado do quadrado: '))\n",
    "\n",
    "print(f'Área do Quadrado: {area_quadrado(lado)} m²')"
   ]
  },
  {
   "cell_type": "markdown",
   "id": "3f96f770",
   "metadata": {},
   "source": [
    "## Exercício 3: Converter Celsius para Fahrenheit\n",
    "### Situação Problema: Você está em um país onde a temperatura é medida em Fahrenheit. A temperatura atual é 25 graus Celsius. Qual é a temperatura equivalente em Fahrenheit?"
   ]
  },
  {
   "cell_type": "code",
   "execution_count": 11,
   "id": "c1923918",
   "metadata": {},
   "outputs": [
    {
     "name": "stdout",
     "output_type": "stream",
     "text": [
      "Temperatura em Celsius: 25\n",
      "Temperatura em Fahrenheit: 77.0°F\n"
     ]
    }
   ],
   "source": [
    "#seu codigo aqui!\n",
    "def conversao(c):\n",
    "    return (9 * c) / 5 + 32\n",
    "\n",
    "celsius = float(input('Temperatura em Celsius: '))\n",
    "fahrenheit = conversao(celsius)\n",
    "print(f'Temperatura em Fahrenheit: {fahrenheit}°F')"
   ]
  },
  {
   "cell_type": "markdown",
   "id": "535c92f1",
   "metadata": {},
   "source": [
    "## Exercício 4: Calcular a média de três números\n",
    "### Situação Problema: Você fez três exames e obteve as seguintes notas: 7.5, 8.0 e 6.5. Qual é a sua média nessas três provas?"
   ]
  },
  {
   "cell_type": "code",
   "execution_count": 7,
   "id": "c2c4fae5",
   "metadata": {},
   "outputs": [
    {
     "name": "stdout",
     "output_type": "stream",
     "text": [
      "Digite uma nota válida!\n",
      "Digite uma nota válida!\n",
      "Digite uma nota válida!\n",
      "9.0\n"
     ]
    }
   ],
   "source": [
    "def media(*notas):\n",
    "    soma = 0\n",
    "    for n in notas:\n",
    "        soma += n\n",
    "    return soma / len(notas)\n",
    "\n",
    "notas_digitadas = []\n",
    "while True:\n",
    "    try:\n",
    "        nota = float(input('Nota(999 para parar): '))\n",
    "        if nota == 999:\n",
    "            break\n",
    "        notas_digitadas.append(nota)\n",
    "    except:\n",
    "        print('Digite uma nota válida!')\n",
    "print(f'Média: {media(*notas_digitadas):.2f}')\n",
    "    \n",
    "    "
   ]
  },
  {
   "cell_type": "markdown",
   "id": "dc19120f",
   "metadata": {},
   "source": [
    "## Exercício 5: Calcular a hipotenusa de um triângulo retângulo\n",
    "### Situação Problema: Você está construindo uma rampa para um skatepark. As duas partes da rampa formam um ângulo reto, e as medidas dos catetos são 4 metros e 5 metros. Qual é o comprimento da rampa (hipotenusa)?"
   ]
  },
  {
   "cell_type": "code",
   "execution_count": 16,
   "id": "e634d60c",
   "metadata": {},
   "outputs": [
    {
     "name": "stdout",
     "output_type": "stream",
     "text": [
      "1° Cateto: 4\n",
      "2° Cateto: 5\n",
      "Hipotenusa: 6.40\n"
     ]
    }
   ],
   "source": [
    "#seu codigo aqui!\n",
    "def hipotenusa(a, b):\n",
    "    return (a ** 2 + b ** 2) ** (1/2)\n",
    "\n",
    "catetos = []\n",
    "for c in range (0, 2):\n",
    "    cateto = float(input(f'{c + 1}° Cateto: '))\n",
    "    catetos.append(cateto)\n",
    "print(f'Hipotenusa: {hipotenusa(catetos[0], catetos[1]):.2f}')\n",
    "    "
   ]
  },
  {
   "cell_type": "markdown",
   "id": "63fa58f9",
   "metadata": {},
   "source": [
    "## Exercício 6: Calcular o perímetro de um quadrado\n",
    "### Situação Problema: Você está construindo um tapete quadrado para a sala de estar. Cada lado do tapete mede 3 metros. Qual é o perímetro total do tapete?"
   ]
  },
  {
   "cell_type": "code",
   "execution_count": 17,
   "id": "a2cc0651",
   "metadata": {},
   "outputs": [
    {
     "name": "stdout",
     "output_type": "stream",
     "text": [
      "Lado: 3\n",
      "Perímetro do Quadrado: 12.0\n"
     ]
    }
   ],
   "source": [
    "def perimetro_quadrado(l):\n",
    "    return l * 4\n",
    "lado = float(input('Lado: '))\n",
    "print(f'Perímetro do Quadrado: {perimetro_quadrado(lado)}')"
   ]
  },
  {
   "cell_type": "markdown",
   "id": "0bc6d476",
   "metadata": {},
   "source": [
    "## Exercício 7: Calcular a média ponderada de três notas\n",
    "### Situação Problema: Você está estudando para três disciplinas diferentes. Suas notas são: 7.0 em Matemática, 8.5 em Ciências e 9.5 em História. Se a Matemática tem peso 2, Ciências tem peso 3 e História tem peso 5, qual é a sua média ponderada?\n",
    "\n"
   ]
  },
  {
   "cell_type": "code",
   "execution_count": null,
   "id": "15b67f4a",
   "metadata": {},
   "outputs": [],
   "source": [
    "#seu codigo aqui!"
   ]
  },
  {
   "cell_type": "markdown",
   "id": "a411f83c",
   "metadata": {},
   "source": [
    "## Exercício 8: Calcular a área de um círculo\n",
    "### Situação Problema: Você está pintando um alvo circular em uma parede. O raio do círculo é 2 metros. Qual é a área total que você precisa pintar?"
   ]
  },
  {
   "cell_type": "code",
   "execution_count": null,
   "id": "e7a46d2d",
   "metadata": {},
   "outputs": [],
   "source": [
    "#seu codigo aqui!"
   ]
  },
  {
   "cell_type": "markdown",
   "id": "1d16b12a",
   "metadata": {},
   "source": [
    "## Exercício 9: Converter quilômetros para milhas\n",
    "### Situação Problema: Você está planejando uma viagem de carro. O percurso tem 200 quilômetros de extensão. Qual é a distância equivalente em milhas?\n",
    "\n",
    "\n",
    "\n",
    "\n"
   ]
  },
  {
   "cell_type": "code",
   "execution_count": null,
   "id": "1ca02ada",
   "metadata": {},
   "outputs": [],
   "source": [
    "#seu codigo aqui!"
   ]
  },
  {
   "cell_type": "markdown",
   "id": "b19544a3",
   "metadata": {},
   "source": [
    "## Exercício 10: Calcular a média aritmética de quatro números\n",
    "### Situação Problema: Você está acompanhando as notas de um aluno em quatro provas: 6.5, 7.0, 8.5 e 9.0. Qual é a média aritmética dessas quatro notas?\n",
    "\n",
    "\n"
   ]
  },
  {
   "cell_type": "code",
   "execution_count": null,
   "id": "10c84074",
   "metadata": {},
   "outputs": [],
   "source": [
    "#seu codigo aqui!"
   ]
  }
 ],
 "metadata": {
  "kernelspec": {
   "display_name": "Python 3 (ipykernel)",
   "language": "python",
   "name": "python3"
  },
  "language_info": {
   "codemirror_mode": {
    "name": "ipython",
    "version": 3
   },
   "file_extension": ".py",
   "mimetype": "text/x-python",
   "name": "python",
   "nbconvert_exporter": "python",
   "pygments_lexer": "ipython3",
   "version": "3.11.4"
  }
 },
 "nbformat": 4,
 "nbformat_minor": 5
}
